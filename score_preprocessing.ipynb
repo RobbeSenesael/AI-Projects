{
 "cells": [
  {
   "cell_type": "code",
   "execution_count": 32,
   "metadata": {},
   "outputs": [],
   "source": [
    "import os\n",
    "import numpy as np\n",
    "import pandas as pd\n",
    "import seaborn as sns\n",
    "import sklearn as skl\n",
    "import matplotlib as mpl\n",
    "import scipy.stats as stats\n",
    "import matplotlib.pyplot as plt\n",
    "from os import listdir\n",
    "#from google.colab import drive\n",
    "from sklearn.impute import SimpleImputer\n",
    "from sklearn.preprocessing import MinMaxScaler\n",
    "from scipy.stats import skew\n",
    "from sklearn.preprocessing import RobustScaler\n",
    "\n",
    "folder_path = '/content/drive/MyDrive/ML_Project'\n",
    "datasets_path = '/content/drive/MyDrive/ML_Project/datasets'"
   ]
  },
  {
   "cell_type": "code",
   "execution_count": 33,
   "metadata": {},
   "outputs": [],
   "source": [
    "#drive.mount('/content/drive/')\n",
    "df = pd.read_csv(f'datasets/score.csv')"
   ]
  },
  {
   "cell_type": "code",
   "execution_count": 34,
   "metadata": {},
   "outputs": [
    {
     "data": {
      "text/plain": [
       "(500, 50)"
      ]
     },
     "execution_count": 34,
     "metadata": {},
     "output_type": "execute_result"
    }
   ],
   "source": [
    "df.shape"
   ]
  },
  {
   "cell_type": "code",
   "execution_count": 35,
   "metadata": {},
   "outputs": [
    {
     "name": "stdout",
     "output_type": "stream",
     "text": [
      "<class 'pandas.core.frame.DataFrame'>\n",
      "RangeIndex: 500 entries, 0 to 499\n",
      "Data columns (total 50 columns):\n",
      " #   Column            Non-Null Count  Dtype  \n",
      "---  ------            --------------  -----  \n",
      " 0   income_am         496 non-null    float64\n",
      " 1   profit_last_am    496 non-null    float64\n",
      " 2   profit_am         496 non-null    float64\n",
      " 3   damage_am         497 non-null    float64\n",
      " 4   damage_inc        496 non-null    float64\n",
      " 5   crd_lim_rec       496 non-null    float64\n",
      " 6   credit_use_ic     496 non-null    float64\n",
      " 7   gluten_ic         496 non-null    float64\n",
      " 8   lactose_ic        496 non-null    float64\n",
      " 9   insurance_ic      496 non-null    float64\n",
      " 10  spa_ic            498 non-null    float64\n",
      " 11  empl_ic           500 non-null    float64\n",
      " 12  cab_requests      495 non-null    float64\n",
      " 13  married_cd        500 non-null    bool   \n",
      " 14  bar_no            496 non-null    float64\n",
      " 15  sport_ic          496 non-null    float64\n",
      " 16  neighbor_income   479 non-null    float64\n",
      " 17  age               496 non-null    float64\n",
      " 18  marketing_permit  496 non-null    float64\n",
      " 19  urban_ic          496 non-null    float64\n",
      " 20  dining_ic         495 non-null    float64\n",
      " 21  presidential      495 non-null    float64\n",
      " 22  client_segment    496 non-null    float64\n",
      " 23  sect_empl         496 non-null    float64\n",
      " 24  prev_stay         496 non-null    float64\n",
      " 25  prev_all_in_stay  496 non-null    float64\n",
      " 26  divorce           496 non-null    float64\n",
      " 27  fam_adult_size    496 non-null    float64\n",
      " 28  children_no       496 non-null    float64\n",
      " 29  tenure_mts        461 non-null    float64\n",
      " 30  tenure_yrs        461 non-null    float64\n",
      " 31  company_ic        496 non-null    float64\n",
      " 32  claims_no         496 non-null    float64\n",
      " 33  claims_am         499 non-null    float64\n",
      " 34  nights_booked     496 non-null    float64\n",
      " 35  gender            496 non-null    object \n",
      " 36  shop_am           496 non-null    float64\n",
      " 37  shop_use          495 non-null    float64\n",
      " 38  retired           496 non-null    float64\n",
      " 39  gold_status       496 non-null    float64\n",
      " 40  score1_pos        122 non-null    float64\n",
      " 41  score1_neg        134 non-null    float64\n",
      " 42  score2_pos        111 non-null    float64\n",
      " 43  score2_neg        124 non-null    float64\n",
      " 44  score3_pos        136 non-null    float64\n",
      " 45  score3_neg        145 non-null    float64\n",
      " 46  score4_pos        119 non-null    float64\n",
      " 47  score4_neg        126 non-null    float64\n",
      " 48  score5_pos        132 non-null    float64\n",
      " 49  score5_neg        154 non-null    float64\n",
      "dtypes: bool(1), float64(48), object(1)\n",
      "memory usage: 192.0+ KB\n"
     ]
    }
   ],
   "source": [
    "df.info()"
   ]
  },
  {
   "cell_type": "code",
   "execution_count": 36,
   "metadata": {},
   "outputs": [
    {
     "data": {
      "text/plain": [
       "income_am             4\n",
       "profit_last_am        4\n",
       "profit_am             4\n",
       "damage_am             3\n",
       "damage_inc            4\n",
       "crd_lim_rec           4\n",
       "credit_use_ic         4\n",
       "gluten_ic             4\n",
       "lactose_ic            4\n",
       "insurance_ic          4\n",
       "spa_ic                2\n",
       "cab_requests          5\n",
       "bar_no                4\n",
       "sport_ic              4\n",
       "neighbor_income      21\n",
       "age                   4\n",
       "marketing_permit      4\n",
       "urban_ic              4\n",
       "dining_ic             5\n",
       "presidential          5\n",
       "client_segment        4\n",
       "sect_empl             4\n",
       "prev_stay             4\n",
       "prev_all_in_stay      4\n",
       "divorce               4\n",
       "fam_adult_size        4\n",
       "children_no           4\n",
       "tenure_mts           39\n",
       "tenure_yrs           39\n",
       "company_ic            4\n",
       "claims_no             4\n",
       "claims_am             1\n",
       "nights_booked         4\n",
       "gender                4\n",
       "shop_am               4\n",
       "shop_use              5\n",
       "retired               4\n",
       "gold_status           4\n",
       "score1_pos          378\n",
       "score1_neg          366\n",
       "score2_pos          389\n",
       "score2_neg          376\n",
       "score3_pos          364\n",
       "score3_neg          355\n",
       "score4_pos          381\n",
       "score4_neg          374\n",
       "score5_pos          368\n",
       "score5_neg          346\n",
       "dtype: int64"
      ]
     },
     "execution_count": 36,
     "metadata": {},
     "output_type": "execute_result"
    }
   ],
   "source": [
    "df.isnull().sum()[df.isnull().sum() != 0]"
   ]
  },
  {
   "cell_type": "code",
   "execution_count": 37,
   "metadata": {},
   "outputs": [
    {
     "data": {
      "text/plain": [
       "income_am           99.92\n",
       "profit_last_am      99.92\n",
       "profit_am           99.92\n",
       "damage_am           99.94\n",
       "damage_inc          99.92\n",
       "crd_lim_rec         99.92\n",
       "credit_use_ic       99.92\n",
       "gluten_ic           99.92\n",
       "lactose_ic          99.92\n",
       "insurance_ic        99.92\n",
       "spa_ic              99.96\n",
       "cab_requests        99.90\n",
       "bar_no              99.92\n",
       "sport_ic            99.92\n",
       "neighbor_income     99.58\n",
       "age                 99.92\n",
       "marketing_permit    99.92\n",
       "urban_ic            99.92\n",
       "dining_ic           99.90\n",
       "presidential        99.90\n",
       "client_segment      99.92\n",
       "sect_empl           99.92\n",
       "prev_stay           99.92\n",
       "prev_all_in_stay    99.92\n",
       "divorce             99.92\n",
       "fam_adult_size      99.92\n",
       "children_no         99.92\n",
       "tenure_mts          99.22\n",
       "tenure_yrs          99.22\n",
       "company_ic          99.92\n",
       "claims_no           99.92\n",
       "claims_am           99.98\n",
       "nights_booked       99.92\n",
       "gender              99.92\n",
       "shop_am             99.92\n",
       "shop_use            99.90\n",
       "retired             99.92\n",
       "gold_status         99.92\n",
       "score1_pos          92.44\n",
       "score1_neg          92.68\n",
       "score2_pos          92.22\n",
       "score2_neg          92.48\n",
       "score3_pos          92.72\n",
       "score3_neg          92.90\n",
       "score4_pos          92.38\n",
       "score4_neg          92.52\n",
       "score5_pos          92.64\n",
       "score5_neg          93.08\n",
       "dtype: float64"
      ]
     },
     "execution_count": 37,
     "metadata": {},
     "output_type": "execute_result"
    }
   ],
   "source": [
    "(5000-df.isnull().sum()[df.isnull().sum() != 0])/5000*100"
   ]
  },
  {
   "cell_type": "code",
   "execution_count": 38,
   "metadata": {},
   "outputs": [
    {
     "data": {
      "text/plain": [
       "(500, 50)"
      ]
     },
     "execution_count": 38,
     "metadata": {},
     "output_type": "execute_result"
    }
   ],
   "source": [
    "df_no_dup = df.copy()\n",
    "df_no_dup.drop_duplicates()\n",
    "df_no_dup.shape"
   ]
  },
  {
   "cell_type": "code",
   "execution_count": 39,
   "metadata": {},
   "outputs": [],
   "source": [
    "df_converted = df_no_dup.copy()"
   ]
  },
  {
   "cell_type": "code",
   "execution_count": 40,
   "metadata": {},
   "outputs": [],
   "source": [
    "bools = ['credit_use_ic', 'gluten_ic', 'lactose_ic', 'insurance_ic', \n",
    "           'spa_ic', 'empl_ic', 'married_cd', 'sport_ic', 'marketing_permit',\n",
    "           'urban_ic', 'dining_ic', 'presidential', 'prev_stay',\n",
    "           'prev_all_in_stay', 'divorce', 'company_ic', 'shop_use', 'retired', 'gold_status']\n",
    "\n",
    "df_converted['married_cd'] = df_converted['married_cd']*1\n",
    "\n",
    "new_names = {}\n",
    "\n",
    "for col in bools:\n",
    "  df_converted[col] = df_converted[col].astype('category')\n",
    "\n",
    "  if '_ic' not in col:\n",
    "    new_name = f\"{col}_ic\"\n",
    "    new_names[col] = new_name\n",
    "\n",
    "df_converted = df_converted.rename(columns=new_names)"
   ]
  },
  {
   "cell_type": "code",
   "execution_count": 41,
   "metadata": {},
   "outputs": [
    {
     "name": "stdout",
     "output_type": "stream",
     "text": [
      "<class 'pandas.core.frame.DataFrame'>\n",
      "RangeIndex: 500 entries, 0 to 499\n",
      "Data columns (total 50 columns):\n",
      " #   Column            Non-Null Count  Dtype  \n",
      "---  ------            --------------  -----  \n",
      " 0   income_am         496 non-null    float64\n",
      " 1   profit_last_am    496 non-null    float64\n",
      " 2   profit_am         496 non-null    float64\n",
      " 3   damage_am         497 non-null    float64\n",
      " 4   damage_inc        496 non-null    float64\n",
      " 5   crd_lim_rec       496 non-null    float64\n",
      " 6   credit_use_ic     496 non-null    float64\n",
      " 7   gluten_ic         496 non-null    float64\n",
      " 8   lactose_ic        496 non-null    float64\n",
      " 9   insurance_ic      496 non-null    float64\n",
      " 10  spa_ic            498 non-null    float64\n",
      " 11  empl_ic           500 non-null    float64\n",
      " 12  cab_requests      495 non-null    float64\n",
      " 13  married_cd        500 non-null    bool   \n",
      " 14  bar_no            496 non-null    float64\n",
      " 15  sport_ic          496 non-null    float64\n",
      " 16  neighbor_income   479 non-null    float64\n",
      " 17  age               496 non-null    float64\n",
      " 18  marketing_permit  496 non-null    float64\n",
      " 19  urban_ic          496 non-null    float64\n",
      " 20  dining_ic         495 non-null    float64\n",
      " 21  presidential      495 non-null    float64\n",
      " 22  client_segment    496 non-null    float64\n",
      " 23  sect_empl         496 non-null    float64\n",
      " 24  prev_stay         496 non-null    float64\n",
      " 25  prev_all_in_stay  496 non-null    float64\n",
      " 26  divorce           496 non-null    float64\n",
      " 27  fam_adult_size    496 non-null    float64\n",
      " 28  children_no       496 non-null    float64\n",
      " 29  tenure_mts        461 non-null    float64\n",
      " 30  tenure_yrs        461 non-null    float64\n",
      " 31  company_ic        496 non-null    float64\n",
      " 32  claims_no         496 non-null    float64\n",
      " 33  claims_am         499 non-null    float64\n",
      " 34  nights_booked     496 non-null    float64\n",
      " 35  gender            496 non-null    object \n",
      " 36  shop_am           496 non-null    float64\n",
      " 37  shop_use          495 non-null    float64\n",
      " 38  retired           496 non-null    float64\n",
      " 39  gold_status       496 non-null    float64\n",
      " 40  score1_pos        122 non-null    float64\n",
      " 41  score1_neg        134 non-null    float64\n",
      " 42  score2_pos        111 non-null    float64\n",
      " 43  score2_neg        124 non-null    float64\n",
      " 44  score3_pos        136 non-null    float64\n",
      " 45  score3_neg        145 non-null    float64\n",
      " 46  score4_pos        119 non-null    float64\n",
      " 47  score4_neg        126 non-null    float64\n",
      " 48  score5_pos        132 non-null    float64\n",
      " 49  score5_neg        154 non-null    float64\n",
      "dtypes: bool(1), float64(48), object(1)\n",
      "memory usage: 192.0+ KB\n"
     ]
    }
   ],
   "source": [
    "df.info()"
   ]
  },
  {
   "cell_type": "code",
   "execution_count": 42,
   "metadata": {},
   "outputs": [
    {
     "data": {
      "text/html": [
       "<div>\n",
       "<style scoped>\n",
       "    .dataframe tbody tr th:only-of-type {\n",
       "        vertical-align: middle;\n",
       "    }\n",
       "\n",
       "    .dataframe tbody tr th {\n",
       "        vertical-align: top;\n",
       "    }\n",
       "\n",
       "    .dataframe thead th {\n",
       "        text-align: right;\n",
       "    }\n",
       "</style>\n",
       "<table border=\"1\" class=\"dataframe\">\n",
       "  <thead>\n",
       "    <tr style=\"text-align: right;\">\n",
       "      <th></th>\n",
       "      <th>income_am</th>\n",
       "      <th>profit_last_am</th>\n",
       "      <th>profit_am</th>\n",
       "      <th>damage_am</th>\n",
       "      <th>damage_inc</th>\n",
       "      <th>crd_lim_rec</th>\n",
       "      <th>credit_use_ic</th>\n",
       "      <th>gluten_ic</th>\n",
       "      <th>lactose_ic</th>\n",
       "      <th>insurance_ic</th>\n",
       "      <th>spa_ic</th>\n",
       "      <th>empl_ic</th>\n",
       "      <th>cab_requests</th>\n",
       "      <th>married_cd_ic</th>\n",
       "      <th>bar_no</th>\n",
       "      <th>sport_ic</th>\n",
       "      <th>neighbor_income</th>\n",
       "      <th>age</th>\n",
       "      <th>marketing_permit_ic</th>\n",
       "      <th>urban_ic</th>\n",
       "    </tr>\n",
       "  </thead>\n",
       "  <tbody>\n",
       "    <tr>\n",
       "      <th>count</th>\n",
       "      <td>496.000000</td>\n",
       "      <td>496.000000</td>\n",
       "      <td>496.000000</td>\n",
       "      <td>497.000000</td>\n",
       "      <td>496.000000</td>\n",
       "      <td>496.000000</td>\n",
       "      <td>496.0</td>\n",
       "      <td>496.0</td>\n",
       "      <td>496.0</td>\n",
       "      <td>496.0</td>\n",
       "      <td>498.0</td>\n",
       "      <td>500.0</td>\n",
       "      <td>495.000000</td>\n",
       "      <td>500.0</td>\n",
       "      <td>496.000000</td>\n",
       "      <td>496.0</td>\n",
       "      <td>479.000000</td>\n",
       "      <td>496.000000</td>\n",
       "      <td>496.0</td>\n",
       "      <td>496.0</td>\n",
       "    </tr>\n",
       "    <tr>\n",
       "      <th>unique</th>\n",
       "      <td>NaN</td>\n",
       "      <td>NaN</td>\n",
       "      <td>NaN</td>\n",
       "      <td>NaN</td>\n",
       "      <td>NaN</td>\n",
       "      <td>NaN</td>\n",
       "      <td>2.0</td>\n",
       "      <td>2.0</td>\n",
       "      <td>2.0</td>\n",
       "      <td>2.0</td>\n",
       "      <td>2.0</td>\n",
       "      <td>2.0</td>\n",
       "      <td>NaN</td>\n",
       "      <td>2.0</td>\n",
       "      <td>NaN</td>\n",
       "      <td>2.0</td>\n",
       "      <td>NaN</td>\n",
       "      <td>NaN</td>\n",
       "      <td>2.0</td>\n",
       "      <td>2.0</td>\n",
       "    </tr>\n",
       "    <tr>\n",
       "      <th>top</th>\n",
       "      <td>NaN</td>\n",
       "      <td>NaN</td>\n",
       "      <td>NaN</td>\n",
       "      <td>NaN</td>\n",
       "      <td>NaN</td>\n",
       "      <td>NaN</td>\n",
       "      <td>0.0</td>\n",
       "      <td>0.0</td>\n",
       "      <td>0.0</td>\n",
       "      <td>0.0</td>\n",
       "      <td>0.0</td>\n",
       "      <td>0.0</td>\n",
       "      <td>NaN</td>\n",
       "      <td>1.0</td>\n",
       "      <td>NaN</td>\n",
       "      <td>0.0</td>\n",
       "      <td>NaN</td>\n",
       "      <td>NaN</td>\n",
       "      <td>0.0</td>\n",
       "      <td>1.0</td>\n",
       "    </tr>\n",
       "    <tr>\n",
       "      <th>freq</th>\n",
       "      <td>NaN</td>\n",
       "      <td>NaN</td>\n",
       "      <td>NaN</td>\n",
       "      <td>NaN</td>\n",
       "      <td>NaN</td>\n",
       "      <td>NaN</td>\n",
       "      <td>479.0</td>\n",
       "      <td>484.0</td>\n",
       "      <td>451.0</td>\n",
       "      <td>305.0</td>\n",
       "      <td>322.0</td>\n",
       "      <td>493.0</td>\n",
       "      <td>NaN</td>\n",
       "      <td>403.0</td>\n",
       "      <td>NaN</td>\n",
       "      <td>357.0</td>\n",
       "      <td>NaN</td>\n",
       "      <td>NaN</td>\n",
       "      <td>250.0</td>\n",
       "      <td>435.0</td>\n",
       "    </tr>\n",
       "    <tr>\n",
       "      <th>mean</th>\n",
       "      <td>2573.516129</td>\n",
       "      <td>633.254032</td>\n",
       "      <td>3891.360887</td>\n",
       "      <td>148.293763</td>\n",
       "      <td>0.385081</td>\n",
       "      <td>3388.104839</td>\n",
       "      <td>NaN</td>\n",
       "      <td>NaN</td>\n",
       "      <td>NaN</td>\n",
       "      <td>NaN</td>\n",
       "      <td>NaN</td>\n",
       "      <td>NaN</td>\n",
       "      <td>5.886869</td>\n",
       "      <td>NaN</td>\n",
       "      <td>5.572581</td>\n",
       "      <td>NaN</td>\n",
       "      <td>32676.807933</td>\n",
       "      <td>44.336694</td>\n",
       "      <td>NaN</td>\n",
       "      <td>NaN</td>\n",
       "    </tr>\n",
       "    <tr>\n",
       "      <th>std</th>\n",
       "      <td>7019.691435</td>\n",
       "      <td>1136.802174</td>\n",
       "      <td>5284.425448</td>\n",
       "      <td>436.478086</td>\n",
       "      <td>0.911708</td>\n",
       "      <td>4620.095504</td>\n",
       "      <td>NaN</td>\n",
       "      <td>NaN</td>\n",
       "      <td>NaN</td>\n",
       "      <td>NaN</td>\n",
       "      <td>NaN</td>\n",
       "      <td>NaN</td>\n",
       "      <td>2.936461</td>\n",
       "      <td>NaN</td>\n",
       "      <td>4.465669</td>\n",
       "      <td>NaN</td>\n",
       "      <td>6170.830312</td>\n",
       "      <td>15.834419</td>\n",
       "      <td>NaN</td>\n",
       "      <td>NaN</td>\n",
       "    </tr>\n",
       "    <tr>\n",
       "      <th>min</th>\n",
       "      <td>227.000000</td>\n",
       "      <td>0.000000</td>\n",
       "      <td>1620.000000</td>\n",
       "      <td>0.000000</td>\n",
       "      <td>0.000000</td>\n",
       "      <td>0.000000</td>\n",
       "      <td>NaN</td>\n",
       "      <td>NaN</td>\n",
       "      <td>NaN</td>\n",
       "      <td>NaN</td>\n",
       "      <td>NaN</td>\n",
       "      <td>NaN</td>\n",
       "      <td>0.000000</td>\n",
       "      <td>NaN</td>\n",
       "      <td>0.000000</td>\n",
       "      <td>NaN</td>\n",
       "      <td>15088.000000</td>\n",
       "      <td>16.000000</td>\n",
       "      <td>NaN</td>\n",
       "      <td>NaN</td>\n",
       "    </tr>\n",
       "    <tr>\n",
       "      <th>25%</th>\n",
       "      <td>232.500000</td>\n",
       "      <td>0.000000</td>\n",
       "      <td>1637.000000</td>\n",
       "      <td>0.000000</td>\n",
       "      <td>0.000000</td>\n",
       "      <td>0.000000</td>\n",
       "      <td>NaN</td>\n",
       "      <td>NaN</td>\n",
       "      <td>NaN</td>\n",
       "      <td>NaN</td>\n",
       "      <td>NaN</td>\n",
       "      <td>NaN</td>\n",
       "      <td>4.000000</td>\n",
       "      <td>NaN</td>\n",
       "      <td>3.000000</td>\n",
       "      <td>NaN</td>\n",
       "      <td>28884.000000</td>\n",
       "      <td>32.000000</td>\n",
       "      <td>NaN</td>\n",
       "      <td>NaN</td>\n",
       "    </tr>\n",
       "    <tr>\n",
       "      <th>50%</th>\n",
       "      <td>528.500000</td>\n",
       "      <td>101.500000</td>\n",
       "      <td>1955.000000</td>\n",
       "      <td>0.000000</td>\n",
       "      <td>0.000000</td>\n",
       "      <td>750.000000</td>\n",
       "      <td>NaN</td>\n",
       "      <td>NaN</td>\n",
       "      <td>NaN</td>\n",
       "      <td>NaN</td>\n",
       "      <td>NaN</td>\n",
       "      <td>NaN</td>\n",
       "      <td>6.000000</td>\n",
       "      <td>NaN</td>\n",
       "      <td>5.000000</td>\n",
       "      <td>NaN</td>\n",
       "      <td>32155.000000</td>\n",
       "      <td>44.000000</td>\n",
       "      <td>NaN</td>\n",
       "      <td>NaN</td>\n",
       "    </tr>\n",
       "    <tr>\n",
       "      <th>75%</th>\n",
       "      <td>2223.750000</td>\n",
       "      <td>817.000000</td>\n",
       "      <td>3578.500000</td>\n",
       "      <td>0.000000</td>\n",
       "      <td>0.000000</td>\n",
       "      <td>5000.000000</td>\n",
       "      <td>NaN</td>\n",
       "      <td>NaN</td>\n",
       "      <td>NaN</td>\n",
       "      <td>NaN</td>\n",
       "      <td>NaN</td>\n",
       "      <td>NaN</td>\n",
       "      <td>8.000000</td>\n",
       "      <td>NaN</td>\n",
       "      <td>8.000000</td>\n",
       "      <td>NaN</td>\n",
       "      <td>35774.500000</td>\n",
       "      <td>56.000000</td>\n",
       "      <td>NaN</td>\n",
       "      <td>NaN</td>\n",
       "    </tr>\n",
       "    <tr>\n",
       "      <th>max</th>\n",
       "      <td>122993.000000</td>\n",
       "      <td>9463.000000</td>\n",
       "      <td>42142.000000</td>\n",
       "      <td>3343.000000</td>\n",
       "      <td>7.000000</td>\n",
       "      <td>15000.000000</td>\n",
       "      <td>NaN</td>\n",
       "      <td>NaN</td>\n",
       "      <td>NaN</td>\n",
       "      <td>NaN</td>\n",
       "      <td>NaN</td>\n",
       "      <td>NaN</td>\n",
       "      <td>14.000000</td>\n",
       "      <td>NaN</td>\n",
       "      <td>44.000000</td>\n",
       "      <td>NaN</td>\n",
       "      <td>56332.000000</td>\n",
       "      <td>84.000000</td>\n",
       "      <td>NaN</td>\n",
       "      <td>NaN</td>\n",
       "    </tr>\n",
       "  </tbody>\n",
       "</table>\n",
       "</div>"
      ],
      "text/plain": [
       "            income_am  profit_last_am     profit_am    damage_am  damage_inc  \\\n",
       "count      496.000000      496.000000    496.000000   497.000000  496.000000   \n",
       "unique            NaN             NaN           NaN          NaN         NaN   \n",
       "top               NaN             NaN           NaN          NaN         NaN   \n",
       "freq              NaN             NaN           NaN          NaN         NaN   \n",
       "mean      2573.516129      633.254032   3891.360887   148.293763    0.385081   \n",
       "std       7019.691435     1136.802174   5284.425448   436.478086    0.911708   \n",
       "min        227.000000        0.000000   1620.000000     0.000000    0.000000   \n",
       "25%        232.500000        0.000000   1637.000000     0.000000    0.000000   \n",
       "50%        528.500000      101.500000   1955.000000     0.000000    0.000000   \n",
       "75%       2223.750000      817.000000   3578.500000     0.000000    0.000000   \n",
       "max     122993.000000     9463.000000  42142.000000  3343.000000    7.000000   \n",
       "\n",
       "         crd_lim_rec  credit_use_ic  gluten_ic  lactose_ic  insurance_ic  \\\n",
       "count     496.000000          496.0      496.0       496.0         496.0   \n",
       "unique           NaN            2.0        2.0         2.0           2.0   \n",
       "top              NaN            0.0        0.0         0.0           0.0   \n",
       "freq             NaN          479.0      484.0       451.0         305.0   \n",
       "mean     3388.104839            NaN        NaN         NaN           NaN   \n",
       "std      4620.095504            NaN        NaN         NaN           NaN   \n",
       "min         0.000000            NaN        NaN         NaN           NaN   \n",
       "25%         0.000000            NaN        NaN         NaN           NaN   \n",
       "50%       750.000000            NaN        NaN         NaN           NaN   \n",
       "75%      5000.000000            NaN        NaN         NaN           NaN   \n",
       "max     15000.000000            NaN        NaN         NaN           NaN   \n",
       "\n",
       "        spa_ic  empl_ic  cab_requests  married_cd_ic      bar_no  sport_ic  \\\n",
       "count    498.0    500.0    495.000000          500.0  496.000000     496.0   \n",
       "unique     2.0      2.0           NaN            2.0         NaN       2.0   \n",
       "top        0.0      0.0           NaN            1.0         NaN       0.0   \n",
       "freq     322.0    493.0           NaN          403.0         NaN     357.0   \n",
       "mean       NaN      NaN      5.886869            NaN    5.572581       NaN   \n",
       "std        NaN      NaN      2.936461            NaN    4.465669       NaN   \n",
       "min        NaN      NaN      0.000000            NaN    0.000000       NaN   \n",
       "25%        NaN      NaN      4.000000            NaN    3.000000       NaN   \n",
       "50%        NaN      NaN      6.000000            NaN    5.000000       NaN   \n",
       "75%        NaN      NaN      8.000000            NaN    8.000000       NaN   \n",
       "max        NaN      NaN     14.000000            NaN   44.000000       NaN   \n",
       "\n",
       "        neighbor_income         age  marketing_permit_ic  urban_ic  \n",
       "count        479.000000  496.000000                496.0     496.0  \n",
       "unique              NaN         NaN                  2.0       2.0  \n",
       "top                 NaN         NaN                  0.0       1.0  \n",
       "freq                NaN         NaN                250.0     435.0  \n",
       "mean       32676.807933   44.336694                  NaN       NaN  \n",
       "std         6170.830312   15.834419                  NaN       NaN  \n",
       "min        15088.000000   16.000000                  NaN       NaN  \n",
       "25%        28884.000000   32.000000                  NaN       NaN  \n",
       "50%        32155.000000   44.000000                  NaN       NaN  \n",
       "75%        35774.500000   56.000000                  NaN       NaN  \n",
       "max        56332.000000   84.000000                  NaN       NaN  "
      ]
     },
     "execution_count": 42,
     "metadata": {},
     "output_type": "execute_result"
    }
   ],
   "source": [
    "df_converted.iloc[:,0:20].describe(include='all')"
   ]
  },
  {
   "cell_type": "code",
   "execution_count": 43,
   "metadata": {},
   "outputs": [
    {
     "data": {
      "text/html": [
       "<div>\n",
       "<style scoped>\n",
       "    .dataframe tbody tr th:only-of-type {\n",
       "        vertical-align: middle;\n",
       "    }\n",
       "\n",
       "    .dataframe tbody tr th {\n",
       "        vertical-align: top;\n",
       "    }\n",
       "\n",
       "    .dataframe thead th {\n",
       "        text-align: right;\n",
       "    }\n",
       "</style>\n",
       "<table border=\"1\" class=\"dataframe\">\n",
       "  <thead>\n",
       "    <tr style=\"text-align: right;\">\n",
       "      <th></th>\n",
       "      <th>dining_ic</th>\n",
       "      <th>presidential_ic</th>\n",
       "      <th>client_segment</th>\n",
       "      <th>sect_empl</th>\n",
       "      <th>prev_stay_ic</th>\n",
       "      <th>prev_all_in_stay_ic</th>\n",
       "      <th>divorce_ic</th>\n",
       "      <th>fam_adult_size</th>\n",
       "      <th>children_no</th>\n",
       "      <th>tenure_mts</th>\n",
       "      <th>tenure_yrs</th>\n",
       "      <th>company_ic</th>\n",
       "      <th>claims_no</th>\n",
       "      <th>claims_am</th>\n",
       "      <th>nights_booked</th>\n",
       "      <th>gender</th>\n",
       "      <th>shop_am</th>\n",
       "      <th>shop_use_ic</th>\n",
       "      <th>retired_ic</th>\n",
       "      <th>gold_status_ic</th>\n",
       "    </tr>\n",
       "  </thead>\n",
       "  <tbody>\n",
       "    <tr>\n",
       "      <th>count</th>\n",
       "      <td>495.0</td>\n",
       "      <td>495.0</td>\n",
       "      <td>496.000000</td>\n",
       "      <td>496.000000</td>\n",
       "      <td>496.0</td>\n",
       "      <td>496.0</td>\n",
       "      <td>496.0</td>\n",
       "      <td>496.000000</td>\n",
       "      <td>496.000000</td>\n",
       "      <td>461.000000</td>\n",
       "      <td>461.000000</td>\n",
       "      <td>496.0</td>\n",
       "      <td>496.00000</td>\n",
       "      <td>499.000000</td>\n",
       "      <td>496.000000</td>\n",
       "      <td>496</td>\n",
       "      <td>496.000000</td>\n",
       "      <td>495.0</td>\n",
       "      <td>496.0</td>\n",
       "      <td>496.0</td>\n",
       "    </tr>\n",
       "    <tr>\n",
       "      <th>unique</th>\n",
       "      <td>2.0</td>\n",
       "      <td>2.0</td>\n",
       "      <td>NaN</td>\n",
       "      <td>NaN</td>\n",
       "      <td>2.0</td>\n",
       "      <td>2.0</td>\n",
       "      <td>2.0</td>\n",
       "      <td>NaN</td>\n",
       "      <td>NaN</td>\n",
       "      <td>NaN</td>\n",
       "      <td>NaN</td>\n",
       "      <td>2.0</td>\n",
       "      <td>NaN</td>\n",
       "      <td>NaN</td>\n",
       "      <td>NaN</td>\n",
       "      <td>2</td>\n",
       "      <td>NaN</td>\n",
       "      <td>2.0</td>\n",
       "      <td>2.0</td>\n",
       "      <td>2.0</td>\n",
       "    </tr>\n",
       "    <tr>\n",
       "      <th>top</th>\n",
       "      <td>0.0</td>\n",
       "      <td>0.0</td>\n",
       "      <td>NaN</td>\n",
       "      <td>NaN</td>\n",
       "      <td>1.0</td>\n",
       "      <td>0.0</td>\n",
       "      <td>0.0</td>\n",
       "      <td>NaN</td>\n",
       "      <td>NaN</td>\n",
       "      <td>NaN</td>\n",
       "      <td>NaN</td>\n",
       "      <td>0.0</td>\n",
       "      <td>NaN</td>\n",
       "      <td>NaN</td>\n",
       "      <td>NaN</td>\n",
       "      <td>V</td>\n",
       "      <td>NaN</td>\n",
       "      <td>0.0</td>\n",
       "      <td>0.0</td>\n",
       "      <td>0.0</td>\n",
       "    </tr>\n",
       "    <tr>\n",
       "      <th>freq</th>\n",
       "      <td>470.0</td>\n",
       "      <td>494.0</td>\n",
       "      <td>NaN</td>\n",
       "      <td>NaN</td>\n",
       "      <td>446.0</td>\n",
       "      <td>367.0</td>\n",
       "      <td>444.0</td>\n",
       "      <td>NaN</td>\n",
       "      <td>NaN</td>\n",
       "      <td>NaN</td>\n",
       "      <td>NaN</td>\n",
       "      <td>489.0</td>\n",
       "      <td>NaN</td>\n",
       "      <td>NaN</td>\n",
       "      <td>NaN</td>\n",
       "      <td>252</td>\n",
       "      <td>NaN</td>\n",
       "      <td>416.0</td>\n",
       "      <td>410.0</td>\n",
       "      <td>466.0</td>\n",
       "    </tr>\n",
       "    <tr>\n",
       "      <th>mean</th>\n",
       "      <td>NaN</td>\n",
       "      <td>NaN</td>\n",
       "      <td>1.336694</td>\n",
       "      <td>0.191532</td>\n",
       "      <td>NaN</td>\n",
       "      <td>NaN</td>\n",
       "      <td>NaN</td>\n",
       "      <td>1.993952</td>\n",
       "      <td>0.379032</td>\n",
       "      <td>278.329718</td>\n",
       "      <td>23.206074</td>\n",
       "      <td>NaN</td>\n",
       "      <td>0.18750</td>\n",
       "      <td>43.376754</td>\n",
       "      <td>28.741935</td>\n",
       "      <td>NaN</td>\n",
       "      <td>417.674226</td>\n",
       "      <td>NaN</td>\n",
       "      <td>NaN</td>\n",
       "      <td>NaN</td>\n",
       "    </tr>\n",
       "    <tr>\n",
       "      <th>std</th>\n",
       "      <td>NaN</td>\n",
       "      <td>NaN</td>\n",
       "      <td>0.797436</td>\n",
       "      <td>0.815016</td>\n",
       "      <td>NaN</td>\n",
       "      <td>NaN</td>\n",
       "      <td>NaN</td>\n",
       "      <td>0.787506</td>\n",
       "      <td>0.853681</td>\n",
       "      <td>154.455565</td>\n",
       "      <td>12.865645</td>\n",
       "      <td>NaN</td>\n",
       "      <td>0.65684</td>\n",
       "      <td>477.476043</td>\n",
       "      <td>39.759808</td>\n",
       "      <td>NaN</td>\n",
       "      <td>1397.625326</td>\n",
       "      <td>NaN</td>\n",
       "      <td>NaN</td>\n",
       "      <td>NaN</td>\n",
       "    </tr>\n",
       "    <tr>\n",
       "      <th>min</th>\n",
       "      <td>NaN</td>\n",
       "      <td>NaN</td>\n",
       "      <td>0.000000</td>\n",
       "      <td>0.000000</td>\n",
       "      <td>NaN</td>\n",
       "      <td>NaN</td>\n",
       "      <td>NaN</td>\n",
       "      <td>1.000000</td>\n",
       "      <td>0.000000</td>\n",
       "      <td>0.000000</td>\n",
       "      <td>0.000000</td>\n",
       "      <td>NaN</td>\n",
       "      <td>0.00000</td>\n",
       "      <td>0.000000</td>\n",
       "      <td>1.000000</td>\n",
       "      <td>NaN</td>\n",
       "      <td>0.000000</td>\n",
       "      <td>NaN</td>\n",
       "      <td>NaN</td>\n",
       "      <td>NaN</td>\n",
       "    </tr>\n",
       "    <tr>\n",
       "      <th>25%</th>\n",
       "      <td>NaN</td>\n",
       "      <td>NaN</td>\n",
       "      <td>1.000000</td>\n",
       "      <td>0.000000</td>\n",
       "      <td>NaN</td>\n",
       "      <td>NaN</td>\n",
       "      <td>NaN</td>\n",
       "      <td>1.000000</td>\n",
       "      <td>0.000000</td>\n",
       "      <td>166.000000</td>\n",
       "      <td>14.000000</td>\n",
       "      <td>NaN</td>\n",
       "      <td>0.00000</td>\n",
       "      <td>0.000000</td>\n",
       "      <td>4.000000</td>\n",
       "      <td>NaN</td>\n",
       "      <td>0.000000</td>\n",
       "      <td>NaN</td>\n",
       "      <td>NaN</td>\n",
       "      <td>NaN</td>\n",
       "    </tr>\n",
       "    <tr>\n",
       "      <th>50%</th>\n",
       "      <td>NaN</td>\n",
       "      <td>NaN</td>\n",
       "      <td>1.000000</td>\n",
       "      <td>0.000000</td>\n",
       "      <td>NaN</td>\n",
       "      <td>NaN</td>\n",
       "      <td>NaN</td>\n",
       "      <td>2.000000</td>\n",
       "      <td>0.000000</td>\n",
       "      <td>273.000000</td>\n",
       "      <td>23.000000</td>\n",
       "      <td>NaN</td>\n",
       "      <td>0.00000</td>\n",
       "      <td>0.000000</td>\n",
       "      <td>6.000000</td>\n",
       "      <td>NaN</td>\n",
       "      <td>0.000000</td>\n",
       "      <td>NaN</td>\n",
       "      <td>NaN</td>\n",
       "      <td>NaN</td>\n",
       "    </tr>\n",
       "    <tr>\n",
       "      <th>75%</th>\n",
       "      <td>NaN</td>\n",
       "      <td>NaN</td>\n",
       "      <td>2.000000</td>\n",
       "      <td>0.000000</td>\n",
       "      <td>NaN</td>\n",
       "      <td>NaN</td>\n",
       "      <td>NaN</td>\n",
       "      <td>3.000000</td>\n",
       "      <td>0.000000</td>\n",
       "      <td>376.000000</td>\n",
       "      <td>31.000000</td>\n",
       "      <td>NaN</td>\n",
       "      <td>0.00000</td>\n",
       "      <td>0.000000</td>\n",
       "      <td>43.000000</td>\n",
       "      <td>NaN</td>\n",
       "      <td>0.000000</td>\n",
       "      <td>NaN</td>\n",
       "      <td>NaN</td>\n",
       "      <td>NaN</td>\n",
       "    </tr>\n",
       "    <tr>\n",
       "      <th>max</th>\n",
       "      <td>NaN</td>\n",
       "      <td>NaN</td>\n",
       "      <td>5.000000</td>\n",
       "      <td>6.000000</td>\n",
       "      <td>NaN</td>\n",
       "      <td>NaN</td>\n",
       "      <td>NaN</td>\n",
       "      <td>3.000000</td>\n",
       "      <td>4.000000</td>\n",
       "      <td>671.000000</td>\n",
       "      <td>56.000000</td>\n",
       "      <td>NaN</td>\n",
       "      <td>7.00000</td>\n",
       "      <td>9560.000000</td>\n",
       "      <td>274.000000</td>\n",
       "      <td>NaN</td>\n",
       "      <td>12267.000000</td>\n",
       "      <td>NaN</td>\n",
       "      <td>NaN</td>\n",
       "      <td>NaN</td>\n",
       "    </tr>\n",
       "  </tbody>\n",
       "</table>\n",
       "</div>"
      ],
      "text/plain": [
       "        dining_ic  presidential_ic  client_segment   sect_empl  prev_stay_ic  \\\n",
       "count       495.0            495.0      496.000000  496.000000         496.0   \n",
       "unique        2.0              2.0             NaN         NaN           2.0   \n",
       "top           0.0              0.0             NaN         NaN           1.0   \n",
       "freq        470.0            494.0             NaN         NaN         446.0   \n",
       "mean          NaN              NaN        1.336694    0.191532           NaN   \n",
       "std           NaN              NaN        0.797436    0.815016           NaN   \n",
       "min           NaN              NaN        0.000000    0.000000           NaN   \n",
       "25%           NaN              NaN        1.000000    0.000000           NaN   \n",
       "50%           NaN              NaN        1.000000    0.000000           NaN   \n",
       "75%           NaN              NaN        2.000000    0.000000           NaN   \n",
       "max           NaN              NaN        5.000000    6.000000           NaN   \n",
       "\n",
       "        prev_all_in_stay_ic  divorce_ic  fam_adult_size  children_no  \\\n",
       "count                 496.0       496.0      496.000000   496.000000   \n",
       "unique                  2.0         2.0             NaN          NaN   \n",
       "top                     0.0         0.0             NaN          NaN   \n",
       "freq                  367.0       444.0             NaN          NaN   \n",
       "mean                    NaN         NaN        1.993952     0.379032   \n",
       "std                     NaN         NaN        0.787506     0.853681   \n",
       "min                     NaN         NaN        1.000000     0.000000   \n",
       "25%                     NaN         NaN        1.000000     0.000000   \n",
       "50%                     NaN         NaN        2.000000     0.000000   \n",
       "75%                     NaN         NaN        3.000000     0.000000   \n",
       "max                     NaN         NaN        3.000000     4.000000   \n",
       "\n",
       "        tenure_mts  tenure_yrs  company_ic  claims_no    claims_am  \\\n",
       "count   461.000000  461.000000       496.0  496.00000   499.000000   \n",
       "unique         NaN         NaN         2.0        NaN          NaN   \n",
       "top            NaN         NaN         0.0        NaN          NaN   \n",
       "freq           NaN         NaN       489.0        NaN          NaN   \n",
       "mean    278.329718   23.206074         NaN    0.18750    43.376754   \n",
       "std     154.455565   12.865645         NaN    0.65684   477.476043   \n",
       "min       0.000000    0.000000         NaN    0.00000     0.000000   \n",
       "25%     166.000000   14.000000         NaN    0.00000     0.000000   \n",
       "50%     273.000000   23.000000         NaN    0.00000     0.000000   \n",
       "75%     376.000000   31.000000         NaN    0.00000     0.000000   \n",
       "max     671.000000   56.000000         NaN    7.00000  9560.000000   \n",
       "\n",
       "        nights_booked gender       shop_am  shop_use_ic  retired_ic  \\\n",
       "count      496.000000    496    496.000000        495.0       496.0   \n",
       "unique            NaN      2           NaN          2.0         2.0   \n",
       "top               NaN      V           NaN          0.0         0.0   \n",
       "freq              NaN    252           NaN        416.0       410.0   \n",
       "mean        28.741935    NaN    417.674226          NaN         NaN   \n",
       "std         39.759808    NaN   1397.625326          NaN         NaN   \n",
       "min          1.000000    NaN      0.000000          NaN         NaN   \n",
       "25%          4.000000    NaN      0.000000          NaN         NaN   \n",
       "50%          6.000000    NaN      0.000000          NaN         NaN   \n",
       "75%         43.000000    NaN      0.000000          NaN         NaN   \n",
       "max        274.000000    NaN  12267.000000          NaN         NaN   \n",
       "\n",
       "        gold_status_ic  \n",
       "count            496.0  \n",
       "unique             2.0  \n",
       "top                0.0  \n",
       "freq             466.0  \n",
       "mean               NaN  \n",
       "std                NaN  \n",
       "min                NaN  \n",
       "25%                NaN  \n",
       "50%                NaN  \n",
       "75%                NaN  \n",
       "max                NaN  "
      ]
     },
     "execution_count": 43,
     "metadata": {},
     "output_type": "execute_result"
    }
   ],
   "source": [
    "df_converted.iloc[:,20:40].describe(include='all')"
   ]
  },
  {
   "cell_type": "code",
   "execution_count": 44,
   "metadata": {},
   "outputs": [
    {
     "data": {
      "text/html": [
       "<div>\n",
       "<style scoped>\n",
       "    .dataframe tbody tr th:only-of-type {\n",
       "        vertical-align: middle;\n",
       "    }\n",
       "\n",
       "    .dataframe tbody tr th {\n",
       "        vertical-align: top;\n",
       "    }\n",
       "\n",
       "    .dataframe thead th {\n",
       "        text-align: right;\n",
       "    }\n",
       "</style>\n",
       "<table border=\"1\" class=\"dataframe\">\n",
       "  <thead>\n",
       "    <tr style=\"text-align: right;\">\n",
       "      <th></th>\n",
       "      <th>score1_pos</th>\n",
       "      <th>score1_neg</th>\n",
       "      <th>score2_pos</th>\n",
       "      <th>score2_neg</th>\n",
       "      <th>score3_pos</th>\n",
       "      <th>score3_neg</th>\n",
       "      <th>score4_pos</th>\n",
       "      <th>score4_neg</th>\n",
       "      <th>score5_pos</th>\n",
       "      <th>score5_neg</th>\n",
       "    </tr>\n",
       "  </thead>\n",
       "  <tbody>\n",
       "    <tr>\n",
       "      <th>count</th>\n",
       "      <td>122.000000</td>\n",
       "      <td>134.000000</td>\n",
       "      <td>111.000000</td>\n",
       "      <td>124.000000</td>\n",
       "      <td>136.000000</td>\n",
       "      <td>145.000000</td>\n",
       "      <td>119.000000</td>\n",
       "      <td>126.000000</td>\n",
       "      <td>132.000000</td>\n",
       "      <td>154.000000</td>\n",
       "    </tr>\n",
       "    <tr>\n",
       "      <th>mean</th>\n",
       "      <td>0.519385</td>\n",
       "      <td>0.499418</td>\n",
       "      <td>0.501727</td>\n",
       "      <td>0.524469</td>\n",
       "      <td>0.495096</td>\n",
       "      <td>0.485360</td>\n",
       "      <td>0.537287</td>\n",
       "      <td>0.494252</td>\n",
       "      <td>0.504806</td>\n",
       "      <td>4.826028</td>\n",
       "    </tr>\n",
       "    <tr>\n",
       "      <th>std</th>\n",
       "      <td>0.296407</td>\n",
       "      <td>0.293777</td>\n",
       "      <td>0.281859</td>\n",
       "      <td>0.281483</td>\n",
       "      <td>0.286895</td>\n",
       "      <td>0.292992</td>\n",
       "      <td>0.288562</td>\n",
       "      <td>0.297017</td>\n",
       "      <td>0.303785</td>\n",
       "      <td>2.843074</td>\n",
       "    </tr>\n",
       "    <tr>\n",
       "      <th>min</th>\n",
       "      <td>0.005318</td>\n",
       "      <td>0.016512</td>\n",
       "      <td>0.000767</td>\n",
       "      <td>0.002151</td>\n",
       "      <td>0.020657</td>\n",
       "      <td>0.009849</td>\n",
       "      <td>0.010242</td>\n",
       "      <td>0.013659</td>\n",
       "      <td>0.005136</td>\n",
       "      <td>-4.092944</td>\n",
       "    </tr>\n",
       "    <tr>\n",
       "      <th>25%</th>\n",
       "      <td>0.294621</td>\n",
       "      <td>0.251502</td>\n",
       "      <td>0.279851</td>\n",
       "      <td>0.307677</td>\n",
       "      <td>0.239524</td>\n",
       "      <td>0.252781</td>\n",
       "      <td>0.301039</td>\n",
       "      <td>0.205913</td>\n",
       "      <td>0.257488</td>\n",
       "      <td>2.744401</td>\n",
       "    </tr>\n",
       "    <tr>\n",
       "      <th>50%</th>\n",
       "      <td>0.531987</td>\n",
       "      <td>0.479703</td>\n",
       "      <td>0.488407</td>\n",
       "      <td>0.492698</td>\n",
       "      <td>0.498884</td>\n",
       "      <td>0.447901</td>\n",
       "      <td>0.592578</td>\n",
       "      <td>0.487373</td>\n",
       "      <td>0.469705</td>\n",
       "      <td>4.839778</td>\n",
       "    </tr>\n",
       "    <tr>\n",
       "      <th>75%</th>\n",
       "      <td>0.777602</td>\n",
       "      <td>0.765155</td>\n",
       "      <td>0.745293</td>\n",
       "      <td>0.780450</td>\n",
       "      <td>0.775543</td>\n",
       "      <td>0.747820</td>\n",
       "      <td>0.779311</td>\n",
       "      <td>0.780295</td>\n",
       "      <td>0.796048</td>\n",
       "      <td>6.825558</td>\n",
       "    </tr>\n",
       "    <tr>\n",
       "      <th>max</th>\n",
       "      <td>0.997703</td>\n",
       "      <td>1.000000</td>\n",
       "      <td>1.000000</td>\n",
       "      <td>1.000000</td>\n",
       "      <td>0.971706</td>\n",
       "      <td>0.986639</td>\n",
       "      <td>0.997018</td>\n",
       "      <td>0.985003</td>\n",
       "      <td>0.991246</td>\n",
       "      <td>12.113542</td>\n",
       "    </tr>\n",
       "  </tbody>\n",
       "</table>\n",
       "</div>"
      ],
      "text/plain": [
       "       score1_pos  score1_neg  score2_pos  score2_neg  score3_pos  score3_neg  \\\n",
       "count  122.000000  134.000000  111.000000  124.000000  136.000000  145.000000   \n",
       "mean     0.519385    0.499418    0.501727    0.524469    0.495096    0.485360   \n",
       "std      0.296407    0.293777    0.281859    0.281483    0.286895    0.292992   \n",
       "min      0.005318    0.016512    0.000767    0.002151    0.020657    0.009849   \n",
       "25%      0.294621    0.251502    0.279851    0.307677    0.239524    0.252781   \n",
       "50%      0.531987    0.479703    0.488407    0.492698    0.498884    0.447901   \n",
       "75%      0.777602    0.765155    0.745293    0.780450    0.775543    0.747820   \n",
       "max      0.997703    1.000000    1.000000    1.000000    0.971706    0.986639   \n",
       "\n",
       "       score4_pos  score4_neg  score5_pos  score5_neg  \n",
       "count  119.000000  126.000000  132.000000  154.000000  \n",
       "mean     0.537287    0.494252    0.504806    4.826028  \n",
       "std      0.288562    0.297017    0.303785    2.843074  \n",
       "min      0.010242    0.013659    0.005136   -4.092944  \n",
       "25%      0.301039    0.205913    0.257488    2.744401  \n",
       "50%      0.592578    0.487373    0.469705    4.839778  \n",
       "75%      0.779311    0.780295    0.796048    6.825558  \n",
       "max      0.997018    0.985003    0.991246   12.113542  "
      ]
     },
     "execution_count": 44,
     "metadata": {},
     "output_type": "execute_result"
    }
   ],
   "source": [
    "df_converted.iloc[:,40:55].describe(include='all')"
   ]
  },
  {
   "cell_type": "code",
   "execution_count": 45,
   "metadata": {},
   "outputs": [
    {
     "data": {
      "text/plain": [
       "array([[<AxesSubplot:title={'center':'income_am'}>,\n",
       "        <AxesSubplot:title={'center':'profit_last_am'}>,\n",
       "        <AxesSubplot:title={'center':'profit_am'}>,\n",
       "        <AxesSubplot:title={'center':'damage_am'}>,\n",
       "        <AxesSubplot:title={'center':'damage_inc'}>],\n",
       "       [<AxesSubplot:title={'center':'crd_lim_rec'}>,\n",
       "        <AxesSubplot:title={'center':'cab_requests'}>,\n",
       "        <AxesSubplot:title={'center':'bar_no'}>,\n",
       "        <AxesSubplot:title={'center':'neighbor_income'}>,\n",
       "        <AxesSubplot:title={'center':'age'}>],\n",
       "       [<AxesSubplot:title={'center':'client_segment'}>,\n",
       "        <AxesSubplot:title={'center':'sect_empl'}>,\n",
       "        <AxesSubplot:title={'center':'fam_adult_size'}>,\n",
       "        <AxesSubplot:title={'center':'children_no'}>,\n",
       "        <AxesSubplot:title={'center':'tenure_mts'}>],\n",
       "       [<AxesSubplot:title={'center':'tenure_yrs'}>,\n",
       "        <AxesSubplot:title={'center':'claims_no'}>,\n",
       "        <AxesSubplot:title={'center':'claims_am'}>,\n",
       "        <AxesSubplot:title={'center':'nights_booked'}>,\n",
       "        <AxesSubplot:title={'center':'shop_am'}>],\n",
       "       [<AxesSubplot:title={'center':'score1_pos'}>,\n",
       "        <AxesSubplot:title={'center':'score1_neg'}>,\n",
       "        <AxesSubplot:title={'center':'score2_pos'}>,\n",
       "        <AxesSubplot:title={'center':'score2_neg'}>,\n",
       "        <AxesSubplot:title={'center':'score3_pos'}>],\n",
       "       [<AxesSubplot:title={'center':'score3_neg'}>,\n",
       "        <AxesSubplot:title={'center':'score4_pos'}>,\n",
       "        <AxesSubplot:title={'center':'score4_neg'}>,\n",
       "        <AxesSubplot:title={'center':'score5_pos'}>,\n",
       "        <AxesSubplot:title={'center':'score5_neg'}>]], dtype=object)"
      ]
     },
     "execution_count": 45,
     "metadata": {},
     "output_type": "execute_result"
    },
    {
     "data": {
      "image/png": "[encoded data removed]",
      "text/plain": [
       "<Figure size 1296x1080 with 30 Axes>"
      ]
     },
     "metadata": {
      "needs_background": "light"
     },
     "output_type": "display_data"
    }
   ],
   "source": [
    "df_converted.hist( figsize = (18,15))"
   ]
  },
  {
   "cell_type": "code",
   "execution_count": 49,
   "metadata": {},
   "outputs": [
    {
     "data": {
      "image/png": "[encoded data removed]",
      "text/plain": [
       "<Figure size 432x288 with 1 Axes>"
      ]
     },
     "metadata": {
      "needs_background": "light"
     },
     "output_type": "display_data"
    },
    {
     "data": {
      "image/png": "[encoded data removed]",
      "text/plain": [
       "<Figure size 432x288 with 1 Axes>"
      ]
     },
     "metadata": {
      "needs_background": "light"
     },
     "output_type": "display_data"
    },
    {
     "data": {
      "image/png": "[encoded data removed]",
      "text/plain": [
       "<Figure size 432x288 with 1 Axes>"
      ]
     },
     "metadata": {
      "needs_background": "light"
     },
     "output_type": "display_data"
    },
    {
     "data": {
      "image/png": "[encoded data removed]",
      "text/plain": [
       "<Figure size 432x288 with 1 Axes>"
      ]
     },
     "metadata": {
      "needs_background": "light"
     },
     "output_type": "display_data"
    },
    {
     "data": {
      "image/png": "[encoded data removed]",
      "text/plain": [
       "<Figure size 432x288 with 1 Axes>"
      ]
     },
     "metadata": {
      "needs_background": "light"
     },
     "output_type": "display_data"
    },
    {
     "data": {
      "image/png": "[encoded data removed]",
      "text/plain": [
       "<Figure size 432x288 with 1 Axes>"
      ]
     },
     "metadata": {
      "needs_background": "light"
     },
     "output_type": "display_data"
    },
    {
     "data": {
      "image/png": "[encoded data removed]",
      "text/plain": [
       "<Figure size 432x288 with 1 Axes>"
      ]
     },
     "metadata": {
      "needs_background": "light"
     },
     "output_type": "display_data"
    },
    {
     "data": {
      "image/png": "[encoded data removed]",
      "text/plain": [
       "<Figure size 432x288 with 1 Axes>"
      ]
     },
     "metadata": {
      "needs_background": "light"
     },
     "output_type": "display_data"
    },
    {
     "data": {
      "image/png": "[encoded data removed]",
      "text/plain": [
       "<Figure size 432x288 with 1 Axes>"
      ]
     },
     "metadata": {
      "needs_background": "light"
     },
     "output_type": "display_data"
    },
    {
     "data": {
      "image/png": "[encoded data removed]",
      "text/plain": [
       "<Figure size 432x288 with 1 Axes>"
      ]
     },
     "metadata": {
      "needs_background": "light"
     },
     "output_type": "display_data"
    },
    {
     "data": {
      "image/png": "[encoded data removed]",
      "text/plain": [
       "<Figure size 432x288 with 1 Axes>"
      ]
     },
     "metadata": {
      "needs_background": "light"
     },
     "output_type": "display_data"
    },
    {
     "data": {
      "image/png": "[encoded data removed]",
      "text/plain": [
       "<Figure size 432x288 with 1 Axes>"
      ]
     },
     "metadata": {
      "needs_background": "light"
     },
     "output_type": "display_data"
    },
    {
     "data": {
      "image/png": "[encoded data removed]",
      "text/plain": [
       "<Figure size 432x288 with 1 Axes>"
      ]
     },
     "metadata": {
      "needs_background": "light"
     },
     "output_type": "display_data"
    },
    {
     "data": {
      "image/png": "[encoded data removed]",
      "text/plain": [
       "<Figure size 432x288 with 1 Axes>"
      ]
     },
     "metadata": {
      "needs_background": "light"
     },
     "output_type": "display_data"
    },
    {
     "data": {
      "image/png": "[encoded data removed]",
      "text/plain": [
       "<Figure size 432x288 with 1 Axes>"
      ]
     },
     "metadata": {
      "needs_background": "light"
     },
     "output_type": "display_data"
    },
    {
     "data": {
      "image/png": "[encoded data removed]",
      "text/plain": [
       "<Figure size 432x288 with 1 Axes>"
      ]
     },
     "metadata": {
      "needs_background": "light"
     },
     "output_type": "display_data"
    }
   ],
   "source": [
    "categorical = ['married_cd_ic', 'gender','credit_use_ic','insurance_ic','spa_ic',\n",
    "               'sport_ic','marketing_permit_ic','urban_ic','dining_ic','presidential_ic','prev_stay_ic','prev_all_in_stay_ic',\n",
    "               'company_ic','shop_use_ic','retired_ic','gold_status_ic']\n",
    "\n",
    "for col in categorical:\n",
    "    df_converted[col] = df_converted[col].replace(0.0,'False')\n",
    "    df_converted[col] = df_converted[col].replace(1.0,'True')\n",
    "\n",
    "for i in categorical: \n",
    "    sns.countplot(y=df_converted[i])\n",
    "    plt.show()"
   ]
  },
  {
   "cell_type": "code",
   "execution_count": 50,
   "metadata": {},
   "outputs": [
    {
     "name": "stderr",
     "output_type": "stream",
     "text": [
      "C:\\Users\\robbe\\AppData\\Local\\Temp/ipykernel_11124/2250700739.py:1: FutureWarning: In a future version of pandas all arguments of DataFrame.drop except for the argument 'labels' will be keyword-only\n",
      "  df_converted = df_converted.drop(['tenure_yrs', 'gluten_ic', 'lactose_ic','empl_ic', \"divorce_ic\",'score1_pos','score1_neg','score2_pos','score2_neg','score3_pos','score3_neg','score4_pos','score4_neg','score5_pos','score5_neg'],1)\n"
     ]
    }
   ],
   "source": [
    "df_converted = df_converted.drop(['tenure_yrs', 'gluten_ic', 'lactose_ic','empl_ic', \"divorce_ic\",'score1_pos','score1_neg','score2_pos','score2_neg','score3_pos','score3_neg','score4_pos','score4_neg','score5_pos','score5_neg'],1)"
   ]
  },
  {
   "cell_type": "code",
   "execution_count": 51,
   "metadata": {},
   "outputs": [],
   "source": [
    "df_imputed = df_converted.copy()"
   ]
  },
  {
   "cell_type": "code",
   "execution_count": 52,
   "metadata": {},
   "outputs": [
    {
     "name": "stderr",
     "output_type": "stream",
     "text": [
      "C:\\Users\\robbe\\AppData\\Local\\Programs\\Python\\Python310\\lib\\site-packages\\sklearn\\base.py:450: UserWarning: X does not have valid feature names, but SimpleImputer was fitted with feature names\n",
      "  warnings.warn(\n"
     ]
    }
   ],
   "source": [
    "df_imputed['client_segment'] = df_imputed['client_segment'].astype('object')\n",
    "\n",
    "num_feat = df_imputed.select_dtypes(include=['int64', 'float64']).columns\n",
    "mean_imputer = SimpleImputer(missing_values=np.nan, strategy='mean')\n",
    "mean_imputer = mean_imputer.fit(df_imputed[num_feat])\n",
    "df_imputed[num_feat] = mean_imputer.transform(df_imputed[num_feat].values)"
   ]
  },
  {
   "cell_type": "code",
   "execution_count": 53,
   "metadata": {},
   "outputs": [],
   "source": [
    "categoricals = ['gender', 'credit_use_ic', 'insurance_ic', \n",
    "           'spa_ic', 'married_cd_ic', 'sport_ic', 'marketing_permit_ic',\n",
    "           'urban_ic', 'dining_ic','presidential_ic', 'prev_stay_ic', 'prev_all_in_stay_ic',\n",
    "          'company_ic','shop_use_ic','retired_ic','gold_status_ic']\n",
    "\n",
    "df_imputed['gender'] = df_imputed['gender'].astype('category')\n",
    "for col in categoricals:\n",
    "    df_imputed[col] = df_imputed[col].cat.add_categories('Undefined')\n",
    "    df_imputed[col] = df_imputed[col].fillna('Undefined')\n",
    "    df_imputed[col] = df_imputed[col].astype('object')"
   ]
  },
  {
   "cell_type": "code",
   "execution_count": 54,
   "metadata": {},
   "outputs": [],
   "source": [
    "df_dummy_var = df_imputed.copy()\n",
    "obj_feat = df_dummy_var.select_dtypes(include=['object']).columns\n",
    "\n",
    "for col in obj_feat:\n",
    "  dummies = pd.get_dummies(df_dummy_var[col], dummy_na=False, prefix=col)  \n",
    "  df_dummy_var = pd.concat([df_dummy_var, dummies],axis=1)                   \n",
    "  df_dummy_var.drop(columns=[col], inplace=True)"
   ]
  },
  {
   "cell_type": "code",
   "execution_count": 55,
   "metadata": {},
   "outputs": [],
   "source": [
    "def null_amounts(df):\n",
    "  print(df.isnull().sum()[df.isnull().sum() != 0.0])"
   ]
  },
  {
   "cell_type": "code",
   "execution_count": 56,
   "metadata": {},
   "outputs": [
    {
     "name": "stdout",
     "output_type": "stream",
     "text": [
      "Series([], dtype: int64)\n"
     ]
    }
   ],
   "source": [
    "null_amounts(df_dummy_var)"
   ]
  },
  {
   "cell_type": "code",
   "execution_count": 57,
   "metadata": {},
   "outputs": [
    {
     "data": {
      "text/plain": [
       "array([[<AxesSubplot:title={'center':'income_am'}>,\n",
       "        <AxesSubplot:title={'center':'profit_last_am'}>,\n",
       "        <AxesSubplot:title={'center':'profit_am'}>,\n",
       "        <AxesSubplot:title={'center':'damage_am'}>],\n",
       "       [<AxesSubplot:title={'center':'damage_inc'}>,\n",
       "        <AxesSubplot:title={'center':'crd_lim_rec'}>,\n",
       "        <AxesSubplot:title={'center':'cab_requests'}>,\n",
       "        <AxesSubplot:title={'center':'bar_no'}>],\n",
       "       [<AxesSubplot:title={'center':'neighbor_income'}>,\n",
       "        <AxesSubplot:title={'center':'age'}>,\n",
       "        <AxesSubplot:title={'center':'sect_empl'}>,\n",
       "        <AxesSubplot:title={'center':'fam_adult_size'}>],\n",
       "       [<AxesSubplot:title={'center':'children_no'}>,\n",
       "        <AxesSubplot:title={'center':'tenure_mts'}>,\n",
       "        <AxesSubplot:title={'center':'claims_no'}>,\n",
       "        <AxesSubplot:title={'center':'claims_am'}>],\n",
       "       [<AxesSubplot:title={'center':'nights_booked'}>,\n",
       "        <AxesSubplot:title={'center':'shop_am'}>, <AxesSubplot:>,\n",
       "        <AxesSubplot:>]], dtype=object)"
      ]
     },
     "execution_count": 57,
     "metadata": {},
     "output_type": "execute_result"
    },
    {
     "data": {
      "image/png": "[encoded data removed]",
      "text/plain": [
       "<Figure size 864x1008 with 20 Axes>"
      ]
     },
     "metadata": {
      "needs_background": "light"
     },
     "output_type": "display_data"
    }
   ],
   "source": [
    "df_transformed = df_dummy_var.copy()\n",
    "\n",
    "num = df_transformed.select_dtypes(include=['int64', 'float64']).columns\n",
    "#num = num.drop(['outcome_damage_inc'],1)\n",
    "df_transformed[num].hist( figsize = (12,14))"
   ]
  },
  {
   "cell_type": "code",
   "execution_count": 58,
   "metadata": {},
   "outputs": [
    {
     "data": {
      "text/plain": [
       "array([[<AxesSubplot:title={'center':'income_am'}>,\n",
       "        <AxesSubplot:title={'center':'profit_last_am'}>,\n",
       "        <AxesSubplot:title={'center':'profit_am'}>,\n",
       "        <AxesSubplot:title={'center':'damage_am'}>],\n",
       "       [<AxesSubplot:title={'center':'damage_inc'}>,\n",
       "        <AxesSubplot:title={'center':'crd_lim_rec'}>,\n",
       "        <AxesSubplot:title={'center':'cab_requests'}>,\n",
       "        <AxesSubplot:title={'center':'bar_no'}>],\n",
       "       [<AxesSubplot:title={'center':'neighbor_income'}>,\n",
       "        <AxesSubplot:title={'center':'age'}>,\n",
       "        <AxesSubplot:title={'center':'sect_empl'}>,\n",
       "        <AxesSubplot:title={'center':'fam_adult_size'}>],\n",
       "       [<AxesSubplot:title={'center':'children_no'}>,\n",
       "        <AxesSubplot:title={'center':'tenure_mts'}>,\n",
       "        <AxesSubplot:title={'center':'claims_no'}>,\n",
       "        <AxesSubplot:title={'center':'claims_am'}>],\n",
       "       [<AxesSubplot:title={'center':'nights_booked'}>,\n",
       "        <AxesSubplot:title={'center':'shop_am'}>, <AxesSubplot:>,\n",
       "        <AxesSubplot:>]], dtype=object)"
      ]
     },
     "execution_count": 58,
     "metadata": {},
     "output_type": "execute_result"
    },
    {
     "data": {
      "image/png": "[encoded data removed]",
      "text/plain": [
       "<Figure size 864x864 with 20 Axes>"
      ]
     },
     "metadata": {
      "needs_background": "light"
     },
     "output_type": "display_data"
    }
   ],
   "source": [
    "skewed = df_transformed[num].apply(lambda x: skew(x.dropna().astype(float)))\n",
    "skewed = skewed[skewed > 0.75]\n",
    "skewed = skewed.index\n",
    "df_transformed[skewed] = np.log1p(df_transformed[skewed])\n",
    "df_transformed[num].hist( figsize = (12,12))"
   ]
  },
  {
   "cell_type": "code",
   "execution_count": 60,
   "metadata": {},
   "outputs": [],
   "source": [
    "num_feat = df_transformed.select_dtypes(include=['int64', 'float64']).columns\n",
    "\n",
    "scaler = RobustScaler()\n",
    "scaler.fit(df_transformed[num_feat])\n",
    "df_transformed[num_feat] = scaler.transform(df_transformed[num_feat])\n",
    "\n",
    "score_transformed = df_transformed.copy()\n",
    "\n",
    "score_transformed.to_csv('datasets/score_cleaned.csv', index=False)"
   ]
  }
 ],
 "metadata": {
  "interpreter": {
   "hash": "2968f00109fd7d921f3cc346618df651342f4cc294a67a3de2d408bffb084936"
  },
  "kernelspec": {
   "display_name": "Python 3.10.1 64-bit",
   "language": "python",
   "name": "python3"
  },
  "language_info": {
   "codemirror_mode": {
    "name": "ipython",
    "version": 3
   },
   "file_extension": ".py",
   "mimetype": "text/x-python",
   "name": "python",
   "nbconvert_exporter": "python",
   "pygments_lexer": "ipython3",
   "version": "3.10.1"
  },
  "orig_nbformat": 4
 },
 "nbformat": 4,
 "nbformat_minor": 2
}
