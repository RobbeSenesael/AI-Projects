{
 "cells": [
  {
   "cell_type": "code",
   "execution_count": 1,
   "metadata": {},
   "outputs": [],
   "source": [
    "import numpy as np\n",
    "import pandas as pd\n",
    "\n",
    "from sklearn.model_selection import train_test_split\n",
    "from sklearn.ensemble import GradientBoostingRegressor"
   ]
  },
  {
   "cell_type": "code",
   "execution_count": 2,
   "metadata": {},
   "outputs": [
    {
     "name": "stderr",
     "output_type": "stream",
     "text": [
      "D:\\Temp/ipykernel_11516/365362442.py:2: FutureWarning: In a future version of pandas all arguments of DataFrame.drop except for the argument 'labels' will be keyword-only\n",
      "  df_train = df_train.drop(['outcome_damage_amount','outcome_damage_inc'], 1)\n",
      "D:\\Temp/ipykernel_11516/365362442.py:6: FutureWarning: In a future version of pandas all arguments of DataFrame.drop except for the argument 'labels' will be keyword-only\n",
      "  x = df_shuffle.drop('outcome_profit',1)\n"
     ]
    }
   ],
   "source": [
    "df_train = pd.read_csv('./trainV3_cleaned.csv')\n",
    "df_train = df_train.drop(['outcome_damage_amount','outcome_damage_inc'], 1)\n",
    "\n",
    "df_to_predict = pd.read_csv('./score.csv')\n",
    "df_shuffle = df_train.sample(frac=1, random_state=123)\n",
    "x = df_shuffle.drop('outcome_profit',1)\n",
    "y = df_shuffle[\"outcome_profit\"]\n",
    "\n",
    "x_trainval, x_test, y_trainval, y_test = train_test_split(x,y, test_size=0.2, random_state=1234)\n",
    "x_train, x_val, y_train, y_val = train_test_split(x_trainval,y_trainval, test_size=0.2, random_state=1234)"
   ]
  },
  {
   "cell_type": "code",
   "execution_count": 3,
   "metadata": {},
   "outputs": [],
   "source": [
    "best_params_ = {'criterion': 'squared_error',\n",
    " 'learning_rate': 0.2,\n",
    " 'loss': 'ls',\n",
    " 'max_depth': 2,\n",
    " 'max_features': 'auto',\n",
    " 'max_leaf_nodes': 10,\n",
    " 'min_samples_leaf': 10,\n",
    " 'min_samples_split': 10,\n",
    " 'n_estimators': 320}"
   ]
  },
  {
   "cell_type": "code",
   "execution_count": 4,
   "metadata": {},
   "outputs": [
    {
     "name": "stderr",
     "output_type": "stream",
     "text": [
      "C:\\Users\\arnou\\AppData\\Local\\Programs\\Python\\Python39\\lib\\site-packages\\sklearn\\ensemble\\_gb.py:286: FutureWarning: The loss 'ls' was deprecated in v1.0 and will be removed in version 1.2. Use 'squared_error' which is equivalent.\n",
      "  warnings.warn(\n"
     ]
    },
    {
     "name": "stdout",
     "output_type": "stream",
     "text": [
      "R2: 0.787\n",
      "R2: 0.590\n"
     ]
    }
   ],
   "source": [
    "params = best_params_\n",
    "gbm_gridBest = GradientBoostingRegressor(**params)\n",
    "gbm_gridBest.fit(x_train, y_train)\n",
    "print('R2: %.3f' % gbm_gridBest.score(x_train, y_train))\n",
    "print('R2: %.3f' % gbm_gridBest.score(x_val, y_val))"
   ]
  }
 ],
 "metadata": {
  "interpreter": {
   "hash": "9cddf3423a262bc30d697b6e8631dbf365c3e90fa6848b1789f6ff19bcc00602"
  },
  "kernelspec": {
   "display_name": "Python 3.9.7 64-bit",
   "language": "python",
   "name": "python3"
  },
  "language_info": {
   "codemirror_mode": {
    "name": "ipython",
    "version": 3
   },
   "file_extension": ".py",
   "mimetype": "text/x-python",
   "name": "python",
   "nbconvert_exporter": "python",
   "pygments_lexer": "ipython3",
   "version": "3.9.7"
  },
  "orig_nbformat": 4
 },
 "nbformat": 4,
 "nbformat_minor": 2
}
