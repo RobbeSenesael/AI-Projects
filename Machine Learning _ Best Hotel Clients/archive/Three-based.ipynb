{
 "cells": [
  {
   "cell_type": "markdown",
   "id": "statewide-fleece",
   "metadata": {},
   "source": [
    "# Three based methods"
   ]
  },
  {
   "cell_type": "code",
   "execution_count": 1,
   "id": "bigger-antibody",
   "metadata": {},
   "outputs": [],
   "source": [
    "import numpy as np\n",
    "import pandas as pd\n",
    "import matplotlib as mpl\n",
    "import matplotlib.pyplot as plt\n",
    "import seaborn as sns\n",
    "\n",
    "plt.style.use('seaborn-darkgrid')"
   ]
  },
  {
   "cell_type": "code",
   "execution_count": 2,
   "id": "explicit-cookbook",
   "metadata": {},
   "outputs": [],
   "source": [
    "pd.read_csv('datasets/train_V2_cleaned.csv')"
   ]
  },
  {
   "cell_type": "markdown",
   "id": "prospective-aquarium",
   "metadata": {},
   "source": [
    "## Train and test split"
   ]
  },
  {
   "cell_type": "markdown",
   "id": "overhead-colors",
   "metadata": {},
   "source": [
    "shuffling the data"
   ]
  },
  {
   "cell_type": "code",
   "execution_count": 3,
   "id": "senior-interpretation",
   "metadata": {},
   "outputs": [],
   "source": [
    "from random import Random\n",
    "df_shuffle = df.sample(frac=1, random_state=6541)"
   ]
  },
  {
   "cell_type": "code",
   "execution_count": 4,
   "id": "pending-factor",
   "metadata": {},
   "outputs": [],
   "source": [
    "from sklearn.model_selection import train_test_split\n",
    "\n",
    "X = df_shuffle.drop(['outcome_profit'],1)\n",
    "y = df_shuffle['outcome_profit']\n",
    "\n",
    "X_train, X_test, y_train, y_test = train_test_split(X, y, test_size=0.2, random_state=6541)"
   ]
  },
  {
   "cell_type": "markdown",
   "id": "voluntary-round",
   "metadata": {},
   "source": [
    "## Random forest\n"
   ]
  },
  {
   "cell_type": "code",
   "execution_count": 5,
   "id": "rotary-characterization",
   "metadata": {},
   "outputs": [],
   "source": [
    "# from sklearn.model_selection import RandomizedSearchCV\n",
    "# from sklearn.ensemble import RandomForestRegressor\n",
    "\n",
    "# criterion =['mse','mae']\n",
    "# n_estimators = [int(x) for x in np.linspace(start = 100, stop = 500, num = 200)]\n",
    "# max_features = ['auto', 'sqrt', 'log2']\n",
    "# max_depth = [int(x) for x in np.linspace(1, 15, num = 15)]\n",
    "# min_samples_split = [int(x) for x in np.linspace(2, 15, num = 14)]\n",
    "# min_samples_leaf = [int(x) for x in np.linspace(1, 15, num = 15)]\n",
    "# max_leaf_nodes = [int(x) for x in np.linspace(10, 500, num = 490)]\n",
    "\n",
    "# # create the random grid to search for best hyperparameters\n",
    "# random_grid = {'criterion': criterion,\n",
    "#                'n_estimators': n_estimators,\n",
    "#                'max_features': max_features,\n",
    "#                'max_depth': max_depth,\n",
    "#                'min_samples_split': min_samples_split,\n",
    "#                'min_samples_leaf': min_samples_leaf,\n",
    "#                'max_leaf_nodes': max_leaf_nodes}\n",
    "\n",
    "# # then do cross-validatoin\n",
    "# rf = RandomForestRegressor()\n",
    "# rf_random = RandomizedSearchCV(estimator = rf, param_distributions = random_grid, n_iter = 100, \n",
    "#                                cv = 3, verbose=2, random_state=6541, n_jobs=-1)\n",
    "# # n_jobs=-1 to run as many models  parallel as possible\n",
    "# rf_random.fit(X_train, y_train)"
   ]
  },
  {
   "cell_type": "code",
   "execution_count": 6,
   "id": "welcome-jacksonville",
   "metadata": {},
   "outputs": [],
   "source": [
    "# print(rf_random.score(X_train, y_train))\n",
    "# print(rf_random.score(X_test, y_test))"
   ]
  },
  {
   "cell_type": "code",
   "execution_count": 7,
   "id": "several-principle",
   "metadata": {},
   "outputs": [],
   "source": [
    "# out = pd.DataFrame(rf_random.cv_results_)\n",
    "\n",
    "# xlabel_names = ['param_max_depth','param_min_samples_split','param_min_samples_leaf','param_n_estimators',\n",
    "#                 'param_max_features', 'param_max_leaf_nodes', 'param_criterion']\n",
    "\n",
    "# fig, axs = plt.subplots(3,3, figsize=(20,10))\n",
    "\n",
    "# axs[0,0].scatter(out['param_max_depth'], out['mean_test_score'], c='blue');\n",
    "# axs[0,0].set_title('max_depth')\n",
    "\n",
    "# axs[0,1].scatter(out['param_min_samples_split'], out['mean_test_score'], c='blue');\n",
    "# axs[0,1].set_title('min_samples_split')\n",
    "\n",
    "# axs[0,2].scatter(out['param_min_samples_leaf'], out['mean_test_score'], c='blue');\n",
    "# axs[0,2].set_title('min_samples_leaf')\n",
    "\n",
    "# axs[1,0].scatter(out['param_n_estimators'], out['mean_test_score'], c='blue');\n",
    "# axs[1,0].set_title('n_estimators')\n",
    "\n",
    "# axs[1,1].scatter(out['param_max_features'], out['mean_test_score'], c='blue');\n",
    "# axs[1,1].set_title('max_features')\n",
    "\n",
    "# axs[1,2].scatter(out['param_max_leaf_nodes'], out['mean_test_score'], c='blue');\n",
    "# axs[1,2].set_title('max_leaf_nodes')\n",
    "\n",
    "# axs[2,0].scatter(out['param_criterion'], out['mean_test_score'], c='blue');\n",
    "# axs[2,0].set_title('criterion')\n",
    "\n",
    "# for ax in axs.flat:\n",
    "#     ax.set(ylabel='r_squared')"
   ]
  },
  {
   "cell_type": "code",
   "execution_count": 8,
   "id": "valuable-louis",
   "metadata": {},
   "outputs": [],
   "source": [
    "# out = out[out.mean_test_score > 0.5]"
   ]
  },
  {
   "cell_type": "code",
   "execution_count": 9,
   "id": "becoming-hardwood",
   "metadata": {},
   "outputs": [],
   "source": [
    "# fig, ax = plt.subplots(figsize=(8, 6))\n",
    "# ax.scatter(out['param_max_depth'], out['mean_test_score'], c='blue');\n",
    "# ax.set_xlabel(\"max_depth\");\n",
    "# ax.set_ylabel(\"r_squared\");"
   ]
  },
  {
   "cell_type": "code",
   "execution_count": 10,
   "id": "bottom-specialist",
   "metadata": {},
   "outputs": [],
   "source": [
    "# fig, ax = plt.subplots(figsize=(8, 6))\n",
    "# ax.scatter(out['param_min_samples_split'], out['mean_test_score'], c='blue');\n",
    "# ax.set_xlabel(\"min_samples_split\");\n",
    "# ax.set_ylabel(\"r_squared\");"
   ]
  },
  {
   "cell_type": "code",
   "execution_count": 11,
   "id": "fewer-divide",
   "metadata": {},
   "outputs": [],
   "source": [
    "# fig, ax = plt.subplots(figsize=(8, 6))\n",
    "# ax.scatter(out['param_min_samples_leaf'], out['mean_test_score'], c='blue');\n",
    "# ax.set_xlabel(\"min_samples_leaf\");\n",
    "# ax.set_ylabel(\"r_squared\");"
   ]
  },
  {
   "cell_type": "code",
   "execution_count": 12,
   "id": "detected-facing",
   "metadata": {},
   "outputs": [],
   "source": [
    "# fig, ax = plt.subplots(figsize=(8, 6))\n",
    "# ax.scatter(out['param_n_estimators'], out['mean_test_score'], c='blue');\n",
    "# ax.set_xlabel(\"n_estimators\");\n",
    "# ax.set_ylabel(\"r_squared\");"
   ]
  },
  {
   "cell_type": "code",
   "execution_count": 13,
   "id": "stylish-audience",
   "metadata": {},
   "outputs": [],
   "source": [
    "# fig, ax = plt.subplots(figsize=(8, 6))\n",
    "# ax.scatter(out['param_max_features'], out['mean_test_score'], c='blue');\n",
    "# ax.set_xlabel(\"max_features\");\n",
    "# ax.set_ylabel(\"r_squared\");"
   ]
  },
  {
   "cell_type": "code",
   "execution_count": 14,
   "id": "missing-venice",
   "metadata": {},
   "outputs": [],
   "source": [
    "# fig, ax = plt.subplots(figsize=(8, 6))\n",
    "# ax.scatter(out['param_max_leaf_nodes'], out['mean_test_score'], c='blue');\n",
    "# ax.set_xlabel(\"max_leaf_nodes\");\n",
    "# ax.set_ylabel(\"r_squared\");"
   ]
  },
  {
   "cell_type": "code",
   "execution_count": 15,
   "id": "national-integrity",
   "metadata": {},
   "outputs": [],
   "source": [
    "# fig, ax = plt.subplots(figsize=(8, 6))\n",
    "# ax.scatter(out['param_criterion'], out['mean_test_score'], c='blue');\n",
    "# ax.set_xlabel(\"criterion\");\n",
    "# ax.set_ylabel(\"r_squared\");"
   ]
  },
  {
   "cell_type": "code",
   "execution_count": 16,
   "id": "resistant-poland",
   "metadata": {},
   "outputs": [],
   "source": [
    "# from sklearn.model_selection import GridSearchCV\n",
    "# from sklearn.ensemble import RandomForestRegressor\n",
    "\n",
    "\n",
    "# max_depth = [9,10]\n",
    "# min_samples_split = [5, 12]\n",
    "# min_samples_leaf = [11,13]\n",
    "# n_estimators = [251,390,470]\n",
    "# max_features = ['auto']\n",
    "# max_leaf_nodes = [170, 350]\n",
    "# criterion =['mae', 'mse']\n",
    "\n",
    "\n",
    "# # create the random grid to search for best hyperparameters\n",
    "# grid = {'criterion': criterion,\n",
    "#                'n_estimators': n_estimators,\n",
    "#                'max_features': max_features,\n",
    "#                 'max_leaf_nodes': max_leaf_nodes,\n",
    "#                'max_depth': max_depth,\n",
    "#                'min_samples_split': min_samples_split,\n",
    "#                'min_samples_leaf': min_samples_leaf}\n",
    "\n",
    "# # then do cross-validatoin\n",
    "# rf = RandomForestRegressor()\n",
    "# rf_grid = GridSearchCV(estimator = rf, param_grid = grid,\n",
    "#                                cv = 3, verbose=2,  n_jobs=-1)\n",
    "# # n_jobs=-1 to run as many models  parallel as possible\n",
    "# rf_grid.fit(X_train, y_train)"
   ]
  },
  {
   "cell_type": "code",
   "execution_count": 17,
   "id": "welsh-surveillance",
   "metadata": {},
   "outputs": [],
   "source": [
    "# rf_grid.best_params_"
   ]
  },
  {
   "cell_type": "code",
   "execution_count": 18,
   "id": "hispanic-calcium",
   "metadata": {},
   "outputs": [],
   "source": [
    "# params = rf_grid.best_params_\n",
    "# rf_gridBest = RandomForestRegressor(**params)\n",
    "# rf_gridBest.fit(X_train, y_train)\n",
    "# print('R2: %.3f' % rf_gridBest.score(X_train, y_train))\n",
    "# print('R2: %.3f' % rf_gridBest.score(X_test, y_test))"
   ]
  },
  {
   "cell_type": "code",
   "execution_count": 19,
   "id": "retained-gothic",
   "metadata": {},
   "outputs": [],
   "source": [
    "# from matplotlib import pyplot as plt\n",
    "\n",
    "# plt.figure(figsize=(20,10))\n",
    "\n",
    "# feat_importances = pd.Series(rf_gridBest.feature_importances_, index=X_train.columns)\n",
    "# feat_importances.nlargest(38).plot(kind='barh')\n",
    "# plt.show()"
   ]
  },
  {
   "cell_type": "code",
   "execution_count": 20,
   "id": "empirical-resident",
   "metadata": {},
   "outputs": [],
   "source": [
    "# plt.figure()\n",
    "\n",
    "# feat_importances.nlargest(20).plot(kind='barh')\n",
    "# plt.show()"
   ]
  },
  {
   "cell_type": "code",
   "execution_count": null,
   "id": "statutory-requirement",
   "metadata": {},
   "outputs": [
    {
     "name": "stdout",
     "output_type": "stream",
     "text": [
      "Fitting 5 folds for each of 500 candidates, totalling 2500 fits\n"
     ]
    }
   ],
   "source": [
    "from sklearn.model_selection import RandomizedSearchCV\n",
    "from sklearn.ensemble import GradientBoostingRegressor\n",
    "\n",
    "max_features = ['auto']\n",
    "\n",
    "\n",
    "criterion =['mse','mae']\n",
    "n_estimators = [int(x) for x in np.linspace(start = 100, stop = 500, num = 50)]\n",
    "max_depth = [int(x) for x in np.linspace(1, 15, num = 15)]\n",
    "min_samples_split = [int(x) for x in np.linspace(2, 15, num = 14)]\n",
    "min_samples_leaf = [int(x) for x in np.linspace(1, 15, num = 15)]\n",
    "max_leaf_nodes = [int(x) for x in np.linspace(10, 500, num = 50)]\n",
    "loss = ['ls','lad','huber','quantile']\n",
    "learning_rate = [round(x,5) for x in np.linspace(0.1, 1, num = 10)]\n",
    "\n",
    "# create the random grid to search for best hyperparameters\n",
    "random_grid = {'criterion': criterion,\n",
    "               'n_estimators': n_estimators,\n",
    "               'max_features': max_features,\n",
    "               'max_depth': max_depth,\n",
    "               'min_samples_split': min_samples_split,\n",
    "               'min_samples_leaf': min_samples_leaf,\n",
    "               'max_leaf_nodes': max_leaf_nodes,\n",
    "               'loss': loss,\n",
    "               'learning_rate': learning_rate}\n",
    "\n",
    "# then do cross-validatoin\n",
    "gbm = GradientBoostingRegressor()\n",
    "gbm_random = RandomizedSearchCV(estimator = gbm, param_distributions = random_grid, n_iter = 500, \n",
    "                               cv = 5, verbose=10, random_state=12, n_jobs=-1)\n",
    "gbm_random.fit(X_train, y_train)"
   ]
  },
  {
   "cell_type": "code",
   "execution_count": null,
   "id": "union-potential",
   "metadata": {},
   "outputs": [],
   "source": [
    "print(gbm_random.score(X_train, y_train))\n",
    "gbm_random.score(X_test, y_test)"
   ]
  },
  {
   "cell_type": "code",
   "execution_count": null,
   "id": "recreational-kentucky",
   "metadata": {},
   "outputs": [],
   "source": [
    "gbm_random.best_params_"
   ]
  },
  {
   "cell_type": "code",
   "execution_count": null,
   "id": "ordered-breath",
   "metadata": {},
   "outputs": [],
   "source": [
    "out2 = pd.DataFrame(gbm_random.cv_results_)\n",
    "\n",
    "xlabel_names = ['param_max_depth','param_min_samples_split','param_min_samples_leaf','param_n_estimators',\n",
    "                'param_max_features', 'param_max_leaf_nodes', 'param_criterion']\n",
    "\n",
    "fig, axs = plt.subplots(3,3, figsize=(20,10))\n",
    "\n",
    "axs[0,0].scatter(out2['param_max_depth'], out2['mean_test_score'], c='blue');\n",
    "axs[0,0].set_title('max_depth')\n",
    "\n",
    "axs[0,1].scatter(out2['param_min_samples_split'], out2['mean_test_score'], c='blue');\n",
    "axs[0,1].set_title('min_samples_split')\n",
    "\n",
    "axs[0,2].scatter(out2['param_min_samples_leaf'], out2['mean_test_score'], c='blue');\n",
    "axs[0,2].set_title('min_samples_leaf')\n",
    "\n",
    "axs[1,0].scatter(out2['param_n_estimators'], out2['mean_test_score'], c='blue');\n",
    "axs[1,0].set_title('n_estimators')\n",
    "\n",
    "axs[1,1].scatter(out2['param_max_features'], out2['mean_test_score'], c='blue');\n",
    "axs[1,1].set_title('max_features')\n",
    "\n",
    "axs[1,2].scatter(out2['param_max_leaf_nodes'], out2['mean_test_score'], c='blue');\n",
    "axs[1,2].set_title('max_leaf_nodes')\n",
    "\n",
    "axs[2,0].scatter(out2['param_criterion'], out2['mean_test_score'], c='blue');\n",
    "axs[2,0].set_title('criterion')\n",
    "\n",
    "axs[2,1].scatter(out2['param_learning_rate'], out2['mean_test_score'], c='blue');\n",
    "axs[2,1].set_title('learning_rate')\n",
    "\n",
    "axs[2,2].scatter(out2['param_loss'], out2['mean_test_score'], c='blue');\n",
    "axs[2,2].set_title('loss')\n",
    "\n",
    "\n",
    "for ax in axs.flat: ax.set(ylabel='r_squared')"
   ]
  },
  {
   "cell_type": "code",
   "execution_count": null,
   "id": "confident-partnership",
   "metadata": {},
   "outputs": [],
   "source": [
    "out2 = out2[out2.mean_test_score > 0.5]"
   ]
  },
  {
   "cell_type": "code",
   "execution_count": null,
   "id": "incoming-mobility",
   "metadata": {},
   "outputs": [],
   "source": [
    "xlabel_names = ['param_max_depth','param_min_samples_split','param_min_samples_leaf','param_n_estimators',\n",
    "                'param_max_features', 'param_max_leaf_nodes', 'param_criterion']\n",
    "\n",
    "fig, axs = plt.subplots(3,3, figsize=(20,10))\n",
    "\n",
    "axs[0,0].scatter(out2['param_max_depth'], out2['mean_test_score'], c='blue');\n",
    "axs[0,0].set_title('max_depth')\n",
    "\n",
    "axs[0,1].scatter(out2['param_min_samples_split'], out2['mean_test_score'], c='blue');\n",
    "axs[0,1].set_title('min_samples_split')\n",
    "\n",
    "axs[0,2].scatter(out2['param_min_samples_leaf'], out2['mean_test_score'], c='blue');\n",
    "axs[0,2].set_title('min_samples_leaf')\n",
    "\n",
    "axs[1,0].scatter(out2['param_n_estimators'], out2['mean_test_score'], c='blue');\n",
    "axs[1,0].set_title('n_estimators')\n",
    "\n",
    "axs[1,1].scatter(out2['param_max_features'], out2['mean_test_score'], c='blue');\n",
    "axs[1,1].set_title('max_features')\n",
    "\n",
    "axs[1,2].scatter(out2['param_max_leaf_nodes'], out2['mean_test_score'], c='blue');\n",
    "axs[1,2].set_title('max_leaf_nodes')\n",
    "\n",
    "axs[2,0].scatter(out2['param_criterion'], out2['mean_test_score'], c='blue');\n",
    "axs[2,0].set_title('criterion')\n",
    "\n",
    "axs[2,1].scatter(out2['param_learning_rate'], out2['mean_test_score'], c='blue');\n",
    "axs[2,1].set_title('learning_rate')\n",
    "\n",
    "axs[2,2].scatter(out2['param_loss'], out2['mean_test_score'], c='blue');\n",
    "axs[2,2].set_title('loss')\n",
    "\n",
    "\n",
    "for ax in axs.flat: ax.set(ylabel='r_squared')"
   ]
  },
  {
   "cell_type": "code",
   "execution_count": null,
   "id": "herbal-volunteer",
   "metadata": {},
   "outputs": [],
   "source": [
    "from sklearn.model_selection import GridSearchCV\n",
    "from sklearn.ensemble import RandomForestRegressor\n",
    "\n",
    "max_depth = [3, 4, 5]\n",
    "min_samples_split = [5, 9]\n",
    "min_samples_leaf = [7,9]\n",
    "n_estimators = [214, 255]\n",
    "max_features = ['auto']\n",
    "max_leaf_nodes = [190,260, 410]\n",
    "criterion =['mse']\n",
    "learning_rate = [0.08, 0.09,0.1,0.11,0.12]\n",
    "loss = ['ls']\n",
    "\n",
    "# create the random grid to search for best hyperparameters\n",
    "grid = {'criterion': criterion,\n",
    "               'n_estimators': n_estimators,\n",
    "               'max_features': max_features,\n",
    "               'max_depth': max_depth,\n",
    "               'min_samples_split': min_samples_split,\n",
    "               'min_samples_leaf': min_samples_leaf,\n",
    "                'max_leaf_nodes': max_leaf_nodes,\n",
    "               'learning_rate': learning_rate,\n",
    "               'loss':loss}\n",
    "\n",
    "# then do cross-validatoin\n",
    "gbm = GradientBoostingRegressor()\n",
    "gbm_grid = GridSearchCV(estimator = gbm, param_grid = grid,\n",
    "                               cv = 5, verbose=2,  n_jobs=-1)\n",
    "# n_jobs=-1 to run as many models  parallel as possible\n",
    "gbm_grid.fit(X_train, y_train)"
   ]
  },
  {
   "cell_type": "code",
   "execution_count": null,
   "id": "brazilian-colors",
   "metadata": {},
   "outputs": [],
   "source": [
    "gbm_grid.best_params_"
   ]
  },
  {
   "cell_type": "code",
   "execution_count": null,
   "id": "accurate-practice",
   "metadata": {},
   "outputs": [],
   "source": [
    "params = gbm_grid.best_params_\n",
    "gbm_gridBest = GradientBoostingRegressor(**params)\n",
    "gbm_gridBest.fit(X_train, y_train)\n",
    "print('R2: %.3f' % gbm_gridBest.score(X_train, y_train))\n",
    "print('R2: %.3f' % gbm_gridBest.score(X_test, y_test))"
   ]
  },
  {
   "cell_type": "code",
   "execution_count": null,
   "id": "casual-tongue",
   "metadata": {},
   "outputs": [],
   "source": [
    "import joblib"
   ]
  },
  {
   "cell_type": "code",
   "execution_count": null,
   "id": "threatened-flash",
   "metadata": {},
   "outputs": [],
   "source": [
    "joblib.dump(gbm_gridBest, \"pickles/CurrentBest.pkl\")"
   ]
  },
  {
   "cell_type": "code",
   "execution_count": null,
   "id": "soviet-ontario",
   "metadata": {},
   "outputs": [],
   "source": []
  }
 ],
 "metadata": {
  "kernelspec": {
   "display_name": "Python 3",
   "language": "python",
   "name": "python3"
  },
  "language_info": {
   "codemirror_mode": {
    "name": "ipython",
    "version": 3
   },
   "file_extension": ".py",
   "mimetype": "text/x-python",
   "name": "python",
   "nbconvert_exporter": "python",
   "pygments_lexer": "ipython3",
   "version": "3.9.2"
  }
 },
 "nbformat": 4,
 "nbformat_minor": 5
}