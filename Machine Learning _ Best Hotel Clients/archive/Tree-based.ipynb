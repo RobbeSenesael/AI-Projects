{
 "cells": [
  {
   "cell_type": "markdown",
   "id": "needed-bracelet",
   "metadata": {},
   "source": [
    "# Three based methods"
   ]
  },
  {
   "cell_type": "code",
   "execution_count": 1,
   "id": "square-emperor",
   "metadata": {},
   "outputs": [],
   "source": [
    "import numpy as np\n",
    "import pandas as pd\n",
    "import matplotlib as mpl\n",
    "import matplotlib.pyplot as plt\n",
    "import seaborn as sns\n",
    "\n",
    "plt.style.use('seaborn-darkgrid')"
   ]
  },
  {
   "cell_type": "code",
   "execution_count": 2,
   "id": "incomplete-steel",
   "metadata": {},
   "outputs": [],
   "source": [
    "pd.read_csv('datasets/train_V2_cleaned_damage_amount.csv')"
   ]
  },
  {
   "cell_type": "code",
   "execution_count": 3,
   "id": "narrative-notebook",
   "metadata": {},
   "outputs": [
    {
     "name": "stdout",
     "output_type": "stream",
     "text": [
      "<class 'pandas.core.frame.DataFrame'>\n",
      "RangeIndex: 1277 entries, 0 to 1276\n",
      "Data columns (total 67 columns):\n",
      " #   Column                      Non-Null Count  Dtype  \n",
      "---  ------                      --------------  -----  \n",
      " 0   income_am                   1277 non-null   float64\n",
      " 1   profit_last_am              1277 non-null   float64\n",
      " 2   profit_am                   1277 non-null   float64\n",
      " 3   damage_am                   1277 non-null   float64\n",
      " 4   damage_inc                  1277 non-null   float64\n",
      " 5   crd_lim_rec                 1277 non-null   float64\n",
      " 6   cab_requests                1277 non-null   float64\n",
      " 7   bar_no                      1277 non-null   float64\n",
      " 8   neighbor_income             1277 non-null   float64\n",
      " 9   age                         1277 non-null   float64\n",
      " 10  client_segment              1277 non-null   float64\n",
      " 11  sect_empl                   1277 non-null   float64\n",
      " 12  fam_adult_size              1277 non-null   float64\n",
      " 13  children_no                 1277 non-null   float64\n",
      " 14  tenure_mts                  1277 non-null   float64\n",
      " 15  claims_no                   1277 non-null   float64\n",
      " 16  claims_am                   1277 non-null   float64\n",
      " 17  nights_booked               1277 non-null   float64\n",
      " 18  shop_am                     1277 non-null   float64\n",
      " 19  outcome_damage_amount       1277 non-null   float64\n",
      " 20  credit_use_ic_0.0           1277 non-null   int64  \n",
      " 21  credit_use_ic_1.0           1277 non-null   int64  \n",
      " 22  credit_use_ic_Undefined     1277 non-null   int64  \n",
      " 23  insurance_ic_0.0            1277 non-null   int64  \n",
      " 24  insurance_ic_1.0            1277 non-null   int64  \n",
      " 25  insurance_ic_Undefined      1277 non-null   int64  \n",
      " 26  spa_ic_0.0                  1277 non-null   int64  \n",
      " 27  spa_ic_1.0                  1277 non-null   int64  \n",
      " 28  spa_ic_Undefined            1277 non-null   int64  \n",
      " 29  married_cd_False            1277 non-null   int64  \n",
      " 30  married_cd_True             1277 non-null   int64  \n",
      " 31  sport_ic_0.0                1277 non-null   int64  \n",
      " 32  sport_ic_1.0                1277 non-null   int64  \n",
      " 33  sport_ic_Undefined          1277 non-null   int64  \n",
      " 34  marketing_permit_0.0        1277 non-null   int64  \n",
      " 35  marketing_permit_1.0        1277 non-null   int64  \n",
      " 36  marketing_permit_Undefined  1277 non-null   int64  \n",
      " 37  urban_ic_0.0                1277 non-null   int64  \n",
      " 38  urban_ic_1.0                1277 non-null   int64  \n",
      " 39  urban_ic_Undefined          1277 non-null   int64  \n",
      " 40  dining_ic_0.0               1277 non-null   int64  \n",
      " 41  dining_ic_1.0               1277 non-null   int64  \n",
      " 42  dining_ic_Undefined         1277 non-null   int64  \n",
      " 43  presidential_0.0            1277 non-null   int64  \n",
      " 44  presidential_1.0            1277 non-null   int64  \n",
      " 45  presidential_Undefined      1277 non-null   int64  \n",
      " 46  prev_stay_0.0               1277 non-null   int64  \n",
      " 47  prev_stay_1.0               1277 non-null   int64  \n",
      " 48  prev_stay_Undefined         1277 non-null   int64  \n",
      " 49  prev_all_in_stay_0.0        1277 non-null   int64  \n",
      " 50  prev_all_in_stay_1.0        1277 non-null   int64  \n",
      " 51  prev_all_in_stay_Undefined  1277 non-null   int64  \n",
      " 52  company_ic_0.0              1277 non-null   int64  \n",
      " 53  company_ic_1.0              1277 non-null   int64  \n",
      " 54  company_ic_Undefined        1277 non-null   int64  \n",
      " 55  gender_M                    1277 non-null   int64  \n",
      " 56  gender_Undefined            1277 non-null   int64  \n",
      " 57  gender_V                    1277 non-null   int64  \n",
      " 58  shop_use_0.0                1277 non-null   int64  \n",
      " 59  shop_use_1.0                1277 non-null   int64  \n",
      " 60  shop_use_Undefined          1277 non-null   int64  \n",
      " 61  retired_0.0                 1277 non-null   int64  \n",
      " 62  retired_1.0                 1277 non-null   int64  \n",
      " 63  retired_Undefined           1277 non-null   int64  \n",
      " 64  gold_status_0.0             1277 non-null   int64  \n",
      " 65  gold_status_1.0             1277 non-null   int64  \n",
      " 66  gold_status_Undefined       1277 non-null   int64  \n",
      "dtypes: float64(20), int64(47)\n",
      "memory usage: 668.6 KB\n"
     ]
    }
   ],
   "source": [
    "df.info()"
   ]
  },
  {
   "cell_type": "raw",
   "id": "acute-feedback",
   "metadata": {},
   "source": [
    "from sklearn.decomposition import PCA\n",
    "pca_model = PCA(n_components=67, svd_solver='full')\n",
    "pca_model.fit(df)"
   ]
  },
  {
   "cell_type": "raw",
   "id": "dedicated-surname",
   "metadata": {},
   "source": [
    "import matplotlib.pyplot as plt\n",
    "plt.plot(pca_model.explained_variance_)\n",
    "plt.xlabel('number of components')\n",
    "plt.ylabel('explained variance')\n",
    "plt.show()"
   ]
  },
  {
   "cell_type": "raw",
   "id": "confused-duration",
   "metadata": {},
   "source": [
    "import numpy as np\n",
    "EV = pca_model.explained_variance_[0:10]\n",
    "\n",
    "plt.plot(EV)\n",
    "plt.xlabel('number of components')\n",
    "plt.ylabel('explained variance')\n",
    "plt.xticks(np.arange(len(EV)), np.arange(1, len(EV)+1))  #Otherwise the x-axis starts at 1)\n",
    "plt.show()"
   ]
  },
  {
   "cell_type": "raw",
   "id": "excessive-corpus",
   "metadata": {},
   "source": [
    "np.cumsum(pca_model.explained_variance_ratio_)"
   ]
  },
  {
   "cell_type": "raw",
   "id": "confident-gauge",
   "metadata": {},
   "source": [
    "CS = np.cumsum(pca_model.explained_variance_ratio_)[0:30]\n",
    "plt.plot(CS)\n",
    "plt.xlabel('number of components')\n",
    "plt.ylabel('explained variance')\n",
    "plt.xticks(np.arange(len(CS)), np.arange(1, len(CS)+1))\n",
    "\n",
    "plt.show()"
   ]
  },
  {
   "cell_type": "raw",
   "id": "standing-party",
   "metadata": {},
   "source": [
    "pca_model = PCA(n_components=7, svd_solver='full')\n",
    "pca_model.fit(df)\n",
    "pca_data= pca_model.transform(df)"
   ]
  },
  {
   "cell_type": "raw",
   "id": "overall-nickname",
   "metadata": {},
   "source": [
    "pca_data.shape"
   ]
  },
  {
   "cell_type": "markdown",
   "id": "hybrid-balloon",
   "metadata": {},
   "source": [
    "## Train and test split"
   ]
  },
  {
   "cell_type": "markdown",
   "id": "sporting-finland",
   "metadata": {},
   "source": [
    "shuffling the data"
   ]
  },
  {
   "cell_type": "code",
   "execution_count": 4,
   "id": "concrete-aquatic",
   "metadata": {},
   "outputs": [],
   "source": [
    "from random import Random\n",
    "df_shuffle = df.sample(frac=1, random_state=6541)"
   ]
  },
  {
   "cell_type": "code",
   "execution_count": 5,
   "id": "republican-cathedral",
   "metadata": {},
   "outputs": [],
   "source": [
    "from sklearn.model_selection import train_test_split\n",
    "\n",
    "X = df_shuffle.drop(['outcome_damage_amount'],1)\n",
    "y = df_shuffle['outcome_damage_amount']\n",
    "\n",
    "X_train, X_test, y_train, y_test = train_test_split(X, y, test_size=0.2, random_state=6541)"
   ]
  },
  {
   "cell_type": "markdown",
   "id": "grand-mercury",
   "metadata": {},
   "source": [
    "## Random forest\n"
   ]
  },
  {
   "cell_type": "raw",
   "id": "prompt-convertible",
   "metadata": {},
   "source": [
    "from sklearn.model_selection import RandomizedSearchCV\n",
    "from sklearn.ensemble import RandomForestRegressor\n",
    "\n",
    "criterion =['mse','mae']\n",
    "n_estimators = [int(x) for x in np.linspace(start = 100, stop = 500, num = 200)]\n",
    "max_features = ['auto', 'sqrt', 'log2']\n",
    "max_depth = [int(x) for x in np.linspace(1, 15, num = 15)]\n",
    "min_samples_split = [int(x) for x in np.linspace(2, 15, num = 14)]\n",
    "min_samples_leaf = [int(x) for x in np.linspace(1, 15, num = 15)]\n",
    "max_leaf_nodes = [int(x) for x in np.linspace(10, 500, num = 490)]\n",
    "\n",
    "# create the random grid to search for best hyperparameters\n",
    "random_grid = {'criterion': criterion,\n",
    "               'n_estimators': n_estimators,\n",
    "               'max_features': max_features,\n",
    "               'max_depth': max_depth,\n",
    "               'min_samples_split': min_samples_split,\n",
    "               'min_samples_leaf': min_samples_leaf,\n",
    "               'max_leaf_nodes': max_leaf_nodes}\n",
    "\n",
    "# then do cross-validatoin\n",
    "rf = RandomForestRegressor()\n",
    "rf_random = RandomizedSearchCV(estimator = rf, param_distributions = random_grid, n_iter = 500, \n",
    "                               cv = 5, verbose=5, random_state=6541, n_jobs=-1)\n",
    "# n_jobs=-1 to run as many models  parallel as possible\n",
    "rf_random.fit(X_train, y_train)"
   ]
  },
  {
   "cell_type": "raw",
   "id": "planned-plastic",
   "metadata": {},
   "source": [
    "print(rf_random.score(X_train, y_train))\n",
    "print(rf_random.score(X_test, y_test))"
   ]
  },
  {
   "cell_type": "raw",
   "id": "brave-fantasy",
   "metadata": {},
   "source": [
    "out = pd.DataFrame(rf_random.cv_results_)\n",
    "\n",
    "xlabel_names = ['param_max_depth','param_min_samples_split','param_min_samples_leaf','param_n_estimators',\n",
    "                'param_max_features', 'param_max_leaf_nodes', 'param_criterion']\n",
    "\n",
    "fig, axs = plt.subplots(3,3, figsize=(20,10))\n",
    "\n",
    "axs[0,0].scatter(out['param_max_depth'], out['mean_test_score'], c='blue');\n",
    "axs[0,0].set_title('max_depth')\n",
    "\n",
    "axs[0,1].scatter(out['param_min_samples_split'], out['mean_test_score'], c='blue');\n",
    "axs[0,1].set_title('min_samples_split')\n",
    "\n",
    "axs[0,2].scatter(out['param_min_samples_leaf'], out['mean_test_score'], c='blue');\n",
    "axs[0,2].set_title('min_samples_leaf')\n",
    "\n",
    "axs[1,0].scatter(out['param_n_estimators'], out['mean_test_score'], c='blue');\n",
    "axs[1,0].set_title('n_estimators')\n",
    "\n",
    "axs[1,1].scatter(out['param_max_features'], out['mean_test_score'], c='blue');\n",
    "axs[1,1].set_title('max_features')\n",
    "\n",
    "axs[1,2].scatter(out['param_max_leaf_nodes'], out['mean_test_score'], c='blue');\n",
    "axs[1,2].set_title('max_leaf_nodes')\n",
    "\n",
    "axs[2,0].scatter(out['param_criterion'], out['mean_test_score'], c='blue');\n",
    "axs[2,0].set_title('criterion')\n",
    "\n",
    "for ax in axs.flat:\n",
    "    ax.set(ylabel='r_squared')"
   ]
  },
  {
   "cell_type": "raw",
   "id": "lonely-logistics",
   "metadata": {},
   "source": [
    "out = out[out.mean_test_score > 0.17]"
   ]
  },
  {
   "cell_type": "raw",
   "id": "radio-antenna",
   "metadata": {},
   "source": [
    "fig, ax = plt.subplots(figsize=(8, 6))\n",
    "ax.scatter(out['param_max_depth'], out['mean_test_score'], c='blue');\n",
    "ax.set_xlabel(\"max_depth\");\n",
    "ax.set_ylabel(\"r_squared\");"
   ]
  },
  {
   "cell_type": "raw",
   "id": "tropical-sampling",
   "metadata": {},
   "source": [
    "fig, ax = plt.subplots(figsize=(8, 6))\n",
    "ax.scatter(out['param_min_samples_split'], out['mean_test_score'], c='blue');\n",
    "ax.set_xlabel(\"min_samples_split\");\n",
    "ax.set_ylabel(\"r_squared\");"
   ]
  },
  {
   "cell_type": "raw",
   "id": "continent-labor",
   "metadata": {},
   "source": [
    "fig, ax = plt.subplots(figsize=(8, 6))\n",
    "ax.scatter(out['param_min_samples_leaf'], out['mean_test_score'], c='blue');\n",
    "ax.set_xlabel(\"min_samples_leaf\");\n",
    "ax.set_ylabel(\"r_squared\");"
   ]
  },
  {
   "cell_type": "raw",
   "id": "worthy-packing",
   "metadata": {},
   "source": [
    "fig, ax = plt.subplots(figsize=(8, 6))\n",
    "ax.scatter(out['param_n_estimators'], out['mean_test_score'], c='blue');\n",
    "ax.set_xlabel(\"n_estimators\");\n",
    "ax.set_ylabel(\"r_squared\");"
   ]
  },
  {
   "cell_type": "raw",
   "id": "framed-north",
   "metadata": {},
   "source": [
    "fig, ax = plt.subplots(figsize=(8, 6))\n",
    "ax.scatter(out['param_max_features'], out['mean_test_score'], c='blue');\n",
    "ax.set_xlabel(\"max_features\");\n",
    "ax.set_ylabel(\"r_squared\");"
   ]
  },
  {
   "cell_type": "raw",
   "id": "smooth-university",
   "metadata": {},
   "source": [
    "fig, ax = plt.subplots(figsize=(8, 6))\n",
    "ax.scatter(out['param_max_leaf_nodes'], out['mean_test_score'], c='blue');\n",
    "ax.set_xlabel(\"max_leaf_nodes\");\n",
    "ax.set_ylabel(\"r_squared\");"
   ]
  },
  {
   "cell_type": "raw",
   "id": "hybrid-robert",
   "metadata": {},
   "source": [
    "fig, ax = plt.subplots(figsize=(8, 6))\n",
    "ax.scatter(out['param_criterion'], out['mean_test_score'], c='blue');\n",
    "ax.set_xlabel(\"criterion\");\n",
    "ax.set_ylabel(\"r_squared\");"
   ]
  },
  {
   "cell_type": "raw",
   "id": "varying-authority",
   "metadata": {},
   "source": [
    "from sklearn.model_selection import GridSearchCV\n",
    "from sklearn.ensemble import RandomForestRegressor\n",
    "\n",
    "\n",
    "max_depth = [9,10]\n",
    "min_samples_split = [5, 12]\n",
    "min_samples_leaf = [11,13]\n",
    "n_estimators = [251,390,470]\n",
    "max_features = ['auto']\n",
    "max_leaf_nodes = [170, 350]\n",
    "criterion =['mae', 'mse']\n",
    "\n",
    "\n",
    "# create the random grid to search for best hyperparameters\n",
    "grid = {'criterion': criterion,\n",
    "               'n_estimators': n_estimators,\n",
    "               'max_features': max_features,\n",
    "                'max_leaf_nodes': max_leaf_nodes,\n",
    "               'max_depth': max_depth,\n",
    "               'min_samples_split': min_samples_split,\n",
    "               'min_samples_leaf': min_samples_leaf}\n",
    "\n",
    "# then do cross-validatoin\n",
    "rf = RandomForestRegressor()\n",
    "rf_grid = GridSearchCV(estimator = rf, param_grid = grid,\n",
    "                               cv = 3, verbose=2,  n_jobs=-1)\n",
    "# n_jobs=-1 to run as many models  parallel as possible\n",
    "rf_grid.fit(X_train, y_train)"
   ]
  },
  {
   "cell_type": "raw",
   "id": "following-pollution",
   "metadata": {},
   "source": [
    "rf_grid.best_params_"
   ]
  },
  {
   "cell_type": "raw",
   "id": "southeast-bahamas",
   "metadata": {},
   "source": [
    "params = rf_grid.best_params_\n",
    "rf_gridBest = RandomForestRegressor(**params)\n",
    "rf_gridBest.fit(X_train, y_train)\n",
    "print('R2: %.3f' % rf_gridBest.score(X_train, y_train))\n",
    "print('R2: %.3f' % rf_gridBest.score(X_test, y_test))"
   ]
  },
  {
   "cell_type": "raw",
   "id": "brief-challenge",
   "metadata": {},
   "source": [
    "from matplotlib import pyplot as plt\n",
    "\n",
    "plt.figure(figsize=(20,10))\n",
    "\n",
    "feat_importances = pd.Series(rf_gridBest.feature_importances_, index=X_train.columns)\n",
    "feat_importances.nlargest(38).plot(kind='barh')\n",
    "plt.show()"
   ]
  },
  {
   "cell_type": "raw",
   "id": "vulnerable-cancer",
   "metadata": {},
   "source": [
    "plt.figure()\n",
    "\n",
    "feat_importances.nlargest(20).plot(kind='barh')\n",
    "plt.show()"
   ]
  },
  {
   "cell_type": "code",
   "execution_count": null,
   "id": "median-president",
   "metadata": {},
   "outputs": [
    {
     "name": "stdout",
     "output_type": "stream",
     "text": [
      "Fitting 5 folds for each of 500 candidates, totalling 2500 fits\n"
     ]
    }
   ],
   "source": [
    "from sklearn.model_selection import RandomizedSearchCV\n",
    "from sklearn.ensemble import GradientBoostingRegressor\n",
    "\n",
    "max_features = ['auto']\n",
    "\n",
    "\n",
    "criterion =['mse','mae']\n",
    "n_estimators = [int(x) for x in np.linspace(start = 100, stop = 500, num = 50)]\n",
    "max_depth = [int(x) for x in np.linspace(1, 15, num = 15)]\n",
    "min_samples_split = [int(x) for x in np.linspace(2, 15, num = 14)]\n",
    "min_samples_leaf = [int(x) for x in np.linspace(1, 15, num = 15)]\n",
    "max_leaf_nodes = [int(x) for x in np.linspace(10, 500, num = 50)]\n",
    "loss = ['ls','lad','huber','quantile']\n",
    "learning_rate = [round(x,5) for x in np.linspace(0.1, 1, num = 10)]\n",
    "\n",
    "# create the random grid to search for best hyperparameters\n",
    "random_grid = {'criterion': criterion,\n",
    "               'n_estimators': n_estimators,\n",
    "               'max_features': max_features,\n",
    "               'max_depth': max_depth,\n",
    "               'min_samples_split': min_samples_split,\n",
    "               'min_samples_leaf': min_samples_leaf,\n",
    "               'max_leaf_nodes': max_leaf_nodes,\n",
    "               'loss': loss,\n",
    "               'learning_rate': learning_rate}\n",
    "\n",
    "# then do cross-validatoin\n",
    "gbm = GradientBoostingRegressor()\n",
    "gbm_random = RandomizedSearchCV(estimator = gbm, param_distributions = random_grid, n_iter = 500, \n",
    "                               cv = 5, verbose=1, random_state=1234, n_jobs=-1)\n",
    "gbm_random.fit(X_train, y_train)"
   ]
  },
  {
   "cell_type": "code",
   "execution_count": null,
   "id": "operating-stomach",
   "metadata": {},
   "outputs": [],
   "source": [
    "print(gbm_random.score(X_train, y_train))\n",
    "gbm_random.score(X_test, y_test)"
   ]
  },
  {
   "cell_type": "code",
   "execution_count": null,
   "id": "great-korea",
   "metadata": {},
   "outputs": [],
   "source": [
    "gbm_random.best_params_"
   ]
  },
  {
   "cell_type": "code",
   "execution_count": null,
   "id": "applied-determination",
   "metadata": {},
   "outputs": [],
   "source": [
    "out2 = pd.DataFrame(gbm_random.cv_results_)\n",
    "\n",
    "xlabel_names = ['param_max_depth','param_min_samples_split','param_min_samples_leaf','param_n_estimators',\n",
    "                'param_max_features', 'param_max_leaf_nodes', 'param_criterion']\n",
    "\n",
    "fig, axs = plt.subplots(3,3, figsize=(20,10))\n",
    "\n",
    "axs[0,0].scatter(out2['param_max_depth'], out2['mean_test_score'], c='blue');\n",
    "axs[0,0].set_title('max_depth')\n",
    "\n",
    "axs[0,1].scatter(out2['param_min_samples_split'], out2['mean_test_score'], c='blue');\n",
    "axs[0,1].set_title('min_samples_split')\n",
    "\n",
    "axs[0,2].scatter(out2['param_min_samples_leaf'], out2['mean_test_score'], c='blue');\n",
    "axs[0,2].set_title('min_samples_leaf')\n",
    "\n",
    "axs[1,0].scatter(out2['param_n_estimators'], out2['mean_test_score'], c='blue');\n",
    "axs[1,0].set_title('n_estimators')\n",
    "\n",
    "axs[1,1].scatter(out2['param_max_features'], out2['mean_test_score'], c='blue');\n",
    "axs[1,1].set_title('max_features')\n",
    "\n",
    "axs[1,2].scatter(out2['param_max_leaf_nodes'], out2['mean_test_score'], c='blue');\n",
    "axs[1,2].set_title('max_leaf_nodes')\n",
    "\n",
    "axs[2,0].scatter(out2['param_criterion'], out2['mean_test_score'], c='blue');\n",
    "axs[2,0].set_title('criterion')\n",
    "\n",
    "axs[2,1].scatter(out2['param_learning_rate'], out2['mean_test_score'], c='blue');\n",
    "axs[2,1].set_title('learning_rate')\n",
    "\n",
    "axs[2,2].scatter(out2['param_loss'], out2['mean_test_score'], c='blue');\n",
    "axs[2,2].set_title('loss')\n",
    "\n",
    "\n",
    "for ax in axs.flat: ax.set(ylabel='r_squared')"
   ]
  },
  {
   "cell_type": "code",
   "execution_count": null,
   "id": "humanitarian-eight",
   "metadata": {},
   "outputs": [],
   "source": [
    "out2 = out2[out2.mean_test_score > 0.5]"
   ]
  },
  {
   "cell_type": "code",
   "execution_count": null,
   "id": "useful-april",
   "metadata": {},
   "outputs": [],
   "source": [
    "xlabel_names = ['param_max_depth','param_min_samples_split','param_min_samples_leaf','param_n_estimators',\n",
    "                'param_max_features', 'param_max_leaf_nodes', 'param_criterion']\n",
    "\n",
    "fig, axs = plt.subplots(3,3, figsize=(20,10))\n",
    "\n",
    "axs[0,0].scatter(out2['param_max_depth'], out2['mean_test_score'], c='blue');\n",
    "axs[0,0].set_title('max_depth')\n",
    "\n",
    "axs[0,1].scatter(out2['param_min_samples_split'], out2['mean_test_score'], c='blue');\n",
    "axs[0,1].set_title('min_samples_split')\n",
    "\n",
    "axs[0,2].scatter(out2['param_min_samples_leaf'], out2['mean_test_score'], c='blue');\n",
    "axs[0,2].set_title('min_samples_leaf')\n",
    "\n",
    "axs[1,0].scatter(out2['param_n_estimators'], out2['mean_test_score'], c='blue');\n",
    "axs[1,0].set_title('n_estimators')\n",
    "\n",
    "axs[1,1].scatter(out2['param_max_features'], out2['mean_test_score'], c='blue');\n",
    "axs[1,1].set_title('max_features')\n",
    "\n",
    "axs[1,2].scatter(out2['param_max_leaf_nodes'], out2['mean_test_score'], c='blue');\n",
    "axs[1,2].set_title('max_leaf_nodes')\n",
    "\n",
    "axs[2,0].scatter(out2['param_criterion'], out2['mean_test_score'], c='blue');\n",
    "axs[2,0].set_title('criterion')\n",
    "\n",
    "axs[2,1].scatter(out2['param_learning_rate'], out2['mean_test_score'], c='blue');\n",
    "axs[2,1].set_title('learning_rate')\n",
    "\n",
    "axs[2,2].scatter(out2['param_loss'], out2['mean_test_score'], c='blue');\n",
    "axs[2,2].set_title('loss')\n",
    "\n",
    "\n",
    "for ax in axs.flat: ax.set(ylabel='r_squared')"
   ]
  },
  {
   "cell_type": "code",
   "execution_count": null,
   "id": "small-chocolate",
   "metadata": {},
   "outputs": [],
   "source": [
    "gbm_random.best_params_"
   ]
  },
  {
   "cell_type": "code",
   "execution_count": null,
   "id": "protected-attendance",
   "metadata": {},
   "outputs": [],
   "source": [
    "from sklearn.model_selection import GridSearchCV\n",
    "from sklearn.ensemble import RandomForestRegressor\n",
    "\n",
    "max_depth = [2, 3, 4]\n",
    "min_samples_split = [5, 11, 13]\n",
    "min_samples_leaf = [5, 8, 11]\n",
    "n_estimators = [110, 349, 369, 469]\n",
    "max_features = ['auto']\n",
    "max_leaf_nodes = [80, 220, 420]\n",
    "criterion =['mse']\n",
    "learning_rate = [0.08, 0.09,0.1,0.11,0.12]\n",
    "loss = ['huber']\n",
    "\n",
    "# create the random grid to search for best hyperparameters\n",
    "grid = {'criterion': criterion,\n",
    "               'n_estimators': n_estimators,\n",
    "               'max_features': max_features,\n",
    "               'max_depth': max_depth,\n",
    "               'min_samples_split': min_samples_split,\n",
    "               'min_samples_leaf': min_samples_leaf,\n",
    "                'max_leaf_nodes': max_leaf_nodes,\n",
    "               'learning_rate': learning_rate,\n",
    "               'loss':loss}\n",
    "\n",
    "# then do cross-validatoin\n",
    "gbm = GradientBoostingRegressor()\n",
    "gbm_grid = GridSearchCV(estimator = gbm, param_grid = grid,\n",
    "                               cv = 5, verbose=2,  n_jobs=-1)\n",
    "# n_jobs=-1 to run as many models  parallel as possible\n",
    "gbm_grid.fit(X_train, y_train)"
   ]
  },
  {
   "cell_type": "code",
   "execution_count": null,
   "id": "resistant-situation",
   "metadata": {},
   "outputs": [],
   "source": [
    "gbm_grid.best_params_"
   ]
  },
  {
   "cell_type": "code",
   "execution_count": null,
   "id": "affected-active",
   "metadata": {},
   "outputs": [],
   "source": [
    "params = gbm_grid.best_params_\n",
    "gbm_gridBest = GradientBoostingRegressor(**params)\n",
    "gbm_gridBest.fit(X_train, y_train)\n",
    "print('R2: %.3f' % gbm_gridBest.score(X_train, y_train))\n",
    "print('R2: %.3f' % gbm_gridBest.score(X_test, y_test))"
   ]
  },
  {
   "cell_type": "raw",
   "id": "southeast-packet",
   "metadata": {},
   "source": [
    "import joblib"
   ]
  },
  {
   "cell_type": "raw",
   "id": "happy-extreme",
   "metadata": {},
   "source": [
    "joblib.dump(gbm_gridBest, \"CurrentBest.pkl\")"
   ]
  },
  {
   "cell_type": "code",
   "execution_count": null,
   "id": "pleased-teens",
   "metadata": {},
   "outputs": [],
   "source": []
  },
  {
   "cell_type": "code",
   "execution_count": null,
   "id": "demographic-separate",
   "metadata": {},
   "outputs": [],
   "source": [
    "#pip install sklearn"
   ]
  },
  {
   "cell_type": "code",
   "execution_count": null,
   "id": "intermediate-convenience",
   "metadata": {},
   "outputs": [],
   "source": []
  }
 ],
 "metadata": {
  "kernelspec": {
   "display_name": "Python 3",
   "language": "python",
   "name": "python3"
  },
  "language_info": {
   "codemirror_mode": {
    "name": "ipython",
    "version": 3
   },
   "file_extension": ".py",
   "mimetype": "text/x-python",
   "name": "python",
   "nbconvert_exporter": "python",
   "pygments_lexer": "ipython3",
   "version": "3.8.2"
  }
 },
 "nbformat": 4,
 "nbformat_minor": 5
}