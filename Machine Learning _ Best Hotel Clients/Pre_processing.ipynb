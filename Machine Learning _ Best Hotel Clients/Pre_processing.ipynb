{
 "cells": [
  {
   "cell_type": "markdown",
   "metadata": {
    "id": "fuvEu8ksrKcx"
   },
   "source": [
    "# Pre processing"
   ]
  },
  {
   "cell_type": "markdown",
   "metadata": {
    "id": "Dqoaho0rwTKn"
   },
   "source": [
    "## Data bekijken"
   ]
  },
  {
   "cell_type": "markdown",
   "metadata": {
    "id": "EBmavm9FtegQ"
   },
   "source": [
    "### Eerste keer de data bekijken..."
   ]
  },
  {
   "cell_type": "code",
   "execution_count": 21,
   "metadata": {
    "id": "AT8PmulprKcz"
   },
   "outputs": [],
   "source": [
    "%matplotlib inline\n",
    "import numpy as np\n",
    "import pandas as pd\n",
    "import matplotlib as mpl\n",
    "import matplotlib.pyplot as plt\n",
    "import seaborn as sns\n",
    "plt.style.use('seaborn-darkgrid')\n"
   ]
  },
  {
   "cell_type": "code",
   "execution_count": 22,
   "metadata": {
    "id": "88cQ_qdTrKc0"
   },
   "outputs": [],
   "source": [
    "df = pd.read_csv('datasets/train_V2.csv')"
   ]
  },
  {
   "cell_type": "code",
   "execution_count": 23,
   "metadata": {
    "id": "DfptgZu8rKc1",
    "outputId": "4802d2a6-571b-4002-b448-b38411810469"
   },
   "outputs": [
    {
     "data": {
      "text/plain": [
       "(5000, 53)"
      ]
     },
     "execution_count": 23,
     "metadata": {},
     "output_type": "execute_result"
    }
   ],
   "source": [
    "df.shape"
   ]
  },
  {
   "cell_type": "code",
   "execution_count": null,
   "metadata": {
    "id": "-hO9nPKxrKc2",
    "outputId": "ef7843e8-5b23-4ea0-b7fe-546447a4159b"
   },
   "outputs": [
    {
     "name": "stdout",
     "output_type": "stream",
     "text": [
      "<class 'pandas.core.frame.DataFrame'>\n",
      "RangeIndex: 5000 entries, 0 to 4999\n",
      "Data columns (total 53 columns):\n",
      " #   Column                 Non-Null Count  Dtype  \n",
      "---  ------                 --------------  -----  \n",
      " 0   income_am              4947 non-null   float64\n",
      " 1   profit_last_am         4947 non-null   float64\n",
      " 2   profit_am              4947 non-null   float64\n",
      " 3   damage_am              4954 non-null   float64\n",
      " 4   damage_inc             4947 non-null   float64\n",
      " 5   crd_lim_rec            4947 non-null   float64\n",
      " 6   credit_use_ic          4947 non-null   float64\n",
      " 7   gluten_ic              4947 non-null   float64\n",
      " 8   lactose_ic             4947 non-null   float64\n",
      " 9   insurance_ic           4947 non-null   float64\n",
      " 10  spa_ic                 4970 non-null   float64\n",
      " 11  empl_ic                4999 non-null   float64\n",
      " 12  cab_requests           4912 non-null   float64\n",
      " 13  married_cd             5000 non-null   bool   \n",
      " 14  bar_no                 4947 non-null   float64\n",
      " 15  sport_ic               4947 non-null   float64\n",
      " 16  neighbor_income        4761 non-null   float64\n",
      " 17  age                    4947 non-null   float64\n",
      " 18  marketing_permit       4947 non-null   float64\n",
      " 19  urban_ic               4947 non-null   float64\n",
      " 20  dining_ic              4912 non-null   float64\n",
      " 21  presidential           4912 non-null   float64\n",
      " 22  client_segment         4947 non-null   float64\n",
      " 23  sect_empl              4947 non-null   float64\n",
      " 24  prev_stay              4947 non-null   float64\n",
      " 25  prev_all_in_stay       4947 non-null   float64\n",
      " 26  divorce                4947 non-null   float64\n",
      " 27  fam_adult_size         4947 non-null   float64\n",
      " 28  children_no            4947 non-null   float64\n",
      " 29  tenure_mts             4608 non-null   float64\n",
      " 30  tenure_yrs             4608 non-null   float64\n",
      " 31  company_ic             4947 non-null   float64\n",
      " 32  claims_no              4947 non-null   float64\n",
      " 33  claims_am              4973 non-null   float64\n",
      " 34  nights_booked          4947 non-null   float64\n",
      " 35  gender                 4947 non-null   object \n",
      " 36  shop_am                4947 non-null   float64\n",
      " 37  shop_use               4912 non-null   float64\n",
      " 38  retired                4947 non-null   float64\n",
      " 39  gold_status            4947 non-null   float64\n",
      " 40  score1_pos             1225 non-null   float64\n",
      " 41  score1_neg             1314 non-null   float64\n",
      " 42  score2_pos             1209 non-null   float64\n",
      " 43  score2_neg             1304 non-null   float64\n",
      " 44  score3_pos             1261 non-null   float64\n",
      " 45  score3_neg             1367 non-null   float64\n",
      " 46  score4_pos             1223 non-null   float64\n",
      " 47  score4_neg             1324 non-null   float64\n",
      " 48  score5_pos             1232 non-null   float64\n",
      " 49  score5_neg             1493 non-null   float64\n",
      " 50  outcome_profit         5000 non-null   float64\n",
      " 51  outcome_damage_inc     5000 non-null   int64  \n",
      " 52  outcome_damage_amount  5000 non-null   float64\n",
      "dtypes: bool(1), float64(50), int64(1), object(1)\n",
      "memory usage: 2.0+ MB\n"
     ]
    }
   ],
   "source": [
    "df.info()"
   ]
  },
  {
   "cell_type": "code",
   "execution_count": null,
   "metadata": {
    "id": "ctDNcadLrKc2",
    "outputId": "42643d08-7fa8-42a8-c9f9-9b2828341230"
   },
   "outputs": [],
   "source": [
    "df.isnull().sum()[df.isnull().sum() != 0]"
   ]
  },
  {
   "cell_type": "code",
   "execution_count": null,
   "metadata": {
    "id": "P_7-p-X7rKc3",
    "outputId": "e5447952-65e2-4673-fd0d-bdd8757d19b3",
    "scrolled": true
   },
   "outputs": [
    {
     "data": {
      "text/plain": [
       "income_am           98.94\n",
       "profit_last_am      98.94\n",
       "profit_am           98.94\n",
       "damage_am           99.08\n",
       "damage_inc          98.94\n",
       "crd_lim_rec         98.94\n",
       "credit_use_ic       98.94\n",
       "gluten_ic           98.94\n",
       "lactose_ic          98.94\n",
       "insurance_ic        98.94\n",
       "spa_ic              99.40\n",
       "empl_ic             99.98\n",
       "cab_requests        98.24\n",
       "bar_no              98.94\n",
       "sport_ic            98.94\n",
       "neighbor_income     95.22\n",
       "age                 98.94\n",
       "marketing_permit    98.94\n",
       "urban_ic            98.94\n",
       "dining_ic           98.24\n",
       "presidential        98.24\n",
       "client_segment      98.94\n",
       "sect_empl           98.94\n",
       "prev_stay           98.94\n",
       "prev_all_in_stay    98.94\n",
       "divorce             98.94\n",
       "fam_adult_size      98.94\n",
       "children_no         98.94\n",
       "tenure_mts          92.16\n",
       "tenure_yrs          92.16\n",
       "company_ic          98.94\n",
       "claims_no           98.94\n",
       "claims_am           99.46\n",
       "nights_booked       98.94\n",
       "gender              98.94\n",
       "shop_am             98.94\n",
       "shop_use            98.24\n",
       "retired             98.94\n",
       "gold_status         98.94\n",
       "score1_pos          24.50\n",
       "score1_neg          26.28\n",
       "score2_pos          24.18\n",
       "score2_neg          26.08\n",
       "score3_pos          25.22\n",
       "score3_neg          27.34\n",
       "score4_pos          24.46\n",
       "score4_neg          26.48\n",
       "score5_pos          24.64\n",
       "score5_neg          29.86\n",
       "dtype: float64"
      ]
     },
     "execution_count": 6,
     "metadata": {
      "tags": []
     },
     "output_type": "execute_result"
    }
   ],
   "source": [
    "(5000-df.isnull().sum()[df.isnull().sum() != 0])/5000*100"
   ]
  },
  {
   "cell_type": "markdown",
   "metadata": {
    "id": "EtkYd1pBrKc3"
   },
   "source": [
    "### Kolommen en values bekijken\n",
    "\n",
    "We splitsen onze views in 4 gelijke delen, dit is voor ons overzichtelijker (door niet steeds te moeten scrollen, etc ...)"
   ]
  },
  {
   "cell_type": "code",
   "execution_count": 8,
   "metadata": {
    "id": "_E5d6WanrKc4",
    "outputId": "4cdb6539-a9f0-413f-d7dd-90974867847d",
    "scrolled": false
   },
   "outputs": [
    {
     "ename": "NameError",
     "evalue": "name 'df' is not defined",
     "output_type": "error",
     "traceback": [
      "\u001b[1;31m---------------------------------------------------------------------------\u001b[0m",
      "\u001b[1;31mNameError\u001b[0m                                 Traceback (most recent call last)",
      "\u001b[1;32m<ipython-input-8-95a0e54f0849>\u001b[0m in \u001b[0;36m<module>\u001b[1;34m\u001b[0m\n\u001b[1;32m----> 1\u001b[1;33m \u001b[0mdf\u001b[0m\u001b[1;33m.\u001b[0m\u001b[0miloc\u001b[0m\u001b[1;33m[\u001b[0m\u001b[1;33m:\u001b[0m\u001b[1;33m,\u001b[0m\u001b[1;36m0\u001b[0m\u001b[1;33m:\u001b[0m\u001b[1;36m15\u001b[0m\u001b[1;33m]\u001b[0m\u001b[1;33m.\u001b[0m\u001b[0mhead\u001b[0m\u001b[1;33m(\u001b[0m\u001b[1;33m)\u001b[0m\u001b[1;33m\u001b[0m\u001b[1;33m\u001b[0m\u001b[0m\n\u001b[0m",
      "\u001b[1;31mNameError\u001b[0m: name 'df' is not defined"
     ]
    }
   ],
   "source": [
    "df.iloc[:,0:15].head()"
   ]
  },
  {
   "cell_type": "code",
   "execution_count": null,
   "metadata": {
    "id": "46mltWpkrKc4",
    "outputId": "d7db39cc-09dd-4b16-eb06-76daab56f8e4"
   },
   "outputs": [
    {
     "data": {
      "text/html": [
       "<div>\n",
       "<style scoped>\n",
       "    .dataframe tbody tr th:only-of-type {\n",
       "        vertical-align: middle;\n",
       "    }\n",
       "\n",
       "    .dataframe tbody tr th {\n",
       "        vertical-align: top;\n",
       "    }\n",
       "\n",
       "    .dataframe thead th {\n",
       "        text-align: right;\n",
       "    }\n",
       "</style>\n",
       "<table border=\"1\" class=\"dataframe\">\n",
       "  <thead>\n",
       "    <tr style=\"text-align: right;\">\n",
       "      <th></th>\n",
       "      <th>sport_ic</th>\n",
       "      <th>neighbor_income</th>\n",
       "      <th>age</th>\n",
       "      <th>marketing_permit</th>\n",
       "      <th>urban_ic</th>\n",
       "      <th>dining_ic</th>\n",
       "      <th>presidential</th>\n",
       "      <th>client_segment</th>\n",
       "      <th>sect_empl</th>\n",
       "      <th>prev_stay</th>\n",
       "      <th>prev_all_in_stay</th>\n",
       "      <th>divorce</th>\n",
       "      <th>fam_adult_size</th>\n",
       "      <th>children_no</th>\n",
       "      <th>tenure_mts</th>\n",
       "    </tr>\n",
       "  </thead>\n",
       "  <tbody>\n",
       "    <tr>\n",
       "      <th>0</th>\n",
       "      <td>1.0</td>\n",
       "      <td>28936.0</td>\n",
       "      <td>37.0</td>\n",
       "      <td>0.0</td>\n",
       "      <td>1.0</td>\n",
       "      <td>0.0</td>\n",
       "      <td>0.0</td>\n",
       "      <td>1.0</td>\n",
       "      <td>1.0</td>\n",
       "      <td>1.0</td>\n",
       "      <td>1.0</td>\n",
       "      <td>0.0</td>\n",
       "      <td>3.0</td>\n",
       "      <td>2.0</td>\n",
       "      <td>476.0</td>\n",
       "    </tr>\n",
       "    <tr>\n",
       "      <th>1</th>\n",
       "      <td>0.0</td>\n",
       "      <td>16674.0</td>\n",
       "      <td>18.0</td>\n",
       "      <td>0.0</td>\n",
       "      <td>0.0</td>\n",
       "      <td>0.0</td>\n",
       "      <td>0.0</td>\n",
       "      <td>1.0</td>\n",
       "      <td>0.0</td>\n",
       "      <td>0.0</td>\n",
       "      <td>0.0</td>\n",
       "      <td>0.0</td>\n",
       "      <td>1.0</td>\n",
       "      <td>0.0</td>\n",
       "      <td>27.0</td>\n",
       "    </tr>\n",
       "    <tr>\n",
       "      <th>2</th>\n",
       "      <td>0.0</td>\n",
       "      <td>32552.0</td>\n",
       "      <td>21.0</td>\n",
       "      <td>0.0</td>\n",
       "      <td>1.0</td>\n",
       "      <td>0.0</td>\n",
       "      <td>0.0</td>\n",
       "      <td>1.0</td>\n",
       "      <td>0.0</td>\n",
       "      <td>1.0</td>\n",
       "      <td>0.0</td>\n",
       "      <td>0.0</td>\n",
       "      <td>1.0</td>\n",
       "      <td>0.0</td>\n",
       "      <td>95.0</td>\n",
       "    </tr>\n",
       "    <tr>\n",
       "      <th>3</th>\n",
       "      <td>1.0</td>\n",
       "      <td>32252.0</td>\n",
       "      <td>37.0</td>\n",
       "      <td>0.0</td>\n",
       "      <td>1.0</td>\n",
       "      <td>0.0</td>\n",
       "      <td>0.0</td>\n",
       "      <td>1.0</td>\n",
       "      <td>0.0</td>\n",
       "      <td>1.0</td>\n",
       "      <td>0.0</td>\n",
       "      <td>0.0</td>\n",
       "      <td>3.0</td>\n",
       "      <td>2.0</td>\n",
       "      <td>NaN</td>\n",
       "    </tr>\n",
       "    <tr>\n",
       "      <th>4</th>\n",
       "      <td>1.0</td>\n",
       "      <td>29605.0</td>\n",
       "      <td>26.0</td>\n",
       "      <td>0.0</td>\n",
       "      <td>1.0</td>\n",
       "      <td>0.0</td>\n",
       "      <td>0.0</td>\n",
       "      <td>2.0</td>\n",
       "      <td>0.0</td>\n",
       "      <td>1.0</td>\n",
       "      <td>0.0</td>\n",
       "      <td>0.0</td>\n",
       "      <td>2.0</td>\n",
       "      <td>0.0</td>\n",
       "      <td>354.0</td>\n",
       "    </tr>\n",
       "  </tbody>\n",
       "</table>\n",
       "</div>"
      ],
      "text/plain": [
       "   sport_ic  neighbor_income   age  marketing_permit  urban_ic  dining_ic  \\\n",
       "0       1.0          28936.0  37.0               0.0       1.0        0.0   \n",
       "1       0.0          16674.0  18.0               0.0       0.0        0.0   \n",
       "2       0.0          32552.0  21.0               0.0       1.0        0.0   \n",
       "3       1.0          32252.0  37.0               0.0       1.0        0.0   \n",
       "4       1.0          29605.0  26.0               0.0       1.0        0.0   \n",
       "\n",
       "   presidential  client_segment  sect_empl  prev_stay  prev_all_in_stay  \\\n",
       "0           0.0             1.0        1.0        1.0               1.0   \n",
       "1           0.0             1.0        0.0        0.0               0.0   \n",
       "2           0.0             1.0        0.0        1.0               0.0   \n",
       "3           0.0             1.0        0.0        1.0               0.0   \n",
       "4           0.0             2.0        0.0        1.0               0.0   \n",
       "\n",
       "   divorce  fam_adult_size  children_no  tenure_mts  \n",
       "0      0.0             3.0          2.0       476.0  \n",
       "1      0.0             1.0          0.0        27.0  \n",
       "2      0.0             1.0          0.0        95.0  \n",
       "3      0.0             3.0          2.0         NaN  \n",
       "4      0.0             2.0          0.0       354.0  "
      ]
     },
     "execution_count": 8,
     "metadata": {
      "tags": []
     },
     "output_type": "execute_result"
    }
   ],
   "source": [
    "df.iloc[:,15:30].head()"
   ]
  },
  {
   "cell_type": "code",
   "execution_count": null,
   "metadata": {
    "id": "5q4bJNMtrKc5",
    "outputId": "d0f01839-c8df-4bb3-d0a0-f62ab9ea8e96"
   },
   "outputs": [
    {
     "data": {
      "text/html": [
       "<div>\n",
       "<style scoped>\n",
       "    .dataframe tbody tr th:only-of-type {\n",
       "        vertical-align: middle;\n",
       "    }\n",
       "\n",
       "    .dataframe tbody tr th {\n",
       "        vertical-align: top;\n",
       "    }\n",
       "\n",
       "    .dataframe thead th {\n",
       "        text-align: right;\n",
       "    }\n",
       "</style>\n",
       "<table border=\"1\" class=\"dataframe\">\n",
       "  <thead>\n",
       "    <tr style=\"text-align: right;\">\n",
       "      <th></th>\n",
       "      <th>tenure_yrs</th>\n",
       "      <th>company_ic</th>\n",
       "      <th>claims_no</th>\n",
       "      <th>claims_am</th>\n",
       "      <th>nights_booked</th>\n",
       "      <th>gender</th>\n",
       "      <th>shop_am</th>\n",
       "      <th>shop_use</th>\n",
       "      <th>retired</th>\n",
       "      <th>gold_status</th>\n",
       "    </tr>\n",
       "  </thead>\n",
       "  <tbody>\n",
       "    <tr>\n",
       "      <th>0</th>\n",
       "      <td>40.0</td>\n",
       "      <td>0.0</td>\n",
       "      <td>0.0</td>\n",
       "      <td>0.0</td>\n",
       "      <td>209.0</td>\n",
       "      <td>M</td>\n",
       "      <td>0.000000</td>\n",
       "      <td>0.0</td>\n",
       "      <td>0.0</td>\n",
       "      <td>0.0</td>\n",
       "    </tr>\n",
       "    <tr>\n",
       "      <th>1</th>\n",
       "      <td>2.0</td>\n",
       "      <td>0.0</td>\n",
       "      <td>0.0</td>\n",
       "      <td>0.0</td>\n",
       "      <td>4.0</td>\n",
       "      <td>M</td>\n",
       "      <td>0.000000</td>\n",
       "      <td>0.0</td>\n",
       "      <td>0.0</td>\n",
       "      <td>0.0</td>\n",
       "    </tr>\n",
       "    <tr>\n",
       "      <th>2</th>\n",
       "      <td>8.0</td>\n",
       "      <td>0.0</td>\n",
       "      <td>0.0</td>\n",
       "      <td>0.0</td>\n",
       "      <td>6.0</td>\n",
       "      <td>M</td>\n",
       "      <td>0.000000</td>\n",
       "      <td>0.0</td>\n",
       "      <td>0.0</td>\n",
       "      <td>0.0</td>\n",
       "    </tr>\n",
       "    <tr>\n",
       "      <th>3</th>\n",
       "      <td>NaN</td>\n",
       "      <td>0.0</td>\n",
       "      <td>0.0</td>\n",
       "      <td>0.0</td>\n",
       "      <td>4.0</td>\n",
       "      <td>V</td>\n",
       "      <td>0.000000</td>\n",
       "      <td>0.0</td>\n",
       "      <td>0.0</td>\n",
       "      <td>0.0</td>\n",
       "    </tr>\n",
       "    <tr>\n",
       "      <th>4</th>\n",
       "      <td>30.0</td>\n",
       "      <td>0.0</td>\n",
       "      <td>0.0</td>\n",
       "      <td>0.0</td>\n",
       "      <td>3.0</td>\n",
       "      <td>V</td>\n",
       "      <td>1454.210627</td>\n",
       "      <td>1.0</td>\n",
       "      <td>0.0</td>\n",
       "      <td>0.0</td>\n",
       "    </tr>\n",
       "  </tbody>\n",
       "</table>\n",
       "</div>"
      ],
      "text/plain": [
       "   tenure_yrs  company_ic  claims_no  claims_am  nights_booked gender  \\\n",
       "0        40.0         0.0        0.0        0.0          209.0      M   \n",
       "1         2.0         0.0        0.0        0.0            4.0      M   \n",
       "2         8.0         0.0        0.0        0.0            6.0      M   \n",
       "3         NaN         0.0        0.0        0.0            4.0      V   \n",
       "4        30.0         0.0        0.0        0.0            3.0      V   \n",
       "\n",
       "       shop_am  shop_use  retired  gold_status  \n",
       "0     0.000000       0.0      0.0          0.0  \n",
       "1     0.000000       0.0      0.0          0.0  \n",
       "2     0.000000       0.0      0.0          0.0  \n",
       "3     0.000000       0.0      0.0          0.0  \n",
       "4  1454.210627       1.0      0.0          0.0  "
      ]
     },
     "execution_count": 9,
     "metadata": {
      "tags": []
     },
     "output_type": "execute_result"
    }
   ],
   "source": [
    "df.iloc[:,30:40].head()"
   ]
  },
  {
   "cell_type": "code",
   "execution_count": null,
   "metadata": {
    "id": "_q5RrZybrKc5",
    "outputId": "6c0a8f01-a532-406e-a284-f1fade97fa9e",
    "scrolled": true
   },
   "outputs": [
    {
     "data": {
      "text/html": [
       "<div>\n",
       "<style scoped>\n",
       "    .dataframe tbody tr th:only-of-type {\n",
       "        vertical-align: middle;\n",
       "    }\n",
       "\n",
       "    .dataframe tbody tr th {\n",
       "        vertical-align: top;\n",
       "    }\n",
       "\n",
       "    .dataframe thead th {\n",
       "        text-align: right;\n",
       "    }\n",
       "</style>\n",
       "<table border=\"1\" class=\"dataframe\">\n",
       "  <thead>\n",
       "    <tr style=\"text-align: right;\">\n",
       "      <th></th>\n",
       "      <th>score1_pos</th>\n",
       "      <th>score1_neg</th>\n",
       "      <th>score2_pos</th>\n",
       "      <th>score2_neg</th>\n",
       "      <th>score3_pos</th>\n",
       "      <th>score3_neg</th>\n",
       "      <th>score4_pos</th>\n",
       "      <th>score4_neg</th>\n",
       "      <th>score5_pos</th>\n",
       "      <th>score5_neg</th>\n",
       "      <th>outcome_profit</th>\n",
       "      <th>outcome_damage_inc</th>\n",
       "      <th>outcome_damage_amount</th>\n",
       "    </tr>\n",
       "  </thead>\n",
       "  <tbody>\n",
       "    <tr>\n",
       "      <th>0</th>\n",
       "      <td>0.467768</td>\n",
       "      <td>0.98334</td>\n",
       "      <td>NaN</td>\n",
       "      <td>NaN</td>\n",
       "      <td>NaN</td>\n",
       "      <td>NaN</td>\n",
       "      <td>0.838147</td>\n",
       "      <td>0.082288</td>\n",
       "      <td>NaN</td>\n",
       "      <td>NaN</td>\n",
       "      <td>1791.66</td>\n",
       "      <td>0</td>\n",
       "      <td>0.00</td>\n",
       "    </tr>\n",
       "    <tr>\n",
       "      <th>1</th>\n",
       "      <td>NaN</td>\n",
       "      <td>NaN</td>\n",
       "      <td>NaN</td>\n",
       "      <td>NaN</td>\n",
       "      <td>NaN</td>\n",
       "      <td>NaN</td>\n",
       "      <td>NaN</td>\n",
       "      <td>NaN</td>\n",
       "      <td>NaN</td>\n",
       "      <td>7.955259</td>\n",
       "      <td>1672.78</td>\n",
       "      <td>1</td>\n",
       "      <td>829.66</td>\n",
       "    </tr>\n",
       "    <tr>\n",
       "      <th>2</th>\n",
       "      <td>NaN</td>\n",
       "      <td>NaN</td>\n",
       "      <td>0.232375</td>\n",
       "      <td>0.099529</td>\n",
       "      <td>NaN</td>\n",
       "      <td>NaN</td>\n",
       "      <td>NaN</td>\n",
       "      <td>NaN</td>\n",
       "      <td>0.101955</td>\n",
       "      <td>1.743020</td>\n",
       "      <td>1001.40</td>\n",
       "      <td>0</td>\n",
       "      <td>0.00</td>\n",
       "    </tr>\n",
       "    <tr>\n",
       "      <th>3</th>\n",
       "      <td>NaN</td>\n",
       "      <td>NaN</td>\n",
       "      <td>NaN</td>\n",
       "      <td>NaN</td>\n",
       "      <td>NaN</td>\n",
       "      <td>0.889793</td>\n",
       "      <td>NaN</td>\n",
       "      <td>NaN</td>\n",
       "      <td>NaN</td>\n",
       "      <td>NaN</td>\n",
       "      <td>1785.59</td>\n",
       "      <td>0</td>\n",
       "      <td>0.00</td>\n",
       "    </tr>\n",
       "    <tr>\n",
       "      <th>4</th>\n",
       "      <td>NaN</td>\n",
       "      <td>NaN</td>\n",
       "      <td>NaN</td>\n",
       "      <td>NaN</td>\n",
       "      <td>0.330503</td>\n",
       "      <td>0.766294</td>\n",
       "      <td>0.490486</td>\n",
       "      <td>0.542445</td>\n",
       "      <td>NaN</td>\n",
       "      <td>NaN</td>\n",
       "      <td>3140.74</td>\n",
       "      <td>0</td>\n",
       "      <td>0.00</td>\n",
       "    </tr>\n",
       "  </tbody>\n",
       "</table>\n",
       "</div>"
      ],
      "text/plain": [
       "   score1_pos  score1_neg  score2_pos  score2_neg  score3_pos  score3_neg  \\\n",
       "0    0.467768     0.98334         NaN         NaN         NaN         NaN   \n",
       "1         NaN         NaN         NaN         NaN         NaN         NaN   \n",
       "2         NaN         NaN    0.232375    0.099529         NaN         NaN   \n",
       "3         NaN         NaN         NaN         NaN         NaN    0.889793   \n",
       "4         NaN         NaN         NaN         NaN    0.330503    0.766294   \n",
       "\n",
       "   score4_pos  score4_neg  score5_pos  score5_neg  outcome_profit  \\\n",
       "0    0.838147    0.082288         NaN         NaN         1791.66   \n",
       "1         NaN         NaN         NaN    7.955259         1672.78   \n",
       "2         NaN         NaN    0.101955    1.743020         1001.40   \n",
       "3         NaN         NaN         NaN         NaN         1785.59   \n",
       "4    0.490486    0.542445         NaN         NaN         3140.74   \n",
       "\n",
       "   outcome_damage_inc  outcome_damage_amount  \n",
       "0                   0                   0.00  \n",
       "1                   1                 829.66  \n",
       "2                   0                   0.00  \n",
       "3                   0                   0.00  \n",
       "4                   0                   0.00  "
      ]
     },
     "execution_count": 10,
     "metadata": {
      "tags": []
     },
     "output_type": "execute_result"
    }
   ],
   "source": [
    "df.iloc[:,40:55].head()"
   ]
  },
  {
   "cell_type": "markdown",
   "metadata": {
    "id": "Mx43_YFrrKc5"
   },
   "source": [
    "\n",
    "### Kolommen van categorical type converteren\n",
    "*married_cd, gender, credit_use_ic, gluten_ic, lactose_ic, insurance_ic, spa_ic, empl_ic, sport_ic, marketing_permit, urban_ic, dining_ic, presidential, prev_stay, prev_all_in_stay, divorce, company_ic, shop_use, retired, gold_status* → **categorische data**\n"
   ]
  },
  {
   "cell_type": "code",
   "execution_count": null,
   "metadata": {
    "id": "la96eJH9rKc6"
   },
   "outputs": [],
   "source": [
    "df['married_cd'] = df['married_cd'].astype('object')\n",
    "df['gender'] = df['gender'].astype('object')\n",
    "df['credit_use_ic'] = df['credit_use_ic'].astype('object')\n",
    "df['gluten_ic'] = df['gluten_ic'].astype('object')\n",
    "df['lactose_ic'] = df['lactose_ic'].astype('object')\n",
    "df['insurance_ic'] = df['insurance_ic'].astype('object')\n",
    "df['spa_ic'] = df['spa_ic'].astype('object')\n",
    "df['empl_ic'] = df['empl_ic'].astype('object')\n",
    "df['sport_ic'] = df['sport_ic'].astype('object')\n",
    "df['marketing_permit'] = df['marketing_permit'].astype('object')\n",
    "df['urban_ic'] = df['urban_ic'].astype('object')\n",
    "df['dining_ic'] = df['dining_ic'].astype('object')\n",
    "df['presidential'] = df['presidential'].astype('object')\n",
    "df['prev_stay'] = df['prev_stay'].astype('object')\n",
    "df['prev_all_in_stay'] = df['prev_all_in_stay'].astype('object')\n",
    "df['divorce'] = df['divorce'].astype('object')\n",
    "df['company_ic'] = df['company_ic'].astype('object')\n",
    "df['shop_use'] = df['shop_use'].astype('object')\n",
    "df['retired'] = df['retired'].astype('object')\n",
    "df['gold_status'] = df['gold_status'].astype('object')"
   ]
  },
  {
   "cell_type": "code",
   "execution_count": null,
   "metadata": {
    "id": "1B0NOpMcrKc6",
    "outputId": "75f3ecf8-2996-4d9f-b177-baab7e4050e0"
   },
   "outputs": [
    {
     "name": "stdout",
     "output_type": "stream",
     "text": [
      "<class 'pandas.core.frame.DataFrame'>\n",
      "RangeIndex: 5000 entries, 0 to 4999\n",
      "Data columns (total 53 columns):\n",
      " #   Column                 Non-Null Count  Dtype  \n",
      "---  ------                 --------------  -----  \n",
      " 0   income_am              4947 non-null   float64\n",
      " 1   profit_last_am         4947 non-null   float64\n",
      " 2   profit_am              4947 non-null   float64\n",
      " 3   damage_am              4954 non-null   float64\n",
      " 4   damage_inc             4947 non-null   float64\n",
      " 5   crd_lim_rec            4947 non-null   float64\n",
      " 6   credit_use_ic          4947 non-null   object \n",
      " 7   gluten_ic              4947 non-null   object \n",
      " 8   lactose_ic             4947 non-null   object \n",
      " 9   insurance_ic           4947 non-null   object \n",
      " 10  spa_ic                 4970 non-null   object \n",
      " 11  empl_ic                4999 non-null   object \n",
      " 12  cab_requests           4912 non-null   float64\n",
      " 13  married_cd             5000 non-null   object \n",
      " 14  bar_no                 4947 non-null   float64\n",
      " 15  sport_ic               4947 non-null   object \n",
      " 16  neighbor_income        4761 non-null   float64\n",
      " 17  age                    4947 non-null   float64\n",
      " 18  marketing_permit       4947 non-null   object \n",
      " 19  urban_ic               4947 non-null   object \n",
      " 20  dining_ic              4912 non-null   object \n",
      " 21  presidential           4912 non-null   object \n",
      " 22  client_segment         4947 non-null   float64\n",
      " 23  sect_empl              4947 non-null   float64\n",
      " 24  prev_stay              4947 non-null   object \n",
      " 25  prev_all_in_stay       4947 non-null   object \n",
      " 26  divorce                4947 non-null   object \n",
      " 27  fam_adult_size         4947 non-null   float64\n",
      " 28  children_no            4947 non-null   float64\n",
      " 29  tenure_mts             4608 non-null   float64\n",
      " 30  tenure_yrs             4608 non-null   float64\n",
      " 31  company_ic             4947 non-null   object \n",
      " 32  claims_no              4947 non-null   float64\n",
      " 33  claims_am              4973 non-null   float64\n",
      " 34  nights_booked          4947 non-null   float64\n",
      " 35  gender                 4947 non-null   object \n",
      " 36  shop_am                4947 non-null   float64\n",
      " 37  shop_use               4912 non-null   object \n",
      " 38  retired                4947 non-null   object \n",
      " 39  gold_status            4947 non-null   object \n",
      " 40  score1_pos             1225 non-null   float64\n",
      " 41  score1_neg             1314 non-null   float64\n",
      " 42  score2_pos             1209 non-null   float64\n",
      " 43  score2_neg             1304 non-null   float64\n",
      " 44  score3_pos             1261 non-null   float64\n",
      " 45  score3_neg             1367 non-null   float64\n",
      " 46  score4_pos             1223 non-null   float64\n",
      " 47  score4_neg             1324 non-null   float64\n",
      " 48  score5_pos             1232 non-null   float64\n",
      " 49  score5_neg             1493 non-null   float64\n",
      " 50  outcome_profit         5000 non-null   float64\n",
      " 51  outcome_damage_inc     5000 non-null   int64  \n",
      " 52  outcome_damage_amount  5000 non-null   float64\n",
      "dtypes: float64(32), int64(1), object(20)\n",
      "memory usage: 2.0+ MB\n"
     ]
    }
   ],
   "source": [
    "df.info()"
   ]
  },
  {
   "cell_type": "markdown",
   "metadata": {
    "id": "B6InFaI1rKc7"
   },
   "source": [
    "### Eigenaardigheden in de beschrijvingen/descriptives(?)\n"
   ]
  },
  {
   "cell_type": "code",
   "execution_count": null,
   "metadata": {
    "id": "rDJxuFPTrKc7",
    "outputId": "c94ba3ff-1a0b-4391-9879-79cc888ed611"
   },
   "outputs": [
    {
     "data": {
      "text/html": [
       "<div>\n",
       "<style scoped>\n",
       "    .dataframe tbody tr th:only-of-type {\n",
       "        vertical-align: middle;\n",
       "    }\n",
       "\n",
       "    .dataframe tbody tr th {\n",
       "        vertical-align: top;\n",
       "    }\n",
       "\n",
       "    .dataframe thead th {\n",
       "        text-align: right;\n",
       "    }\n",
       "</style>\n",
       "<table border=\"1\" class=\"dataframe\">\n",
       "  <thead>\n",
       "    <tr style=\"text-align: right;\">\n",
       "      <th></th>\n",
       "      <th>income_am</th>\n",
       "      <th>profit_last_am</th>\n",
       "      <th>profit_am</th>\n",
       "      <th>damage_am</th>\n",
       "      <th>damage_inc</th>\n",
       "      <th>crd_lim_rec</th>\n",
       "      <th>credit_use_ic</th>\n",
       "      <th>gluten_ic</th>\n",
       "      <th>lactose_ic</th>\n",
       "      <th>insurance_ic</th>\n",
       "      <th>spa_ic</th>\n",
       "      <th>empl_ic</th>\n",
       "      <th>cab_requests</th>\n",
       "      <th>married_cd</th>\n",
       "      <th>bar_no</th>\n",
       "      <th>sport_ic</th>\n",
       "      <th>neighbor_income</th>\n",
       "      <th>age</th>\n",
       "      <th>marketing_permit</th>\n",
       "      <th>urban_ic</th>\n",
       "    </tr>\n",
       "  </thead>\n",
       "  <tbody>\n",
       "    <tr>\n",
       "      <th>count</th>\n",
       "      <td>4947.000000</td>\n",
       "      <td>4947.000000</td>\n",
       "      <td>4947.000000</td>\n",
       "      <td>4954.000000</td>\n",
       "      <td>4947.000000</td>\n",
       "      <td>4947.000000</td>\n",
       "      <td>4947.0</td>\n",
       "      <td>4947.0</td>\n",
       "      <td>4947.0</td>\n",
       "      <td>4947.0</td>\n",
       "      <td>4970.0</td>\n",
       "      <td>4999.0</td>\n",
       "      <td>4912.000000</td>\n",
       "      <td>5000</td>\n",
       "      <td>4947.000000</td>\n",
       "      <td>4947.0</td>\n",
       "      <td>4761.000000</td>\n",
       "      <td>4947.000000</td>\n",
       "      <td>4947.0</td>\n",
       "      <td>4947.0</td>\n",
       "    </tr>\n",
       "    <tr>\n",
       "      <th>unique</th>\n",
       "      <td>NaN</td>\n",
       "      <td>NaN</td>\n",
       "      <td>NaN</td>\n",
       "      <td>NaN</td>\n",
       "      <td>NaN</td>\n",
       "      <td>NaN</td>\n",
       "      <td>2.0</td>\n",
       "      <td>2.0</td>\n",
       "      <td>2.0</td>\n",
       "      <td>2.0</td>\n",
       "      <td>2.0</td>\n",
       "      <td>2.0</td>\n",
       "      <td>NaN</td>\n",
       "      <td>2</td>\n",
       "      <td>NaN</td>\n",
       "      <td>2.0</td>\n",
       "      <td>NaN</td>\n",
       "      <td>NaN</td>\n",
       "      <td>2.0</td>\n",
       "      <td>2.0</td>\n",
       "    </tr>\n",
       "    <tr>\n",
       "      <th>top</th>\n",
       "      <td>NaN</td>\n",
       "      <td>NaN</td>\n",
       "      <td>NaN</td>\n",
       "      <td>NaN</td>\n",
       "      <td>NaN</td>\n",
       "      <td>NaN</td>\n",
       "      <td>0.0</td>\n",
       "      <td>0.0</td>\n",
       "      <td>0.0</td>\n",
       "      <td>0.0</td>\n",
       "      <td>0.0</td>\n",
       "      <td>0.0</td>\n",
       "      <td>NaN</td>\n",
       "      <td>True</td>\n",
       "      <td>NaN</td>\n",
       "      <td>0.0</td>\n",
       "      <td>NaN</td>\n",
       "      <td>NaN</td>\n",
       "      <td>0.0</td>\n",
       "      <td>1.0</td>\n",
       "    </tr>\n",
       "    <tr>\n",
       "      <th>freq</th>\n",
       "      <td>NaN</td>\n",
       "      <td>NaN</td>\n",
       "      <td>NaN</td>\n",
       "      <td>NaN</td>\n",
       "      <td>NaN</td>\n",
       "      <td>NaN</td>\n",
       "      <td>4743.0</td>\n",
       "      <td>4825.0</td>\n",
       "      <td>4481.0</td>\n",
       "      <td>3013.0</td>\n",
       "      <td>2973.0</td>\n",
       "      <td>4878.0</td>\n",
       "      <td>NaN</td>\n",
       "      <td>4057</td>\n",
       "      <td>NaN</td>\n",
       "      <td>3527.0</td>\n",
       "      <td>NaN</td>\n",
       "      <td>NaN</td>\n",
       "      <td>2496.0</td>\n",
       "      <td>4373.0</td>\n",
       "    </tr>\n",
       "    <tr>\n",
       "      <th>mean</th>\n",
       "      <td>2281.260158</td>\n",
       "      <td>696.057712</td>\n",
       "      <td>3637.900950</td>\n",
       "      <td>145.952967</td>\n",
       "      <td>0.352335</td>\n",
       "      <td>3298.716394</td>\n",
       "      <td>NaN</td>\n",
       "      <td>NaN</td>\n",
       "      <td>NaN</td>\n",
       "      <td>NaN</td>\n",
       "      <td>NaN</td>\n",
       "      <td>NaN</td>\n",
       "      <td>6.051507</td>\n",
       "      <td>NaN</td>\n",
       "      <td>5.646250</td>\n",
       "      <td>NaN</td>\n",
       "      <td>32778.558916</td>\n",
       "      <td>44.901152</td>\n",
       "      <td>NaN</td>\n",
       "      <td>NaN</td>\n",
       "    </tr>\n",
       "    <tr>\n",
       "      <th>std</th>\n",
       "      <td>8365.254507</td>\n",
       "      <td>3051.119275</td>\n",
       "      <td>5726.625669</td>\n",
       "      <td>581.068095</td>\n",
       "      <td>0.889449</td>\n",
       "      <td>4549.646039</td>\n",
       "      <td>NaN</td>\n",
       "      <td>NaN</td>\n",
       "      <td>NaN</td>\n",
       "      <td>NaN</td>\n",
       "      <td>NaN</td>\n",
       "      <td>NaN</td>\n",
       "      <td>3.112104</td>\n",
       "      <td>NaN</td>\n",
       "      <td>5.052513</td>\n",
       "      <td>NaN</td>\n",
       "      <td>6858.671948</td>\n",
       "      <td>16.225094</td>\n",
       "      <td>NaN</td>\n",
       "      <td>NaN</td>\n",
       "    </tr>\n",
       "    <tr>\n",
       "      <th>min</th>\n",
       "      <td>0.000000</td>\n",
       "      <td>0.000000</td>\n",
       "      <td>0.000000</td>\n",
       "      <td>0.000000</td>\n",
       "      <td>0.000000</td>\n",
       "      <td>0.000000</td>\n",
       "      <td>NaN</td>\n",
       "      <td>NaN</td>\n",
       "      <td>NaN</td>\n",
       "      <td>NaN</td>\n",
       "      <td>NaN</td>\n",
       "      <td>NaN</td>\n",
       "      <td>0.000000</td>\n",
       "      <td>NaN</td>\n",
       "      <td>0.000000</td>\n",
       "      <td>NaN</td>\n",
       "      <td>0.000000</td>\n",
       "      <td>16.000000</td>\n",
       "      <td>NaN</td>\n",
       "      <td>NaN</td>\n",
       "    </tr>\n",
       "    <tr>\n",
       "      <th>25%</th>\n",
       "      <td>229.000000</td>\n",
       "      <td>0.000000</td>\n",
       "      <td>1638.000000</td>\n",
       "      <td>0.000000</td>\n",
       "      <td>0.000000</td>\n",
       "      <td>0.000000</td>\n",
       "      <td>NaN</td>\n",
       "      <td>NaN</td>\n",
       "      <td>NaN</td>\n",
       "      <td>NaN</td>\n",
       "      <td>NaN</td>\n",
       "      <td>NaN</td>\n",
       "      <td>3.000000</td>\n",
       "      <td>NaN</td>\n",
       "      <td>2.000000</td>\n",
       "      <td>NaN</td>\n",
       "      <td>28630.000000</td>\n",
       "      <td>31.000000</td>\n",
       "      <td>NaN</td>\n",
       "      <td>NaN</td>\n",
       "    </tr>\n",
       "    <tr>\n",
       "      <th>50%</th>\n",
       "      <td>469.000000</td>\n",
       "      <td>52.000000</td>\n",
       "      <td>1889.000000</td>\n",
       "      <td>0.000000</td>\n",
       "      <td>0.000000</td>\n",
       "      <td>1500.000000</td>\n",
       "      <td>NaN</td>\n",
       "      <td>NaN</td>\n",
       "      <td>NaN</td>\n",
       "      <td>NaN</td>\n",
       "      <td>NaN</td>\n",
       "      <td>NaN</td>\n",
       "      <td>6.000000</td>\n",
       "      <td>NaN</td>\n",
       "      <td>5.000000</td>\n",
       "      <td>NaN</td>\n",
       "      <td>31990.000000</td>\n",
       "      <td>45.000000</td>\n",
       "      <td>NaN</td>\n",
       "      <td>NaN</td>\n",
       "    </tr>\n",
       "    <tr>\n",
       "      <th>75%</th>\n",
       "      <td>1688.000000</td>\n",
       "      <td>810.000000</td>\n",
       "      <td>3165.500000</td>\n",
       "      <td>0.000000</td>\n",
       "      <td>0.000000</td>\n",
       "      <td>5000.000000</td>\n",
       "      <td>NaN</td>\n",
       "      <td>NaN</td>\n",
       "      <td>NaN</td>\n",
       "      <td>NaN</td>\n",
       "      <td>NaN</td>\n",
       "      <td>NaN</td>\n",
       "      <td>9.000000</td>\n",
       "      <td>NaN</td>\n",
       "      <td>8.000000</td>\n",
       "      <td>NaN</td>\n",
       "      <td>35924.000000</td>\n",
       "      <td>57.000000</td>\n",
       "      <td>NaN</td>\n",
       "      <td>NaN</td>\n",
       "    </tr>\n",
       "    <tr>\n",
       "      <th>max</th>\n",
       "      <td>360577.000000</td>\n",
       "      <td>150537.000000</td>\n",
       "      <td>100577.000000</td>\n",
       "      <td>14866.000000</td>\n",
       "      <td>10.000000</td>\n",
       "      <td>30000.000000</td>\n",
       "      <td>NaN</td>\n",
       "      <td>NaN</td>\n",
       "      <td>NaN</td>\n",
       "      <td>NaN</td>\n",
       "      <td>NaN</td>\n",
       "      <td>NaN</td>\n",
       "      <td>16.000000</td>\n",
       "      <td>NaN</td>\n",
       "      <td>111.000000</td>\n",
       "      <td>NaN</td>\n",
       "      <td>104984.000000</td>\n",
       "      <td>97.000000</td>\n",
       "      <td>NaN</td>\n",
       "      <td>NaN</td>\n",
       "    </tr>\n",
       "  </tbody>\n",
       "</table>\n",
       "</div>"
      ],
      "text/plain": [
       "            income_am  profit_last_am      profit_am     damage_am  \\\n",
       "count     4947.000000     4947.000000    4947.000000   4954.000000   \n",
       "unique            NaN             NaN            NaN           NaN   \n",
       "top               NaN             NaN            NaN           NaN   \n",
       "freq              NaN             NaN            NaN           NaN   \n",
       "mean      2281.260158      696.057712    3637.900950    145.952967   \n",
       "std       8365.254507     3051.119275    5726.625669    581.068095   \n",
       "min          0.000000        0.000000       0.000000      0.000000   \n",
       "25%        229.000000        0.000000    1638.000000      0.000000   \n",
       "50%        469.000000       52.000000    1889.000000      0.000000   \n",
       "75%       1688.000000      810.000000    3165.500000      0.000000   \n",
       "max     360577.000000   150537.000000  100577.000000  14866.000000   \n",
       "\n",
       "         damage_inc   crd_lim_rec  credit_use_ic  gluten_ic  lactose_ic  \\\n",
       "count   4947.000000   4947.000000         4947.0     4947.0      4947.0   \n",
       "unique          NaN           NaN            2.0        2.0         2.0   \n",
       "top             NaN           NaN            0.0        0.0         0.0   \n",
       "freq            NaN           NaN         4743.0     4825.0      4481.0   \n",
       "mean       0.352335   3298.716394            NaN        NaN         NaN   \n",
       "std        0.889449   4549.646039            NaN        NaN         NaN   \n",
       "min        0.000000      0.000000            NaN        NaN         NaN   \n",
       "25%        0.000000      0.000000            NaN        NaN         NaN   \n",
       "50%        0.000000   1500.000000            NaN        NaN         NaN   \n",
       "75%        0.000000   5000.000000            NaN        NaN         NaN   \n",
       "max       10.000000  30000.000000            NaN        NaN         NaN   \n",
       "\n",
       "        insurance_ic  spa_ic  empl_ic  cab_requests married_cd       bar_no  \\\n",
       "count         4947.0  4970.0   4999.0   4912.000000       5000  4947.000000   \n",
       "unique           2.0     2.0      2.0           NaN          2          NaN   \n",
       "top              0.0     0.0      0.0           NaN       True          NaN   \n",
       "freq          3013.0  2973.0   4878.0           NaN       4057          NaN   \n",
       "mean             NaN     NaN      NaN      6.051507        NaN     5.646250   \n",
       "std              NaN     NaN      NaN      3.112104        NaN     5.052513   \n",
       "min              NaN     NaN      NaN      0.000000        NaN     0.000000   \n",
       "25%              NaN     NaN      NaN      3.000000        NaN     2.000000   \n",
       "50%              NaN     NaN      NaN      6.000000        NaN     5.000000   \n",
       "75%              NaN     NaN      NaN      9.000000        NaN     8.000000   \n",
       "max              NaN     NaN      NaN     16.000000        NaN   111.000000   \n",
       "\n",
       "        sport_ic  neighbor_income          age  marketing_permit  urban_ic  \n",
       "count     4947.0      4761.000000  4947.000000            4947.0    4947.0  \n",
       "unique       2.0              NaN          NaN               2.0       2.0  \n",
       "top          0.0              NaN          NaN               0.0       1.0  \n",
       "freq      3527.0              NaN          NaN            2496.0    4373.0  \n",
       "mean         NaN     32778.558916    44.901152               NaN       NaN  \n",
       "std          NaN      6858.671948    16.225094               NaN       NaN  \n",
       "min          NaN         0.000000    16.000000               NaN       NaN  \n",
       "25%          NaN     28630.000000    31.000000               NaN       NaN  \n",
       "50%          NaN     31990.000000    45.000000               NaN       NaN  \n",
       "75%          NaN     35924.000000    57.000000               NaN       NaN  \n",
       "max          NaN    104984.000000    97.000000               NaN       NaN  "
      ]
     },
     "execution_count": 13,
     "metadata": {
      "tags": []
     },
     "output_type": "execute_result"
    }
   ],
   "source": [
    "df.iloc[:,0:20].describe(include='all')"
   ]
  },
  {
   "cell_type": "code",
   "execution_count": null,
   "metadata": {
    "id": "5V4jeR_yrKc7",
    "outputId": "3f5ea3c8-c04f-4e2d-ee3a-ac8177d4628d"
   },
   "outputs": [
    {
     "data": {
      "text/html": [
       "<div>\n",
       "<style scoped>\n",
       "    .dataframe tbody tr th:only-of-type {\n",
       "        vertical-align: middle;\n",
       "    }\n",
       "\n",
       "    .dataframe tbody tr th {\n",
       "        vertical-align: top;\n",
       "    }\n",
       "\n",
       "    .dataframe thead th {\n",
       "        text-align: right;\n",
       "    }\n",
       "</style>\n",
       "<table border=\"1\" class=\"dataframe\">\n",
       "  <thead>\n",
       "    <tr style=\"text-align: right;\">\n",
       "      <th></th>\n",
       "      <th>dining_ic</th>\n",
       "      <th>presidential</th>\n",
       "      <th>client_segment</th>\n",
       "      <th>sect_empl</th>\n",
       "      <th>prev_stay</th>\n",
       "      <th>prev_all_in_stay</th>\n",
       "      <th>divorce</th>\n",
       "      <th>fam_adult_size</th>\n",
       "      <th>children_no</th>\n",
       "      <th>tenure_mts</th>\n",
       "      <th>tenure_yrs</th>\n",
       "      <th>company_ic</th>\n",
       "      <th>claims_no</th>\n",
       "      <th>claims_am</th>\n",
       "      <th>nights_booked</th>\n",
       "      <th>gender</th>\n",
       "      <th>shop_am</th>\n",
       "      <th>shop_use</th>\n",
       "      <th>retired</th>\n",
       "      <th>gold_status</th>\n",
       "    </tr>\n",
       "  </thead>\n",
       "  <tbody>\n",
       "    <tr>\n",
       "      <th>count</th>\n",
       "      <td>4912.0</td>\n",
       "      <td>4912.0</td>\n",
       "      <td>4947.000000</td>\n",
       "      <td>4947.000000</td>\n",
       "      <td>4947.0</td>\n",
       "      <td>4947.0</td>\n",
       "      <td>4947.0</td>\n",
       "      <td>4947.000000</td>\n",
       "      <td>4947.000000</td>\n",
       "      <td>4608.000000</td>\n",
       "      <td>4608.000000</td>\n",
       "      <td>4947.0</td>\n",
       "      <td>4947.000000</td>\n",
       "      <td>4973.000000</td>\n",
       "      <td>4947.000000</td>\n",
       "      <td>4947</td>\n",
       "      <td>4947.000000</td>\n",
       "      <td>4912.0</td>\n",
       "      <td>4947.0</td>\n",
       "      <td>4947.0</td>\n",
       "    </tr>\n",
       "    <tr>\n",
       "      <th>unique</th>\n",
       "      <td>2.0</td>\n",
       "      <td>2.0</td>\n",
       "      <td>NaN</td>\n",
       "      <td>NaN</td>\n",
       "      <td>2.0</td>\n",
       "      <td>2.0</td>\n",
       "      <td>2.0</td>\n",
       "      <td>NaN</td>\n",
       "      <td>NaN</td>\n",
       "      <td>NaN</td>\n",
       "      <td>NaN</td>\n",
       "      <td>2.0</td>\n",
       "      <td>NaN</td>\n",
       "      <td>NaN</td>\n",
       "      <td>NaN</td>\n",
       "      <td>2</td>\n",
       "      <td>NaN</td>\n",
       "      <td>2.0</td>\n",
       "      <td>2.0</td>\n",
       "      <td>2.0</td>\n",
       "    </tr>\n",
       "    <tr>\n",
       "      <th>top</th>\n",
       "      <td>0.0</td>\n",
       "      <td>0.0</td>\n",
       "      <td>NaN</td>\n",
       "      <td>NaN</td>\n",
       "      <td>1.0</td>\n",
       "      <td>0.0</td>\n",
       "      <td>0.0</td>\n",
       "      <td>NaN</td>\n",
       "      <td>NaN</td>\n",
       "      <td>NaN</td>\n",
       "      <td>NaN</td>\n",
       "      <td>0.0</td>\n",
       "      <td>NaN</td>\n",
       "      <td>NaN</td>\n",
       "      <td>NaN</td>\n",
       "      <td>M</td>\n",
       "      <td>NaN</td>\n",
       "      <td>0.0</td>\n",
       "      <td>0.0</td>\n",
       "      <td>0.0</td>\n",
       "    </tr>\n",
       "    <tr>\n",
       "      <th>freq</th>\n",
       "      <td>4670.0</td>\n",
       "      <td>4891.0</td>\n",
       "      <td>NaN</td>\n",
       "      <td>NaN</td>\n",
       "      <td>4402.0</td>\n",
       "      <td>3697.0</td>\n",
       "      <td>4440.0</td>\n",
       "      <td>NaN</td>\n",
       "      <td>NaN</td>\n",
       "      <td>NaN</td>\n",
       "      <td>NaN</td>\n",
       "      <td>4855.0</td>\n",
       "      <td>NaN</td>\n",
       "      <td>NaN</td>\n",
       "      <td>NaN</td>\n",
       "      <td>2490</td>\n",
       "      <td>NaN</td>\n",
       "      <td>4166.0</td>\n",
       "      <td>4046.0</td>\n",
       "      <td>4775.0</td>\n",
       "    </tr>\n",
       "    <tr>\n",
       "      <th>mean</th>\n",
       "      <td>NaN</td>\n",
       "      <td>NaN</td>\n",
       "      <td>1.298565</td>\n",
       "      <td>0.213463</td>\n",
       "      <td>NaN</td>\n",
       "      <td>NaN</td>\n",
       "      <td>NaN</td>\n",
       "      <td>1.960986</td>\n",
       "      <td>0.385082</td>\n",
       "      <td>273.111545</td>\n",
       "      <td>22.780165</td>\n",
       "      <td>NaN</td>\n",
       "      <td>0.218314</td>\n",
       "      <td>121.078826</td>\n",
       "      <td>28.992521</td>\n",
       "      <td>NaN</td>\n",
       "      <td>403.019960</td>\n",
       "      <td>NaN</td>\n",
       "      <td>NaN</td>\n",
       "      <td>NaN</td>\n",
       "    </tr>\n",
       "    <tr>\n",
       "      <th>std</th>\n",
       "      <td>NaN</td>\n",
       "      <td>NaN</td>\n",
       "      <td>0.800831</td>\n",
       "      <td>0.826006</td>\n",
       "      <td>NaN</td>\n",
       "      <td>NaN</td>\n",
       "      <td>NaN</td>\n",
       "      <td>0.805545</td>\n",
       "      <td>0.832933</td>\n",
       "      <td>152.498416</td>\n",
       "      <td>12.719429</td>\n",
       "      <td>NaN</td>\n",
       "      <td>0.712408</td>\n",
       "      <td>1783.146726</td>\n",
       "      <td>37.480510</td>\n",
       "      <td>NaN</td>\n",
       "      <td>1335.935144</td>\n",
       "      <td>NaN</td>\n",
       "      <td>NaN</td>\n",
       "      <td>NaN</td>\n",
       "    </tr>\n",
       "    <tr>\n",
       "      <th>min</th>\n",
       "      <td>NaN</td>\n",
       "      <td>NaN</td>\n",
       "      <td>0.000000</td>\n",
       "      <td>0.000000</td>\n",
       "      <td>NaN</td>\n",
       "      <td>NaN</td>\n",
       "      <td>NaN</td>\n",
       "      <td>1.000000</td>\n",
       "      <td>0.000000</td>\n",
       "      <td>0.000000</td>\n",
       "      <td>0.000000</td>\n",
       "      <td>NaN</td>\n",
       "      <td>0.000000</td>\n",
       "      <td>0.000000</td>\n",
       "      <td>1.000000</td>\n",
       "      <td>NaN</td>\n",
       "      <td>0.000000</td>\n",
       "      <td>NaN</td>\n",
       "      <td>NaN</td>\n",
       "      <td>NaN</td>\n",
       "    </tr>\n",
       "    <tr>\n",
       "      <th>25%</th>\n",
       "      <td>NaN</td>\n",
       "      <td>NaN</td>\n",
       "      <td>1.000000</td>\n",
       "      <td>0.000000</td>\n",
       "      <td>NaN</td>\n",
       "      <td>NaN</td>\n",
       "      <td>NaN</td>\n",
       "      <td>1.000000</td>\n",
       "      <td>0.000000</td>\n",
       "      <td>154.000000</td>\n",
       "      <td>13.000000</td>\n",
       "      <td>NaN</td>\n",
       "      <td>0.000000</td>\n",
       "      <td>0.000000</td>\n",
       "      <td>4.000000</td>\n",
       "      <td>NaN</td>\n",
       "      <td>0.000000</td>\n",
       "      <td>NaN</td>\n",
       "      <td>NaN</td>\n",
       "      <td>NaN</td>\n",
       "    </tr>\n",
       "    <tr>\n",
       "      <th>50%</th>\n",
       "      <td>NaN</td>\n",
       "      <td>NaN</td>\n",
       "      <td>1.000000</td>\n",
       "      <td>0.000000</td>\n",
       "      <td>NaN</td>\n",
       "      <td>NaN</td>\n",
       "      <td>NaN</td>\n",
       "      <td>2.000000</td>\n",
       "      <td>0.000000</td>\n",
       "      <td>271.000000</td>\n",
       "      <td>23.000000</td>\n",
       "      <td>NaN</td>\n",
       "      <td>0.000000</td>\n",
       "      <td>0.000000</td>\n",
       "      <td>11.000000</td>\n",
       "      <td>NaN</td>\n",
       "      <td>0.000000</td>\n",
       "      <td>NaN</td>\n",
       "      <td>NaN</td>\n",
       "      <td>NaN</td>\n",
       "    </tr>\n",
       "    <tr>\n",
       "      <th>75%</th>\n",
       "      <td>NaN</td>\n",
       "      <td>NaN</td>\n",
       "      <td>2.000000</td>\n",
       "      <td>0.000000</td>\n",
       "      <td>NaN</td>\n",
       "      <td>NaN</td>\n",
       "      <td>NaN</td>\n",
       "      <td>3.000000</td>\n",
       "      <td>0.000000</td>\n",
       "      <td>368.250000</td>\n",
       "      <td>31.000000</td>\n",
       "      <td>NaN</td>\n",
       "      <td>0.000000</td>\n",
       "      <td>0.000000</td>\n",
       "      <td>45.000000</td>\n",
       "      <td>NaN</td>\n",
       "      <td>0.000000</td>\n",
       "      <td>NaN</td>\n",
       "      <td>NaN</td>\n",
       "      <td>NaN</td>\n",
       "    </tr>\n",
       "    <tr>\n",
       "      <th>max</th>\n",
       "      <td>NaN</td>\n",
       "      <td>NaN</td>\n",
       "      <td>5.000000</td>\n",
       "      <td>6.000000</td>\n",
       "      <td>NaN</td>\n",
       "      <td>NaN</td>\n",
       "      <td>NaN</td>\n",
       "      <td>4.000000</td>\n",
       "      <td>6.000000</td>\n",
       "      <td>679.000000</td>\n",
       "      <td>57.000000</td>\n",
       "      <td>NaN</td>\n",
       "      <td>9.000000</td>\n",
       "      <td>90587.000000</td>\n",
       "      <td>375.000000</td>\n",
       "      <td>NaN</td>\n",
       "      <td>12098.364339</td>\n",
       "      <td>NaN</td>\n",
       "      <td>NaN</td>\n",
       "      <td>NaN</td>\n",
       "    </tr>\n",
       "  </tbody>\n",
       "</table>\n",
       "</div>"
      ],
      "text/plain": [
       "        dining_ic  presidential  client_segment    sect_empl  prev_stay  \\\n",
       "count      4912.0        4912.0     4947.000000  4947.000000     4947.0   \n",
       "unique        2.0           2.0             NaN          NaN        2.0   \n",
       "top           0.0           0.0             NaN          NaN        1.0   \n",
       "freq       4670.0        4891.0             NaN          NaN     4402.0   \n",
       "mean          NaN           NaN        1.298565     0.213463        NaN   \n",
       "std           NaN           NaN        0.800831     0.826006        NaN   \n",
       "min           NaN           NaN        0.000000     0.000000        NaN   \n",
       "25%           NaN           NaN        1.000000     0.000000        NaN   \n",
       "50%           NaN           NaN        1.000000     0.000000        NaN   \n",
       "75%           NaN           NaN        2.000000     0.000000        NaN   \n",
       "max           NaN           NaN        5.000000     6.000000        NaN   \n",
       "\n",
       "        prev_all_in_stay  divorce  fam_adult_size  children_no   tenure_mts  \\\n",
       "count             4947.0   4947.0     4947.000000  4947.000000  4608.000000   \n",
       "unique               2.0      2.0             NaN          NaN          NaN   \n",
       "top                  0.0      0.0             NaN          NaN          NaN   \n",
       "freq              3697.0   4440.0             NaN          NaN          NaN   \n",
       "mean                 NaN      NaN        1.960986     0.385082   273.111545   \n",
       "std                  NaN      NaN        0.805545     0.832933   152.498416   \n",
       "min                  NaN      NaN        1.000000     0.000000     0.000000   \n",
       "25%                  NaN      NaN        1.000000     0.000000   154.000000   \n",
       "50%                  NaN      NaN        2.000000     0.000000   271.000000   \n",
       "75%                  NaN      NaN        3.000000     0.000000   368.250000   \n",
       "max                  NaN      NaN        4.000000     6.000000   679.000000   \n",
       "\n",
       "         tenure_yrs  company_ic    claims_no     claims_am  nights_booked  \\\n",
       "count   4608.000000      4947.0  4947.000000   4973.000000    4947.000000   \n",
       "unique          NaN         2.0          NaN           NaN            NaN   \n",
       "top             NaN         0.0          NaN           NaN            NaN   \n",
       "freq            NaN      4855.0          NaN           NaN            NaN   \n",
       "mean      22.780165         NaN     0.218314    121.078826      28.992521   \n",
       "std       12.719429         NaN     0.712408   1783.146726      37.480510   \n",
       "min        0.000000         NaN     0.000000      0.000000       1.000000   \n",
       "25%       13.000000         NaN     0.000000      0.000000       4.000000   \n",
       "50%       23.000000         NaN     0.000000      0.000000      11.000000   \n",
       "75%       31.000000         NaN     0.000000      0.000000      45.000000   \n",
       "max       57.000000         NaN     9.000000  90587.000000     375.000000   \n",
       "\n",
       "       gender       shop_am  shop_use  retired  gold_status  \n",
       "count    4947   4947.000000    4912.0   4947.0       4947.0  \n",
       "unique      2           NaN       2.0      2.0          2.0  \n",
       "top         M           NaN       0.0      0.0          0.0  \n",
       "freq     2490           NaN    4166.0   4046.0       4775.0  \n",
       "mean      NaN    403.019960       NaN      NaN          NaN  \n",
       "std       NaN   1335.935144       NaN      NaN          NaN  \n",
       "min       NaN      0.000000       NaN      NaN          NaN  \n",
       "25%       NaN      0.000000       NaN      NaN          NaN  \n",
       "50%       NaN      0.000000       NaN      NaN          NaN  \n",
       "75%       NaN      0.000000       NaN      NaN          NaN  \n",
       "max       NaN  12098.364339       NaN      NaN          NaN  "
      ]
     },
     "execution_count": 14,
     "metadata": {
      "tags": []
     },
     "output_type": "execute_result"
    }
   ],
   "source": [
    "df.iloc[:,20:40].describe(include='all')"
   ]
  },
  {
   "cell_type": "code",
   "execution_count": null,
   "metadata": {
    "id": "i56UEVp4rKc8",
    "outputId": "e7ab5a05-1eee-4250-c380-f276954dbeed"
   },
   "outputs": [
    {
     "data": {
      "text/html": [
       "<div>\n",
       "<style scoped>\n",
       "    .dataframe tbody tr th:only-of-type {\n",
       "        vertical-align: middle;\n",
       "    }\n",
       "\n",
       "    .dataframe tbody tr th {\n",
       "        vertical-align: top;\n",
       "    }\n",
       "\n",
       "    .dataframe thead th {\n",
       "        text-align: right;\n",
       "    }\n",
       "</style>\n",
       "<table border=\"1\" class=\"dataframe\">\n",
       "  <thead>\n",
       "    <tr style=\"text-align: right;\">\n",
       "      <th></th>\n",
       "      <th>score1_pos</th>\n",
       "      <th>score1_neg</th>\n",
       "      <th>score2_pos</th>\n",
       "      <th>score2_neg</th>\n",
       "      <th>score3_pos</th>\n",
       "      <th>score3_neg</th>\n",
       "      <th>score4_pos</th>\n",
       "      <th>score4_neg</th>\n",
       "      <th>score5_pos</th>\n",
       "      <th>score5_neg</th>\n",
       "      <th>outcome_profit</th>\n",
       "      <th>outcome_damage_inc</th>\n",
       "      <th>outcome_damage_amount</th>\n",
       "    </tr>\n",
       "  </thead>\n",
       "  <tbody>\n",
       "    <tr>\n",
       "      <th>count</th>\n",
       "      <td>1.225000e+03</td>\n",
       "      <td>1.314000e+03</td>\n",
       "      <td>1.209000e+03</td>\n",
       "      <td>1.304000e+03</td>\n",
       "      <td>1.261000e+03</td>\n",
       "      <td>1.367000e+03</td>\n",
       "      <td>1.223000e+03</td>\n",
       "      <td>1.324000e+03</td>\n",
       "      <td>1.232000e+03</td>\n",
       "      <td>1493.000000</td>\n",
       "      <td>5000.000000</td>\n",
       "      <td>5000.000000</td>\n",
       "      <td>5000.000000</td>\n",
       "    </tr>\n",
       "    <tr>\n",
       "      <th>mean</th>\n",
       "      <td>4.997356e-01</td>\n",
       "      <td>5.003663e-01</td>\n",
       "      <td>4.985522e-01</td>\n",
       "      <td>4.967340e-01</td>\n",
       "      <td>4.942801e-01</td>\n",
       "      <td>4.985876e-01</td>\n",
       "      <td>4.962065e-01</td>\n",
       "      <td>5.013962e-01</td>\n",
       "      <td>5.009593e-01</td>\n",
       "      <td>5.192953</td>\n",
       "      <td>1967.310930</td>\n",
       "      <td>0.255400</td>\n",
       "      <td>189.970736</td>\n",
       "    </tr>\n",
       "    <tr>\n",
       "      <th>std</th>\n",
       "      <td>2.879255e-01</td>\n",
       "      <td>2.887168e-01</td>\n",
       "      <td>2.877572e-01</td>\n",
       "      <td>2.897994e-01</td>\n",
       "      <td>2.899165e-01</td>\n",
       "      <td>2.877292e-01</td>\n",
       "      <td>2.886538e-01</td>\n",
       "      <td>2.876226e-01</td>\n",
       "      <td>2.901323e-01</td>\n",
       "      <td>3.159868</td>\n",
       "      <td>1371.061266</td>\n",
       "      <td>0.436129</td>\n",
       "      <td>379.005941</td>\n",
       "    </tr>\n",
       "    <tr>\n",
       "      <th>min</th>\n",
       "      <td>1.000000e-07</td>\n",
       "      <td>1.000000e-07</td>\n",
       "      <td>1.000000e-07</td>\n",
       "      <td>1.000000e-07</td>\n",
       "      <td>1.000000e-07</td>\n",
       "      <td>1.000000e-07</td>\n",
       "      <td>1.000000e-07</td>\n",
       "      <td>1.000000e-07</td>\n",
       "      <td>1.000000e-07</td>\n",
       "      <td>-7.871775</td>\n",
       "      <td>10.680000</td>\n",
       "      <td>0.000000</td>\n",
       "      <td>0.000000</td>\n",
       "    </tr>\n",
       "    <tr>\n",
       "      <th>25%</th>\n",
       "      <td>2.520205e-01</td>\n",
       "      <td>2.510338e-01</td>\n",
       "      <td>2.521282e-01</td>\n",
       "      <td>2.454209e-01</td>\n",
       "      <td>2.405574e-01</td>\n",
       "      <td>2.495061e-01</td>\n",
       "      <td>2.474100e-01</td>\n",
       "      <td>2.506703e-01</td>\n",
       "      <td>2.514905e-01</td>\n",
       "      <td>3.124958</td>\n",
       "      <td>1333.320000</td>\n",
       "      <td>0.000000</td>\n",
       "      <td>0.000000</td>\n",
       "    </tr>\n",
       "    <tr>\n",
       "      <th>50%</th>\n",
       "      <td>4.974162e-01</td>\n",
       "      <td>4.986215e-01</td>\n",
       "      <td>4.987791e-01</td>\n",
       "      <td>4.985832e-01</td>\n",
       "      <td>4.942465e-01</td>\n",
       "      <td>5.016458e-01</td>\n",
       "      <td>4.933486e-01</td>\n",
       "      <td>5.020603e-01</td>\n",
       "      <td>5.029121e-01</td>\n",
       "      <td>5.188006</td>\n",
       "      <td>1721.235000</td>\n",
       "      <td>0.000000</td>\n",
       "      <td>0.000000</td>\n",
       "    </tr>\n",
       "    <tr>\n",
       "      <th>75%</th>\n",
       "      <td>7.487276e-01</td>\n",
       "      <td>7.516726e-01</td>\n",
       "      <td>7.441403e-01</td>\n",
       "      <td>7.474935e-01</td>\n",
       "      <td>7.449235e-01</td>\n",
       "      <td>7.464826e-01</td>\n",
       "      <td>7.452133e-01</td>\n",
       "      <td>7.493876e-01</td>\n",
       "      <td>7.512817e-01</td>\n",
       "      <td>7.357425</td>\n",
       "      <td>2223.712500</td>\n",
       "      <td>1.000000</td>\n",
       "      <td>202.612500</td>\n",
       "    </tr>\n",
       "    <tr>\n",
       "      <th>max</th>\n",
       "      <td>9.999999e-01</td>\n",
       "      <td>9.999999e-01</td>\n",
       "      <td>9.999999e-01</td>\n",
       "      <td>9.986510e-01</td>\n",
       "      <td>9.999999e-01</td>\n",
       "      <td>9.999999e-01</td>\n",
       "      <td>9.999999e-01</td>\n",
       "      <td>9.993125e-01</td>\n",
       "      <td>9.999999e-01</td>\n",
       "      <td>14.776319</td>\n",
       "      <td>31529.000000</td>\n",
       "      <td>1.000000</td>\n",
       "      <td>3157.240000</td>\n",
       "    </tr>\n",
       "  </tbody>\n",
       "</table>\n",
       "</div>"
      ],
      "text/plain": [
       "         score1_pos    score1_neg    score2_pos    score2_neg    score3_pos  \\\n",
       "count  1.225000e+03  1.314000e+03  1.209000e+03  1.304000e+03  1.261000e+03   \n",
       "mean   4.997356e-01  5.003663e-01  4.985522e-01  4.967340e-01  4.942801e-01   \n",
       "std    2.879255e-01  2.887168e-01  2.877572e-01  2.897994e-01  2.899165e-01   \n",
       "min    1.000000e-07  1.000000e-07  1.000000e-07  1.000000e-07  1.000000e-07   \n",
       "25%    2.520205e-01  2.510338e-01  2.521282e-01  2.454209e-01  2.405574e-01   \n",
       "50%    4.974162e-01  4.986215e-01  4.987791e-01  4.985832e-01  4.942465e-01   \n",
       "75%    7.487276e-01  7.516726e-01  7.441403e-01  7.474935e-01  7.449235e-01   \n",
       "max    9.999999e-01  9.999999e-01  9.999999e-01  9.986510e-01  9.999999e-01   \n",
       "\n",
       "         score3_neg    score4_pos    score4_neg    score5_pos   score5_neg  \\\n",
       "count  1.367000e+03  1.223000e+03  1.324000e+03  1.232000e+03  1493.000000   \n",
       "mean   4.985876e-01  4.962065e-01  5.013962e-01  5.009593e-01     5.192953   \n",
       "std    2.877292e-01  2.886538e-01  2.876226e-01  2.901323e-01     3.159868   \n",
       "min    1.000000e-07  1.000000e-07  1.000000e-07  1.000000e-07    -7.871775   \n",
       "25%    2.495061e-01  2.474100e-01  2.506703e-01  2.514905e-01     3.124958   \n",
       "50%    5.016458e-01  4.933486e-01  5.020603e-01  5.029121e-01     5.188006   \n",
       "75%    7.464826e-01  7.452133e-01  7.493876e-01  7.512817e-01     7.357425   \n",
       "max    9.999999e-01  9.999999e-01  9.993125e-01  9.999999e-01    14.776319   \n",
       "\n",
       "       outcome_profit  outcome_damage_inc  outcome_damage_amount  \n",
       "count     5000.000000         5000.000000            5000.000000  \n",
       "mean      1967.310930            0.255400             189.970736  \n",
       "std       1371.061266            0.436129             379.005941  \n",
       "min         10.680000            0.000000               0.000000  \n",
       "25%       1333.320000            0.000000               0.000000  \n",
       "50%       1721.235000            0.000000               0.000000  \n",
       "75%       2223.712500            1.000000             202.612500  \n",
       "max      31529.000000            1.000000            3157.240000  "
      ]
     },
     "execution_count": 15,
     "metadata": {
      "tags": []
     },
     "output_type": "execute_result"
    }
   ],
   "source": [
    "df.iloc[:,40:55].describe(include='all')"
   ]
  },
  {
   "cell_type": "markdown",
   "metadata": {
    "id": "8qsYPLx9rKc8"
   },
   "source": [
    "### Data plotten\n"
   ]
  },
  {
   "cell_type": "code",
   "execution_count": null,
   "metadata": {
    "id": "d17KfisKrKc8",
    "outputId": "4cd18344-efea-4e19-8c53-0252bcc6dc66"
   },
   "outputs": [
    {
     "data": {
      "text/plain": [
       "array([[<AxesSubplot:title={'center':'income_am'}>,\n",
       "        <AxesSubplot:title={'center':'profit_last_am'}>,\n",
       "        <AxesSubplot:title={'center':'profit_am'}>,\n",
       "        <AxesSubplot:title={'center':'damage_am'}>,\n",
       "        <AxesSubplot:title={'center':'damage_inc'}>,\n",
       "        <AxesSubplot:title={'center':'crd_lim_rec'}>],\n",
       "       [<AxesSubplot:title={'center':'cab_requests'}>,\n",
       "        <AxesSubplot:title={'center':'bar_no'}>,\n",
       "        <AxesSubplot:title={'center':'neighbor_income'}>,\n",
       "        <AxesSubplot:title={'center':'age'}>,\n",
       "        <AxesSubplot:title={'center':'client_segment'}>,\n",
       "        <AxesSubplot:title={'center':'sect_empl'}>],\n",
       "       [<AxesSubplot:title={'center':'fam_adult_size'}>,\n",
       "        <AxesSubplot:title={'center':'children_no'}>,\n",
       "        <AxesSubplot:title={'center':'tenure_mts'}>,\n",
       "        <AxesSubplot:title={'center':'tenure_yrs'}>,\n",
       "        <AxesSubplot:title={'center':'claims_no'}>,\n",
       "        <AxesSubplot:title={'center':'claims_am'}>],\n",
       "       [<AxesSubplot:title={'center':'nights_booked'}>,\n",
       "        <AxesSubplot:title={'center':'shop_am'}>,\n",
       "        <AxesSubplot:title={'center':'score1_pos'}>,\n",
       "        <AxesSubplot:title={'center':'score1_neg'}>,\n",
       "        <AxesSubplot:title={'center':'score2_pos'}>,\n",
       "        <AxesSubplot:title={'center':'score2_neg'}>],\n",
       "       [<AxesSubplot:title={'center':'score3_pos'}>,\n",
       "        <AxesSubplot:title={'center':'score3_neg'}>,\n",
       "        <AxesSubplot:title={'center':'score4_pos'}>,\n",
       "        <AxesSubplot:title={'center':'score4_neg'}>,\n",
       "        <AxesSubplot:title={'center':'score5_pos'}>,\n",
       "        <AxesSubplot:title={'center':'score5_neg'}>],\n",
       "       [<AxesSubplot:title={'center':'outcome_profit'}>,\n",
       "        <AxesSubplot:title={'center':'outcome_damage_inc'}>,\n",
       "        <AxesSubplot:title={'center':'outcome_damage_amount'}>,\n",
       "        <AxesSubplot:>, <AxesSubplot:>, <AxesSubplot:>]], dtype=object)"
      ]
     },
     "execution_count": 16,
     "metadata": {
      "tags": []
     },
     "output_type": "execute_result"
    },
    {
     "data": {
      "image/png": "[encoded data removed]",
      "text/plain": [
       "<Figure size 864x1008 with 36 Axes>"
      ]
     },
     "metadata": {
      "tags": []
     },
     "output_type": "display_data"
    }
   ],
   "source": [
    "df.hist( figsize = (12,14))"
   ]
  },
  {
   "cell_type": "code",
   "execution_count": null,
   "metadata": {
    "id": "lBGgCFnRrKc8",
    "outputId": "2cd61202-3107-4885-9886-d02e8d162e5a"
   },
   "outputs": [
    {
     "data": {
      "image/png": "[encoded data removed]",
      "text/plain": [
       "<Figure size 432x288 with 1 Axes>"
      ]
     },
     "metadata": {
      "tags": []
     },
     "output_type": "display_data"
    },
    {
     "data": {
      "image/png": "[encoded data removed]",
      "text/plain": [
       "<Figure size 432x288 with 1 Axes>"
      ]
     },
     "metadata": {
      "tags": []
     },
     "output_type": "display_data"
    },
    {
     "data": {
      "image/png": "[encoded data removed]",
      "text/plain": [
       "<Figure size 432x288 with 1 Axes>"
      ]
     },
     "metadata": {
      "tags": []
     },
     "output_type": "display_data"
    },
    {
     "data": {
      "image/png": "[encoded data removed]",
      "text/plain": [
       "<Figure size 432x288 with 1 Axes>"
      ]
     },
     "metadata": {
      "tags": []
     },
     "output_type": "display_data"
    },
    {
     "data": {
      "image/png": "[encoded data removed]",
      "text/plain": [
       "<Figure size 432x288 with 1 Axes>"
      ]
     },
     "metadata": {
      "tags": []
     },
     "output_type": "display_data"
    },
    {
     "data": {
      "image/png": "[encoded data removed]",
      "text/plain": [
       "<Figure size 432x288 with 1 Axes>"
      ]
     },
     "metadata": {
      "tags": []
     },
     "output_type": "display_data"
    },
    {
     "data": {
      "image/png": "[encoded data removed]",
      "text/plain": [
       "<Figure size 432x288 with 1 Axes>"
      ]
     },
     "metadata": {
      "tags": []
     },
     "output_type": "display_data"
    },
    {
     "data": {
      "image/png": "[encoded data removed]",
      "text/plain": [
       "<Figure size 432x288 with 1 Axes>"
      ]
     },
     "metadata": {
      "tags": []
     },
     "output_type": "display_data"
    },
    {
     "data": {
      "image/png": "[encoded data removed]",
      "text/plain": [
       "<Figure size 432x288 with 1 Axes>"
      ]
     },
     "metadata": {
      "tags": []
     },
     "output_type": "display_data"
    },
    {
     "data": {
      "image/png": "[encoded data removed]",
      "text/plain": [
       "<Figure size 432x288 with 1 Axes>"
      ]
     },
     "metadata": {
      "tags": []
     },
     "output_type": "display_data"
    },
    {
     "data": {
      "image/png": "[encoded data removed]",
      "text/plain": [
       "<Figure size 432x288 with 1 Axes>"
      ]
     },
     "metadata": {
      "tags": []
     },
     "output_type": "display_data"
    },
    {
     "data": {
      "image/png": "[encoded data removed]",
      "text/plain": [
       "<Figure size 432x288 with 1 Axes>"
      ]
     },
     "metadata": {
      "tags": []
     },
     "output_type": "display_data"
    },
    {
     "data": {
      "image/png": "[encoded data removed]",
      "text/plain": [
       "<Figure size 432x288 with 1 Axes>"
      ]
     },
     "metadata": {
      "tags": []
     },
     "output_type": "display_data"
    },
    {
     "data": {
      "image/png": "[encoded data removed]",
      "text/plain": [
       "<Figure size 432x288 with 1 Axes>"
      ]
     },
     "metadata": {
      "tags": []
     },
     "output_type": "display_data"
    },
    {
     "data": {
      "image/png": "[encoded data removed]",
      "text/plain": [
       "<Figure size 432x288 with 1 Axes>"
      ]
     },
     "metadata": {
      "tags": []
     },
     "output_type": "display_data"
    },
    {
     "data": {
      "image/png": "[encoded data removed]",
      "text/plain": [
       "<Figure size 432x288 with 1 Axes>"
      ]
     },
     "metadata": {
      "tags": []
     },
     "output_type": "display_data"
    }
   ],
   "source": [
    "import seaborn as sns\n",
    "\n",
    "categorical = ['married_cd', 'gender','credit_use_ic','insurance_ic','spa_ic',\n",
    "               'sport_ic','marketing_permit','urban_ic','dining_ic','presidential','prev_stay','prev_all_in_stay',\n",
    "               'company_ic','shop_use','retired','gold_status']\n",
    "for i in categorical: \n",
    "    sns.countplot(y=df[i])\n",
    "    plt.show()"
   ]
  },
  {
   "cell_type": "markdown",
   "metadata": {
    "id": "D-ozWnP8rKc9"
   },
   "source": [
    "#### Booleans (nullen en éénen/no en yes, ...) in de indicators vervangen"
   ]
  },
  {
   "cell_type": "code",
   "execution_count": null,
   "metadata": {
    "id": "EDO8eL_1rKc9"
   },
   "outputs": [],
   "source": [
    "for col in categorical:\n",
    "    df[col] = df[col].replace('no','False')\n",
    "    df[col] = df[col].replace('yes','True')"
   ]
  },
  {
   "cell_type": "code",
   "execution_count": null,
   "metadata": {
    "id": "pL1slHGDrKc9",
    "outputId": "1b5d4d02-f92b-4cf0-ff64-3a1747fadfcc"
   },
   "outputs": [
    {
     "data": {
      "image/png": "[encoded data removed]",
      "text/plain": [
       "<Figure size 432x288 with 1 Axes>"
      ]
     },
     "metadata": {
      "tags": []
     },
     "output_type": "display_data"
    },
    {
     "data": {
      "image/png": "[encoded data removed]",
      "text/plain": [
       "<Figure size 432x288 with 1 Axes>"
      ]
     },
     "metadata": {
      "tags": []
     },
     "output_type": "display_data"
    },
    {
     "data": {
      "image/png": "[encoded data removed]",
      "text/plain": [
       "<Figure size 432x288 with 1 Axes>"
      ]
     },
     "metadata": {
      "tags": []
     },
     "output_type": "display_data"
    },
    {
     "data": {
      "image/png": "[encoded data removed]",
      "text/plain": [
       "<Figure size 432x288 with 1 Axes>"
      ]
     },
     "metadata": {
      "tags": []
     },
     "output_type": "display_data"
    },
    {
     "data": {
      "image/png": "[encoded data removed]",
      "text/plain": [
       "<Figure size 432x288 with 1 Axes>"
      ]
     },
     "metadata": {
      "tags": []
     },
     "output_type": "display_data"
    },
    {
     "data": {
      "image/png": "[encoded data removed]",
      "text/plain": [
       "<Figure size 432x288 with 1 Axes>"
      ]
     },
     "metadata": {
      "tags": []
     },
     "output_type": "display_data"
    },
    {
     "data": {
      "image/png": "[encoded data removed]",
      "text/plain": [
       "<Figure size 432x288 with 1 Axes>"
      ]
     },
     "metadata": {
      "tags": []
     },
     "output_type": "display_data"
    },
    {
     "data": {
      "image/png": "[encoded data removed]",
      "text/plain": [
       "<Figure size 432x288 with 1 Axes>"
      ]
     },
     "metadata": {
      "tags": []
     },
     "output_type": "display_data"
    },
    {
     "data": {
      "image/png": "[encoded data removed]",
      "text/plain": [
       "<Figure size 432x288 with 1 Axes>"
      ]
     },
     "metadata": {
      "tags": []
     },
     "output_type": "display_data"
    },
    {
     "data": {
      "image/png": "[encoded data removed]",
      "text/plain": [
       "<Figure size 432x288 with 1 Axes>"
      ]
     },
     "metadata": {
      "tags": []
     },
     "output_type": "display_data"
    },
    {
     "data": {
      "image/png": "[encoded data removed]",
      "text/plain": [
       "<Figure size 432x288 with 1 Axes>"
      ]
     },
     "metadata": {
      "tags": []
     },
     "output_type": "display_data"
    },
    {
     "data": {
      "image/png": "[encoded data removed]",
      "text/plain": [
       "<Figure size 432x288 with 1 Axes>"
      ]
     },
     "metadata": {
      "tags": []
     },
     "output_type": "display_data"
    },
    {
     "data": {
      "image/png": "[encoded data removed]",
      "text/plain": [
       "<Figure size 432x288 with 1 Axes>"
      ]
     },
     "metadata": {
      "tags": []
     },
     "output_type": "display_data"
    },
    {
     "data": {
      "image/png": "[encoded data removed]",
      "text/plain": [
       "<Figure size 432x288 with 1 Axes>"
      ]
     },
     "metadata": {
      "tags": []
     },
     "output_type": "display_data"
    },
    {
     "data": {
      "image/png": "[encoded data removed]",
      "text/plain": [
       "<Figure size 432x288 with 1 Axes>"
      ]
     },
     "metadata": {
      "tags": []
     },
     "output_type": "display_data"
    },
    {
     "data": {
      "image/png": "[encoded data removed]",
      "text/plain": [
       "<Figure size 432x288 with 1 Axes>"
      ]
     },
     "metadata": {
      "tags": []
     },
     "output_type": "display_data"
    }
   ],
   "source": [
    "for i in categorical: \n",
    "    sns.countplot(y=df[i])\n",
    "    plt.show()"
   ]
  },
  {
   "cell_type": "code",
   "execution_count": 1,
   "metadata": {
    "id": "lbtG3ULBrKc-",
    "outputId": "04bb0f2e-f26f-4e98-ca03-8002e7e9a498"
   },
   "outputs": [
    {
     "ename": "NameError",
     "evalue": "name 'df' is not defined",
     "output_type": "error",
     "traceback": [
      "\u001b[1;31m---------------------------------------------------------------------------\u001b[0m",
      "\u001b[1;31mNameError\u001b[0m                                 Traceback (most recent call last)",
      "\u001b[1;32m<ipython-input-1-8114a712bc40>\u001b[0m in \u001b[0;36m<module>\u001b[1;34m\u001b[0m\n\u001b[1;32m----> 1\u001b[1;33m \u001b[0mcorrmat\u001b[0m \u001b[1;33m=\u001b[0m \u001b[0mdf\u001b[0m\u001b[1;33m.\u001b[0m\u001b[0mcorr\u001b[0m\u001b[1;33m(\u001b[0m\u001b[1;33m)\u001b[0m\u001b[1;33m\u001b[0m\u001b[1;33m\u001b[0m\u001b[0m\n\u001b[0m\u001b[0;32m      2\u001b[0m \u001b[0mf\u001b[0m\u001b[1;33m,\u001b[0m \u001b[0max\u001b[0m \u001b[1;33m=\u001b[0m \u001b[0mplt\u001b[0m\u001b[1;33m.\u001b[0m\u001b[0msubplots\u001b[0m\u001b[1;33m(\u001b[0m\u001b[0mfigsize\u001b[0m\u001b[1;33m=\u001b[0m\u001b[1;33m(\u001b[0m\u001b[1;36m16\u001b[0m\u001b[1;33m,\u001b[0m \u001b[1;36m16\u001b[0m\u001b[1;33m)\u001b[0m\u001b[1;33m)\u001b[0m\u001b[1;33m\u001b[0m\u001b[1;33m\u001b[0m\u001b[0m\n\u001b[0;32m      3\u001b[0m \u001b[0msns\u001b[0m\u001b[1;33m.\u001b[0m\u001b[0mheatmap\u001b[0m\u001b[1;33m(\u001b[0m\u001b[0mcorrmat\u001b[0m\u001b[1;33m,\u001b[0m \u001b[0mcmap\u001b[0m\u001b[1;33m=\u001b[0m\u001b[1;34m'RdYlGn'\u001b[0m\u001b[1;33m)\u001b[0m\u001b[1;33m;\u001b[0m\u001b[1;33m\u001b[0m\u001b[1;33m\u001b[0m\u001b[0m\n",
      "\u001b[1;31mNameError\u001b[0m: name 'df' is not defined"
     ]
    }
   ],
   "source": [
    "corrmat = df.corr()\n",
    "f, ax = plt.subplots(figsize=(16, 16))\n",
    "sns.heatmap(corrmat, cmap='RdYlGn')\n"
   ]
  },
  {
   "cell_type": "code",
   "execution_count": null,
   "metadata": {
    "id": "Fu7-cg_erKc-"
   },
   "outputs": [],
   "source": [
    "## Data cleaning\n"
   ]
  },
  {
   "cell_type": "code",
   "execution_count": null,
   "metadata": {
    "id": "UGa3KwsYrKc-",
    "outputId": "4dec0a36-bbfd-4c32-fb2f-3c464003819b"
   },
   "outputs": [
    {
     "name": "stdout",
     "output_type": "stream",
     "text": [
      "(5000, 53)\n"
     ]
    }
   ],
   "source": [
    "df_no_dup = df.copy()\n",
    "df_no_dup.drop_duplicates()\n",
    "print(df_no_dup.shape)"
   ]
  },
  {
   "cell_type": "markdown",
   "metadata": {
    "id": "MSl9LP1vrKc_"
   },
   "source": [
    "### *tenure_mts* of *tenure_yrs* droppen...\n",
    "*tenure_mts* en *tenure_yrs* hebben beiden dezelfde waarden, maar uitgedrukt in een ander formaat. Ze vertellen ons beiden hoe lang iemand klant is geweest (*tenure_mts* uitgedrukt in maanden en *tenure_yrs* uitgedrukt in jaren). Dit maakt *tenure_yrs* overbodig, omdat *tenure_mts* (maanden) voor een iets nauwkeurigere uitdrukking zorgt."
   ]
  },
  {
   "cell_type": "code",
   "execution_count": null,
   "metadata": {
    "id": "tIUQo62irKc_"
   },
   "outputs": [],
   "source": [
    "df_no_dup = df_no_dup.drop(['tenure_yrs'],1)"
   ]
  },
  {
   "cell_type": "markdown",
   "metadata": {
    "id": "a7F5HedPrKc_"
   },
   "source": [
    "### 'Missing data' behandelen"
   ]
  },
  {
   "cell_type": "code",
   "execution_count": null,
   "metadata": {
    "id": "OSDXnI2FrKc_",
    "outputId": "c326c64b-8284-4c0b-b725-556a95300f27"
   },
   "outputs": [
    {
     "data": {
      "text/plain": [
       "income_am             53\n",
       "profit_last_am        53\n",
       "profit_am             53\n",
       "damage_am             46\n",
       "damage_inc            53\n",
       "crd_lim_rec           53\n",
       "credit_use_ic         53\n",
       "gluten_ic             53\n",
       "lactose_ic            53\n",
       "insurance_ic          53\n",
       "spa_ic                30\n",
       "empl_ic                1\n",
       "cab_requests          88\n",
       "bar_no                53\n",
       "sport_ic              53\n",
       "neighbor_income      239\n",
       "age                   53\n",
       "marketing_permit      53\n",
       "urban_ic              53\n",
       "dining_ic             88\n",
       "presidential          88\n",
       "client_segment        53\n",
       "sect_empl             53\n",
       "prev_stay             53\n",
       "prev_all_in_stay      53\n",
       "divorce               53\n",
       "fam_adult_size        53\n",
       "children_no           53\n",
       "tenure_mts           392\n",
       "company_ic            53\n",
       "claims_no             53\n",
       "claims_am             27\n",
       "nights_booked         53\n",
       "gender                53\n",
       "shop_am               53\n",
       "shop_use              88\n",
       "retired               53\n",
       "gold_status           53\n",
       "score1_pos          3775\n",
       "score1_neg          3686\n",
       "score2_pos          3791\n",
       "score2_neg          3696\n",
       "score3_pos          3739\n",
       "score3_neg          3633\n",
       "score4_pos          3777\n",
       "score4_neg          3676\n",
       "score5_pos          3768\n",
       "score5_neg          3507\n",
       "dtype: int64"
      ]
     },
     "execution_count": 23,
     "metadata": {
      "tags": []
     },
     "output_type": "execute_result"
    }
   ],
   "source": [
    "df_no_dup.isnull().sum()[df_no_dup.isnull().sum()!=0]"
   ]
  },
  {
   "cell_type": "markdown",
   "metadata": {
    "id": "AQ8VN4bSrKdA"
   },
   "source": [
    "We droppen de features die veel missingness hebben en/of geen meerwaarde bieden aan de algoritmes..."
   ]
  },
  {
   "cell_type": "code",
   "execution_count": null,
   "metadata": {
    "id": "KbUD-IjDrKdA"
   },
   "outputs": [],
   "source": [
    "df_no_dup = df_no_dup.drop(['gluten_ic', 'lactose_ic', 'empl_ic', 'divorce', 'score1_pos','score1_neg','score2_pos','score2_neg','score3_pos','score3_neg','score4_pos','score4_neg','score5_pos','score5_neg'],1)"
   ]
  },
  {
   "cell_type": "markdown",
   "metadata": {
    "id": "d6uYBSLyw77W"
   },
   "source": [
    "*gluten_ic, lactose_ic* &emsp;>&emsp; Bieden geen directe bijdragen aan het 'gedrag' van een klant...  \n",
    "*empl_ic* &emsp;>&emsp; Geen invloed op kosten (en gedrag vd klanten)  \n",
    "*divorce_ic* &emsp; >&emsp; *married_cd* blijft behouden, divorce heeft geen directe invloed op gedrag en kosten...  \n",
    "*score1-5_pos, score1-5_neg* &emsp;>&emsp; staff scores zouden geen direct verband mogen hebben met kosten of het gedrag van klanten."
   ]
  },
  {
   "cell_type": "code",
   "execution_count": null,
   "metadata": {
    "id": "vVKx8WakrKdA",
    "outputId": "919c884a-448f-4030-85b0-8ebbc2a3a2ec"
   },
   "outputs": [
    {
     "data": {
      "text/plain": [
       "income_am            53\n",
       "profit_last_am       53\n",
       "profit_am            53\n",
       "damage_am            46\n",
       "damage_inc           53\n",
       "crd_lim_rec          53\n",
       "credit_use_ic        53\n",
       "insurance_ic         53\n",
       "spa_ic               30\n",
       "cab_requests         88\n",
       "bar_no               53\n",
       "sport_ic             53\n",
       "neighbor_income     239\n",
       "age                  53\n",
       "marketing_permit     53\n",
       "urban_ic             53\n",
       "dining_ic            88\n",
       "presidential         88\n",
       "client_segment       53\n",
       "sect_empl            53\n",
       "prev_stay            53\n",
       "prev_all_in_stay     53\n",
       "fam_adult_size       53\n",
       "children_no          53\n",
       "tenure_mts          392\n",
       "company_ic           53\n",
       "claims_no            53\n",
       "claims_am            27\n",
       "nights_booked        53\n",
       "gender               53\n",
       "shop_am              53\n",
       "shop_use             88\n",
       "retired              53\n",
       "gold_status          53\n",
       "dtype: int64"
      ]
     },
     "execution_count": 25,
     "metadata": {
      "tags": []
     },
     "output_type": "execute_result"
    }
   ],
   "source": [
    "df_no_dup.isnull().sum()[df_no_dup.isnull().sum()!=0]"
   ]
  },
  {
   "cell_type": "code",
   "execution_count": null,
   "metadata": {
    "id": "V9Fb6kL3rKdA"
   },
   "outputs": [],
   "source": [
    "df_imputed = df_no_dup.copy()"
   ]
  },
  {
   "cell_type": "markdown",
   "metadata": {
    "id": "t_Xy4LYerKdB"
   },
   "source": [
    "### Categorische data 'invullen'"
   ]
  },
  {
   "cell_type": "code",
   "execution_count": null,
   "metadata": {
    "id": "qTVLNLFmrKdB"
   },
   "outputs": [],
   "source": [
    "for col in categorical:\n",
    "    df_imputed[col] = df_imputed[col].astype('category')\n",
    "    df_imputed[col] = df_imputed[col].cat.add_categories('Undefined')\n",
    "    df_imputed[col] = df_imputed[col].fillna('Undefined')\n",
    "    df_imputed[col] = df_imputed[col].astype('object')"
   ]
  },
  {
   "cell_type": "code",
   "execution_count": null,
   "metadata": {
    "id": "v8lfTkD2rKdB",
    "outputId": "01a10bdb-bdb5-4eda-da10-d3f13afd7935"
   },
   "outputs": [
    {
     "data": {
      "text/plain": [
       "income_am           53\n",
       "profit_last_am      53\n",
       "profit_am           53\n",
       "damage_am           46\n",
       "damage_inc          53\n",
       "crd_lim_rec         53\n",
       "cab_requests        88\n",
       "bar_no              53\n",
       "neighbor_income    239\n",
       "age                 53\n",
       "client_segment      53\n",
       "sect_empl           53\n",
       "fam_adult_size      53\n",
       "children_no         53\n",
       "tenure_mts         392\n",
       "claims_no           53\n",
       "claims_am           27\n",
       "nights_booked       53\n",
       "shop_am             53\n",
       "dtype: int64"
      ]
     },
     "execution_count": 28,
     "metadata": {
      "tags": []
     },
     "output_type": "execute_result"
    }
   ],
   "source": [
    "df_imputed.isnull().sum()[df_imputed.isnull().sum()!=0]"
   ]
  },
  {
   "cell_type": "markdown",
   "metadata": {
    "id": "Klwoq41SrKdB"
   },
   "source": [
    "### Continuous features 'invullen'"
   ]
  },
  {
   "cell_type": "code",
   "execution_count": null,
   "metadata": {
    "id": "WBGahvwArKdB"
   },
   "outputs": [],
   "source": [
    "from sklearn.impute import SimpleImputer\n",
    "features = df_imputed.copy()\n",
    "num_feat = features.select_dtypes(include=['int64', 'float64']).columns\n",
    "mean_imputer = SimpleImputer(missing_values=np.nan, strategy='mean')\n",
    "mean_imputer = mean_imputer.fit(df_imputed[num_feat])\n",
    "df_imputed[num_feat] = mean_imputer.transform(df_imputed[num_feat].values)"
   ]
  },
  {
   "cell_type": "code",
   "execution_count": null,
   "metadata": {
    "id": "CkLLukMnrKdC",
    "outputId": "47622ab2-daa5-408c-bdf1-2d6e47fda09b"
   },
   "outputs": [
    {
     "data": {
      "text/plain": [
       "Series([], dtype: int64)"
      ]
     },
     "execution_count": 30,
     "metadata": {
      "tags": []
     },
     "output_type": "execute_result"
    }
   ],
   "source": [
    "df_imputed.isnull().sum()[df_imputed.isnull().sum()!=0]"
   ]
  },
  {
   "cell_type": "code",
   "execution_count": null,
   "metadata": {
    "id": "PgN7TTFfrKdC"
   },
   "outputs": [],
   "source": [
    "df_dummy_var = df_imputed.copy()\n",
    "for col in df_dummy_var:\n",
    "    if df_dummy_var[col].dtype ==  'object':\n",
    "        dummies = pd.get_dummies(df_dummy_var[col], dummy_na=False, prefix=col)  \n",
    "        df_dummy_var = pd.concat([df_dummy_var, dummies],axis=1)                   \n",
    "        df_dummy_var.drop(columns=[col], inplace=True)                          "
   ]
  },
  {
   "cell_type": "code",
   "execution_count": null,
   "metadata": {
    "id": "UhwTxagurKdD",
    "outputId": "77197206-f312-414e-cf97-553be02ae4b9"
   },
   "outputs": [
    {
     "name": "stdout",
     "output_type": "stream",
     "text": [
      "<class 'pandas.core.frame.DataFrame'>\n",
      "RangeIndex: 5000 entries, 0 to 4999\n",
      "Data columns (total 69 columns):\n",
      " #   Column                      Non-Null Count  Dtype  \n",
      "---  ------                      --------------  -----  \n",
      " 0   income_am                   5000 non-null   float64\n",
      " 1   profit_last_am              5000 non-null   float64\n",
      " 2   profit_am                   5000 non-null   float64\n",
      " 3   damage_am                   5000 non-null   float64\n",
      " 4   damage_inc                  5000 non-null   float64\n",
      " 5   crd_lim_rec                 5000 non-null   float64\n",
      " 6   cab_requests                5000 non-null   float64\n",
      " 7   bar_no                      5000 non-null   float64\n",
      " 8   neighbor_income             5000 non-null   float64\n",
      " 9   age                         5000 non-null   float64\n",
      " 10  client_segment              5000 non-null   float64\n",
      " 11  sect_empl                   5000 non-null   float64\n",
      " 12  fam_adult_size              5000 non-null   float64\n",
      " 13  children_no                 5000 non-null   float64\n",
      " 14  tenure_mts                  5000 non-null   float64\n",
      " 15  claims_no                   5000 non-null   float64\n",
      " 16  claims_am                   5000 non-null   float64\n",
      " 17  nights_booked               5000 non-null   float64\n",
      " 18  shop_am                     5000 non-null   float64\n",
      " 19  outcome_profit              5000 non-null   float64\n",
      " 20  outcome_damage_inc          5000 non-null   float64\n",
      " 21  outcome_damage_amount       5000 non-null   float64\n",
      " 22  credit_use_ic_0.0           5000 non-null   uint8  \n",
      " 23  credit_use_ic_1.0           5000 non-null   uint8  \n",
      " 24  credit_use_ic_Undefined     5000 non-null   uint8  \n",
      " 25  insurance_ic_0.0            5000 non-null   uint8  \n",
      " 26  insurance_ic_1.0            5000 non-null   uint8  \n",
      " 27  insurance_ic_Undefined      5000 non-null   uint8  \n",
      " 28  spa_ic_0.0                  5000 non-null   uint8  \n",
      " 29  spa_ic_1.0                  5000 non-null   uint8  \n",
      " 30  spa_ic_Undefined            5000 non-null   uint8  \n",
      " 31  married_cd_False            5000 non-null   uint8  \n",
      " 32  married_cd_True             5000 non-null   uint8  \n",
      " 33  sport_ic_0.0                5000 non-null   uint8  \n",
      " 34  sport_ic_1.0                5000 non-null   uint8  \n",
      " 35  sport_ic_Undefined          5000 non-null   uint8  \n",
      " 36  marketing_permit_0.0        5000 non-null   uint8  \n",
      " 37  marketing_permit_1.0        5000 non-null   uint8  \n",
      " 38  marketing_permit_Undefined  5000 non-null   uint8  \n",
      " 39  urban_ic_0.0                5000 non-null   uint8  \n",
      " 40  urban_ic_1.0                5000 non-null   uint8  \n",
      " 41  urban_ic_Undefined          5000 non-null   uint8  \n",
      " 42  dining_ic_0.0               5000 non-null   uint8  \n",
      " 43  dining_ic_1.0               5000 non-null   uint8  \n",
      " 44  dining_ic_Undefined         5000 non-null   uint8  \n",
      " 45  presidential_0.0            5000 non-null   uint8  \n",
      " 46  presidential_1.0            5000 non-null   uint8  \n",
      " 47  presidential_Undefined      5000 non-null   uint8  \n",
      " 48  prev_stay_0.0               5000 non-null   uint8  \n",
      " 49  prev_stay_1.0               5000 non-null   uint8  \n",
      " 50  prev_stay_Undefined         5000 non-null   uint8  \n",
      " 51  prev_all_in_stay_0.0        5000 non-null   uint8  \n",
      " 52  prev_all_in_stay_1.0        5000 non-null   uint8  \n",
      " 53  prev_all_in_stay_Undefined  5000 non-null   uint8  \n",
      " 54  company_ic_0.0              5000 non-null   uint8  \n",
      " 55  company_ic_1.0              5000 non-null   uint8  \n",
      " 56  company_ic_Undefined        5000 non-null   uint8  \n",
      " 57  gender_M                    5000 non-null   uint8  \n",
      " 58  gender_Undefined            5000 non-null   uint8  \n",
      " 59  gender_V                    5000 non-null   uint8  \n",
      " 60  shop_use_0.0                5000 non-null   uint8  \n",
      " 61  shop_use_1.0                5000 non-null   uint8  \n",
      " 62  shop_use_Undefined          5000 non-null   uint8  \n",
      " 63  retired_0.0                 5000 non-null   uint8  \n",
      " 64  retired_1.0                 5000 non-null   uint8  \n",
      " 65  retired_Undefined           5000 non-null   uint8  \n",
      " 66  gold_status_0.0             5000 non-null   uint8  \n",
      " 67  gold_status_1.0             5000 non-null   uint8  \n",
      " 68  gold_status_Undefined       5000 non-null   uint8  \n",
      "dtypes: float64(22), uint8(47)\n",
      "memory usage: 1.1 MB\n"
     ]
    }
   ],
   "source": [
    "df_dummy_var.info()"
   ]
  },
  {
   "cell_type": "markdown",
   "metadata": {
    "id": "Vjpbm3a4rKdD",
    "pycharm": {
     "name": "#%% md\n"
    }
   },
   "source": [
    "### Data transformeren en standardiseren\n",
    "(Op gelijke schaal brengen, ...)"
   ]
  },
  {
   "cell_type": "code",
   "execution_count": null,
   "metadata": {
    "id": "U8AhN_p4rKdD",
    "outputId": "79592a7e-ca47-4120-971a-b4f960cb44b6"
   },
   "outputs": [
    {
     "data": {
      "text/plain": [
       "array([[<AxesSubplot:title={'center':'income_am'}>,\n",
       "        <AxesSubplot:title={'center':'profit_last_am'}>,\n",
       "        <AxesSubplot:title={'center':'profit_am'}>,\n",
       "        <AxesSubplot:title={'center':'damage_am'}>,\n",
       "        <AxesSubplot:title={'center':'damage_inc'}>],\n",
       "       [<AxesSubplot:title={'center':'crd_lim_rec'}>,\n",
       "        <AxesSubplot:title={'center':'cab_requests'}>,\n",
       "        <AxesSubplot:title={'center':'bar_no'}>,\n",
       "        <AxesSubplot:title={'center':'neighbor_income'}>,\n",
       "        <AxesSubplot:title={'center':'age'}>],\n",
       "       [<AxesSubplot:title={'center':'client_segment'}>,\n",
       "        <AxesSubplot:title={'center':'sect_empl'}>,\n",
       "        <AxesSubplot:title={'center':'fam_adult_size'}>,\n",
       "        <AxesSubplot:title={'center':'children_no'}>,\n",
       "        <AxesSubplot:title={'center':'tenure_mts'}>],\n",
       "       [<AxesSubplot:title={'center':'claims_no'}>,\n",
       "        <AxesSubplot:title={'center':'claims_am'}>,\n",
       "        <AxesSubplot:title={'center':'nights_booked'}>,\n",
       "        <AxesSubplot:title={'center':'shop_am'}>,\n",
       "        <AxesSubplot:title={'center':'outcome_profit'}>],\n",
       "       [<AxesSubplot:title={'center':'outcome_damage_amount'}>,\n",
       "        <AxesSubplot:>, <AxesSubplot:>, <AxesSubplot:>, <AxesSubplot:>]],\n",
       "      dtype=object)"
      ]
     },
     "execution_count": 33,
     "metadata": {
      "tags": []
     },
     "output_type": "execute_result"
    },
    {
     "data": {
      "image/png": "[encoded data removed]",
      "text/plain": [
       "<Figure size 864x1008 with 25 Axes>"
      ]
     },
     "metadata": {
      "tags": []
     },
     "output_type": "display_data"
    }
   ],
   "source": [
    "df_transformed = df_dummy_var.copy()\n",
    "\n",
    "num = df_transformed.select_dtypes(include=['int64', 'float64']).columns\n",
    "num = num.drop(['outcome_damage_inc'],1)\n",
    "df_transformed[num].hist( figsize = (12,14))"
   ]
  },
  {
   "cell_type": "code",
   "execution_count": null,
   "metadata": {
    "id": "QhGcyc82rKdE",
    "outputId": "53e100ca-357e-4106-9a4c-c9a57a58aa8c"
   },
   "outputs": [
    {
     "name": "stdout",
     "output_type": "stream",
     "text": [
      "<class 'pandas.core.frame.DataFrame'>\n",
      "RangeIndex: 5000 entries, 0 to 4999\n",
      "Data columns (total 69 columns):\n",
      " #   Column                      Non-Null Count  Dtype  \n",
      "---  ------                      --------------  -----  \n",
      " 0   income_am                   5000 non-null   float64\n",
      " 1   profit_last_am              5000 non-null   float64\n",
      " 2   profit_am                   5000 non-null   float64\n",
      " 3   damage_am                   5000 non-null   float64\n",
      " 4   damage_inc                  5000 non-null   float64\n",
      " 5   crd_lim_rec                 5000 non-null   float64\n",
      " 6   cab_requests                5000 non-null   float64\n",
      " 7   bar_no                      5000 non-null   float64\n",
      " 8   neighbor_income             5000 non-null   float64\n",
      " 9   age                         5000 non-null   float64\n",
      " 10  client_segment              5000 non-null   float64\n",
      " 11  sect_empl                   5000 non-null   float64\n",
      " 12  fam_adult_size              5000 non-null   float64\n",
      " 13  children_no                 5000 non-null   float64\n",
      " 14  tenure_mts                  5000 non-null   float64\n",
      " 15  claims_no                   5000 non-null   float64\n",
      " 16  claims_am                   5000 non-null   float64\n",
      " 17  nights_booked               5000 non-null   float64\n",
      " 18  shop_am                     5000 non-null   float64\n",
      " 19  outcome_profit              5000 non-null   float64\n",
      " 20  outcome_damage_inc          5000 non-null   float64\n",
      " 21  outcome_damage_amount       5000 non-null   float64\n",
      " 22  credit_use_ic_0.0           5000 non-null   uint8  \n",
      " 23  credit_use_ic_1.0           5000 non-null   uint8  \n",
      " 24  credit_use_ic_Undefined     5000 non-null   uint8  \n",
      " 25  insurance_ic_0.0            5000 non-null   uint8  \n",
      " 26  insurance_ic_1.0            5000 non-null   uint8  \n",
      " 27  insurance_ic_Undefined      5000 non-null   uint8  \n",
      " 28  spa_ic_0.0                  5000 non-null   uint8  \n",
      " 29  spa_ic_1.0                  5000 non-null   uint8  \n",
      " 30  spa_ic_Undefined            5000 non-null   uint8  \n",
      " 31  married_cd_False            5000 non-null   uint8  \n",
      " 32  married_cd_True             5000 non-null   uint8  \n",
      " 33  sport_ic_0.0                5000 non-null   uint8  \n",
      " 34  sport_ic_1.0                5000 non-null   uint8  \n",
      " 35  sport_ic_Undefined          5000 non-null   uint8  \n",
      " 36  marketing_permit_0.0        5000 non-null   uint8  \n",
      " 37  marketing_permit_1.0        5000 non-null   uint8  \n",
      " 38  marketing_permit_Undefined  5000 non-null   uint8  \n",
      " 39  urban_ic_0.0                5000 non-null   uint8  \n",
      " 40  urban_ic_1.0                5000 non-null   uint8  \n",
      " 41  urban_ic_Undefined          5000 non-null   uint8  \n",
      " 42  dining_ic_0.0               5000 non-null   uint8  \n",
      " 43  dining_ic_1.0               5000 non-null   uint8  \n",
      " 44  dining_ic_Undefined         5000 non-null   uint8  \n",
      " 45  presidential_0.0            5000 non-null   uint8  \n",
      " 46  presidential_1.0            5000 non-null   uint8  \n",
      " 47  presidential_Undefined      5000 non-null   uint8  \n",
      " 48  prev_stay_0.0               5000 non-null   uint8  \n",
      " 49  prev_stay_1.0               5000 non-null   uint8  \n",
      " 50  prev_stay_Undefined         5000 non-null   uint8  \n",
      " 51  prev_all_in_stay_0.0        5000 non-null   uint8  \n",
      " 52  prev_all_in_stay_1.0        5000 non-null   uint8  \n",
      " 53  prev_all_in_stay_Undefined  5000 non-null   uint8  \n",
      " 54  company_ic_0.0              5000 non-null   uint8  \n",
      " 55  company_ic_1.0              5000 non-null   uint8  \n",
      " 56  company_ic_Undefined        5000 non-null   uint8  \n",
      " 57  gender_M                    5000 non-null   uint8  \n",
      " 58  gender_Undefined            5000 non-null   uint8  \n",
      " 59  gender_V                    5000 non-null   uint8  \n",
      " 60  shop_use_0.0                5000 non-null   uint8  \n",
      " 61  shop_use_1.0                5000 non-null   uint8  \n",
      " 62  shop_use_Undefined          5000 non-null   uint8  \n",
      " 63  retired_0.0                 5000 non-null   uint8  \n",
      " 64  retired_1.0                 5000 non-null   uint8  \n",
      " 65  retired_Undefined           5000 non-null   uint8  \n",
      " 66  gold_status_0.0             5000 non-null   uint8  \n",
      " 67  gold_status_1.0             5000 non-null   uint8  \n",
      " 68  gold_status_Undefined       5000 non-null   uint8  \n",
      "dtypes: float64(22), uint8(47)\n",
      "memory usage: 1.1 MB\n"
     ]
    }
   ],
   "source": [
    "df_transformed.info()"
   ]
  },
  {
   "cell_type": "code",
   "execution_count": null,
   "metadata": {
    "id": "vP90fjBHrKdE",
    "outputId": "1c83c40e-a133-4353-ee24-42c9f9d6abe2"
   },
   "outputs": [
    {
     "data": {
      "text/plain": [
       "array([[<AxesSubplot:title={'center':'income_am'}>,\n",
       "        <AxesSubplot:title={'center':'profit_last_am'}>,\n",
       "        <AxesSubplot:title={'center':'profit_am'}>,\n",
       "        <AxesSubplot:title={'center':'damage_am'}>,\n",
       "        <AxesSubplot:title={'center':'damage_inc'}>],\n",
       "       [<AxesSubplot:title={'center':'crd_lim_rec'}>,\n",
       "        <AxesSubplot:title={'center':'cab_requests'}>,\n",
       "        <AxesSubplot:title={'center':'bar_no'}>,\n",
       "        <AxesSubplot:title={'center':'neighbor_income'}>,\n",
       "        <AxesSubplot:title={'center':'age'}>],\n",
       "       [<AxesSubplot:title={'center':'client_segment'}>,\n",
       "        <AxesSubplot:title={'center':'sect_empl'}>,\n",
       "        <AxesSubplot:title={'center':'fam_adult_size'}>,\n",
       "        <AxesSubplot:title={'center':'children_no'}>,\n",
       "        <AxesSubplot:title={'center':'tenure_mts'}>],\n",
       "       [<AxesSubplot:title={'center':'claims_no'}>,\n",
       "        <AxesSubplot:title={'center':'claims_am'}>,\n",
       "        <AxesSubplot:title={'center':'nights_booked'}>,\n",
       "        <AxesSubplot:title={'center':'shop_am'}>,\n",
       "        <AxesSubplot:title={'center':'outcome_profit'}>],\n",
       "       [<AxesSubplot:title={'center':'outcome_damage_amount'}>,\n",
       "        <AxesSubplot:>, <AxesSubplot:>, <AxesSubplot:>, <AxesSubplot:>]],\n",
       "      dtype=object)"
      ]
     },
     "execution_count": 35,
     "metadata": {
      "tags": []
     },
     "output_type": "execute_result"
    },
    {
     "data": {
      "image/png": "[encoded data removed]",
      "text/plain": [
       "<Figure size 864x864 with 25 Axes>"
      ]
     },
     "metadata": {
      "tags": []
     },
     "output_type": "display_data"
    }
   ],
   "source": [
    "from scipy.stats import skew\n",
    "skewed = df_transformed[num].apply(lambda x: skew(x.dropna().astype(float)))\n",
    "skewed = skewed[skewed > 0.75]\n",
    "skewed = skewed.index\n",
    "df_transformed[skewed] = np.log1p(df_transformed[skewed])\n",
    "df_transformed[num].hist( figsize = (12,12))"
   ]
  },
  {
   "cell_type": "code",
   "execution_count": null,
   "metadata": {
    "id": "G1JRCMnarKdE"
   },
   "outputs": [],
   "source": [
    "features = df_transformed.copy()\n",
    "features = features.drop(['outcome_profit', 'outcome_damage_amount', 'outcome_damage_inc'],1)\n",
    "num_feat = features.select_dtypes(include=['int64', 'float64']).columns\n",
    "\n",
    "#Robustscaler\n",
    "from sklearn.preprocessing import RobustScaler\n",
    "scaler = RobustScaler()\n",
    "scaler.fit(df_transformed[num_feat])\n",
    "df_transformed[num_feat] = scaler.transform(df_transformed[num_feat])\n",
    "\n",
    "prof_temp = df_transformed.copy()\n",
    "dam_temp = df_transformed.copy()\n",
    "\n",
    "df_profit = prof_temp.drop(['outcome_damage_amount', 'outcome_damage_inc'], 1)\n",
    "df_damage_inc = dam_temp.drop(['outcome_damage_amount', 'outcome_profit'], 1)\n",
    "df_damage_amount = df_transformed.drop(['outcome_profit'], 1)\n",
    "\n",
    "df_damage_amount = df_damage_amount[df_damage_amount['outcome_damage_inc'] == 1]\n",
    "df_damage_amount = df_damage_amount.drop(['outcome_damage_inc'], 1)"
   ]
  },
  {
   "cell_type": "markdown",
   "metadata": {
    "id": "Ha3aLRj-10XM"
   },
   "source": [
    "## Gecleande data opslaan naar (3) CSV('s)\n",
    "(voor verschillende testing purposes)"
   ]
  },
  {
   "cell_type": "code",
   "execution_count": null,
   "metadata": {
    "id": "U_hjZZoyrKdF",
    "pycharm": {
     "name": "#%%\n"
    }
   },
   "outputs": [],
   "source": [
    "df_profit.to_csv('train_V2_cleaned_profit.csv', index=False)\n",
    "df_damage_inc.to_csv('train_V2_cleaned_damage_inc.csv', index=False)\n",
    "df_damage_amount.to_csv('train_V2_cleaned_damage_amount.csv', index=False)"
   ]
  }
 ],
 "metadata": {
  "colab": {
   "collapsed_sections": [
    "EBmavm9FtegQ",
    "EtkYd1pBrKc3",
    "Mx43_YFrrKc5",
    "B6InFaI1rKc7",
    "8qsYPLx9rKc8",
    "D-ozWnP8rKc9"
   ],
   "name": "Pre-processing.ipynb",
   "provenance": [],
   "toc_visible": true
  },
  "kernelspec": {
   "display_name": "Python 3",
   "language": "python",
   "name": "python3"
  },
  "language_info": {
   "codemirror_mode": {
    "name": "ipython",
    "version": 3
   },
   "file_extension": ".py",
   "mimetype": "text/x-python",
   "name": "python",
   "nbconvert_exporter": "python",
   "pygments_lexer": "ipython3",
   "version": "3.8.0"
  },
  "metadata": {
   "interpreter": {
    "hash": "ca585555a2867b459a38eaf8b2b47956aef7a6f770e52f1f5dfa1f8f05e57688"
   }
  }
 },
 "nbformat": 4,
 "nbformat_minor": 1
}
