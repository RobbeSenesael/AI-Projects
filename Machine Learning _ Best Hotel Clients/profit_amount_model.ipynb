{
 "cells": [
  {
   "cell_type": "markdown",
   "id": "interpreted-absence",
   "metadata": {},
   "source": [
    "# Supervised learning regression"
   ]
  },
  {
   "cell_type": "markdown",
   "id": "thorough-event",
   "metadata": {},
   "source": [
    "## Imports"
   ]
  },
  {
   "cell_type": "code",
   "execution_count": 1,
   "id": "intensive-startup",
   "metadata": {},
   "outputs": [],
   "source": [
    "import numpy as np\n",
    "import pandas as pd\n",
    "import matplotlib as mpl\n",
    "import matplotlib.pyplot as plt\n",
    "import seaborn as sns\n",
    "plt.style.use('seaborn-darkgrid')"
   ]
  },
  {
   "cell_type": "code",
   "execution_count": 2,
   "id": "distant-consent",
   "metadata": {},
   "outputs": [],
   "source": [
    "df = pd.read_csv('datasets/train_V2_cleaned_profit.csv')"
   ]
  },
  {
   "cell_type": "markdown",
   "id": "driving-wiring",
   "metadata": {},
   "source": [
    "## Train and val split"
   ]
  },
  {
   "cell_type": "markdown",
   "id": "flying-insight",
   "metadata": {},
   "source": [
    "shuffling the data"
   ]
  },
  {
   "cell_type": "code",
   "execution_count": 3,
   "id": "oriental-equivalent",
   "metadata": {},
   "outputs": [],
   "source": [
    "from random import Random\n",
    "df_shuffle = df.sample(frac=1)"
   ]
  },
  {
   "cell_type": "markdown",
   "id": "hollywood-profession",
   "metadata": {},
   "source": [
    "Train/val split"
   ]
  },
  {
   "cell_type": "code",
   "execution_count": 4,
   "id": "metallic-recycling",
   "metadata": {},
   "outputs": [
    {
     "name": "stderr",
     "output_type": "stream",
     "text": [
      "C:\\Users\\robbe\\AppData\\Local\\Temp/ipykernel_11356/3507664710.py:3: FutureWarning: In a future version of pandas all arguments of DataFrame.drop except for the argument 'labels' will be keyword-only\n",
      "  X = df_shuffle.drop(['outcome_profit'],1)\n"
     ]
    }
   ],
   "source": [
    "from sklearn.model_selection import train_test_split\n",
    "\n",
    "X = df_shuffle.drop(['outcome_profit'],1)\n",
    "y = df_shuffle['outcome_profit']\n",
    "\n",
    "X_trainval, X_test, y_trainval, y_test = train_test_split(X, y, test_size=0.2, random_state=1234)\n",
    "X_train, X_val, y_train, y_val = train_test_split(X_trainval,y_trainval, test_size=0.2, random_state=1234)"
   ]
  },
  {
   "cell_type": "markdown",
   "id": "seasonal-toyota",
   "metadata": {},
   "source": [
    "## Linear regression"
   ]
  },
  {
   "cell_type": "markdown",
   "id": "adjustable-welcome",
   "metadata": {},
   "source": [
    "training"
   ]
  },
  {
   "cell_type": "code",
   "execution_count": 5,
   "id": "increased-polymer",
   "metadata": {},
   "outputs": [
    {
     "data": {
      "text/plain": [
       "LinearRegression()"
      ]
     },
     "execution_count": 5,
     "metadata": {},
     "output_type": "execute_result"
    }
   ],
   "source": [
    "from sklearn.linear_model import LinearRegression\n",
    "reg = LinearRegression()\n",
    "reg.fit(X_train, y_train)"
   ]
  },
  {
   "cell_type": "markdown",
   "id": "specialized-accused",
   "metadata": {},
   "source": [
    "evaluating"
   ]
  },
  {
   "cell_type": "code",
   "execution_count": 6,
   "id": "consecutive-steering",
   "metadata": {},
   "outputs": [],
   "source": [
    "predictions_train = reg.predict(X_train)\n",
    "predictions_val = reg.predict(X_val)"
   ]
  },
  {
   "cell_type": "code",
   "execution_count": 7,
   "id": "judicial-warning",
   "metadata": {},
   "outputs": [
    {
     "name": "stdout",
     "output_type": "stream",
     "text": [
      "0.5273097604177048\n",
      "0.49819422707428984\n"
     ]
    }
   ],
   "source": [
    "from sklearn.metrics import r2_score\n",
    "print(r2_score(y_train, predictions_train))\n",
    "print(r2_score(y_val, predictions_val))"
   ]
  },
  {
   "cell_type": "markdown",
   "id": "greatest-relation",
   "metadata": {},
   "source": [
    "# Polynomial regression"
   ]
  },
  {
   "cell_type": "markdown",
   "id": "eleven-satin",
   "metadata": {},
   "source": [
    "Designing the features"
   ]
  },
  {
   "cell_type": "code",
   "execution_count": 8,
   "id": "republican-roommate",
   "metadata": {},
   "outputs": [
    {
     "data": {
      "text/plain": [
       "(3200, 2278)"
      ]
     },
     "execution_count": 8,
     "metadata": {},
     "output_type": "execute_result"
    }
   ],
   "source": [
    "from sklearn.preprocessing import PolynomialFeatures\n",
    "poly = PolynomialFeatures(degree=2)\n",
    "X_train_poly = poly.fit_transform(X_train)\n",
    "X_val_poly = poly.transform(X_val)\n",
    "\n",
    "X_train_poly.shape"
   ]
  },
  {
   "cell_type": "code",
   "execution_count": 9,
   "id": "cooperative-practice",
   "metadata": {},
   "outputs": [
    {
     "data": {
      "text/plain": [
       "LinearRegression(fit_intercept=False)"
      ]
     },
     "execution_count": 9,
     "metadata": {},
     "output_type": "execute_result"
    }
   ],
   "source": [
    "reg_quad = LinearRegression(fit_intercept=False)\n",
    "reg_quad.fit(X_train_poly, y_train)"
   ]
  },
  {
   "cell_type": "code",
   "execution_count": 10,
   "id": "neural-monroe",
   "metadata": {},
   "outputs": [
    {
     "name": "stdout",
     "output_type": "stream",
     "text": [
      "0.7127924013528382\n",
      "-5.188084726463336e+18\n"
     ]
    }
   ],
   "source": [
    "print(reg_quad.score(X_train_poly, y_train))\n",
    "print(reg_quad.score(X_val_poly, y_val))"
   ]
  },
  {
   "cell_type": "markdown",
   "id": "orange-publicity",
   "metadata": {},
   "source": [
    "# Higher order polynomials"
   ]
  },
  {
   "cell_type": "markdown",
   "id": "enabling-blake",
   "metadata": {},
   "source": [
    "cross validation"
   ]
  },
  {
   "cell_type": "code",
   "execution_count": 11,
   "id": "acceptable-guide",
   "metadata": {},
   "outputs": [
    {
     "name": "stdout",
     "output_type": "stream",
     "text": [
      "Order 1: avg R^2 = 0.5079611485050608\n",
      "Order 2: avg R^2 = -4.971758214027705e+19\n"
     ]
    }
   ],
   "source": [
    "from sklearn.pipeline import Pipeline\n",
    "\n",
    "from sklearn.model_selection import cross_val_score\n",
    "\n",
    "avg_scores = [None] * 5\n",
    "\n",
    "for i in np.arange(1,6):\n",
    "    \n",
    "    reg_poly = Pipeline([('poly', PolynomialFeatures(degree=i)),\n",
    "                  ('linear', LinearRegression(fit_intercept=False))])\n",
    "    \n",
    "    scores = cross_val_score(reg_poly, X_train, y_train, scoring = 'r2', cv=5)\n",
    "    \n",
    "    avg_scores[i-1] = scores.mean()\n",
    "    \n",
    "    print(\"Order \"+str(i)+\": avg R^2 = \"+str( avg_scores[i-1]))"
   ]
  },
  {
   "cell_type": "markdown",
   "id": "usual-sacrifice",
   "metadata": {},
   "source": [
    "plotting the results"
   ]
  },
  {
   "cell_type": "code",
   "execution_count": null,
   "id": "mature-stretch",
   "metadata": {},
   "outputs": [
    {
     "data": {
      "image/png": "[encoded data removed]",
      "text/plain": [
       "<Figure size 576x432 with 1 Axes>"
      ]
     },
     "metadata": {},
     "output_type": "display_data"
    }
   ],
   "source": [
    "fig, ax = plt.subplots(figsize=(8, 6))\n",
    "plt.scatter(np.arange(1,6), avg_scores, c='b', label='data')\n",
    "plt.axis('tight')\n",
    "plt.title(\"Cross-validation polynomials\")\n",
    "ax.set_xlabel(\"Order\");\n",
    "ax.set_ylabel(\"CV R^2\");\n",
    "plt.tight_layout()\n",
    "plt.show()"
   ]
  },
  {
   "cell_type": "markdown",
   "id": "continental-corrections",
   "metadata": {},
   "source": [
    "# Regression"
   ]
  },
  {
   "cell_type": "markdown",
   "id": "broadband-house",
   "metadata": {},
   "source": [
    "## Nearest neighbors"
   ]
  },
  {
   "cell_type": "markdown",
   "id": "conditional-ready",
   "metadata": {},
   "source": [
    "### RNN"
   ]
  },
  {
   "cell_type": "code",
   "execution_count": null,
   "id": "durable-trust",
   "metadata": {},
   "outputs": [],
   "source": [
    "from sklearn.neighbors import RadiusNeighborsRegressor\n",
    "from sklearn.model_selection import cross_val_score\n",
    "\n",
    "Radius = np.linspace(45,60,15)    # This will give an array of numbers between 45 and 60\n",
    "cv_scores = []\n",
    "sd_scores = []\n",
    "# perform 5-fold cross validation on the 11 possible values for the radius (bandwith)\n",
    "for k in Radius:\n",
    "    Rnn = RadiusNeighborsRegressor(radius= k)\n",
    "    scores = cross_val_score(Rnn, X_train, y_train,  cv=5)\n",
    "    cv_scores.append(scores.mean())\n",
    "    sd_scores.append(np.sqrt(scores.var())/np.sqrt(5))"
   ]
  },
  {
   "cell_type": "code",
   "execution_count": null,
   "id": "swedish-equality",
   "metadata": {},
   "outputs": [
    {
     "data": {
      "image/png": "[encoded data removed]",
      "text/plain": [
       "<Figure size 432x288 with 1 Axes>"
      ]
     },
     "metadata": {},
     "output_type": "display_data"
    }
   ],
   "source": [
    "max_value = max(cv_scores)\n",
    "max_index = cv_scores.index(max_value)\n",
    "\n",
    "plt.plot(Radius, cv_scores)\n",
    "plt.xlabel('Radius of Neighbors ')\n",
    "plt.ylabel('R^2')\n",
    "plt.axhline(y=max_value-1.96*sd_scores[max_index])\n",
    "\n",
    "plt.show()"
   ]
  },
  {
   "cell_type": "markdown",
   "id": "latin-wages",
   "metadata": {},
   "source": [
    "Rnn is useless, it's undefitted with even the lowest radius possible"
   ]
  },
  {
   "cell_type": "markdown",
   "id": "corporate-parish",
   "metadata": {},
   "source": [
    "### KNN"
   ]
  },
  {
   "cell_type": "code",
   "execution_count": null,
   "id": "numerical-grenada",
   "metadata": {},
   "outputs": [],
   "source": [
    "from sklearn.neighbors import KNeighborsRegressor\n",
    "from sklearn.model_selection import cross_val_score\n",
    "\n",
    "K = np.arange(1,1000)    \n",
    "cv_scores = []\n",
    "sd_scores = []\n",
    "# perform 5-fold cross validation on the  possible values for the radius (bandwith)\n",
    "for k in K:\n",
    "    knn = KNeighborsRegressor(n_neighbors= k)\n",
    "    scores = cross_val_score(knn, X_train, y_train,  cv=10)\n",
    "    cv_scores.append(scores.mean())\n",
    "    sd_scores.append(np.sqrt(scores.var())/np.sqrt(5))"
   ]
  },
  {
   "cell_type": "code",
   "execution_count": null,
   "id": "public-acceptance",
   "metadata": {},
   "outputs": [],
   "source": [
    "max_value = max(cv_scores)\n",
    "max_index = cv_scores.index(max_value)\n",
    "\n",
    "plt.plot(K, cv_scores)\n",
    "plt.xlabel('k Neighbors ')\n",
    "plt.ylabel('R^2')\n",
    "plt.axhline(y=max_value-1.96*sd_scores[max_index])\n",
    "\n",
    "plt.show()\n",
    "print('The best k is', K[max_index])"
   ]
  },
  {
   "cell_type": "code",
   "execution_count": null,
   "id": "applicable-greece",
   "metadata": {},
   "outputs": [],
   "source": [
    "start = 60\n",
    "stop = 70\n",
    "\n",
    "plt.plot(K[start : stop],cv_scores[start : stop])\n",
    "plt.xlabel('k Neighbors ')\n",
    "plt.ylabel('R^2')\n",
    "\n",
    "plt.axhline(y=max_value-1.96*sd_scores[max_index])\n",
    "\n",
    "\n",
    "plt.show()\n",
    "print('The best k is', K[max_index])"
   ]
  },
  {
   "cell_type": "markdown",
   "id": "digital-strand",
   "metadata": {},
   "source": [
    "De beste k is 13, maar 68 is de hoogste dat nog boven de grens ligt, dus we nemen deze."
   ]
  },
  {
   "cell_type": "code",
   "execution_count": null,
   "id": "signed-wales",
   "metadata": {},
   "outputs": [],
   "source": [
    "knn = KNeighborsRegressor(n_neighbors=68)\n",
    "knn.fit(X_train, y_train)  \n",
    "print('train value for k=30:',knn.score(X_train, y_train) )\n",
    "print('validation value for k=30:',knn.score(X_val, y_val) )"
   ]
  },
  {
   "cell_type": "markdown",
   "id": "mysterious-butter",
   "metadata": {},
   "source": [
    "### Penalisatie"
   ]
  },
  {
   "cell_type": "code",
   "execution_count": null,
   "id": "undefined-contest",
   "metadata": {},
   "outputs": [],
   "source": [
    "from sklearn.preprocessing import PolynomialFeatures\n",
    "\n",
    "poly = PolynomialFeatures(degree=3)\n",
    "X_train_poly = poly.fit_transform(X_train)\n",
    "X_val_poly = poly.transform(X_val)\n",
    "X_train_poly.shape"
   ]
  },
  {
   "cell_type": "code",
   "execution_count": null,
   "id": "yellow-uruguay",
   "metadata": {},
   "outputs": [],
   "source": [
    "from sklearn.linear_model import LassoCV\n",
    "linreg_lassoCV = LassoCV(cv=5, max_iter=500, verbose=1, n_jobs=6).fit(X_train_poly, y_train)\n",
    "print('R2 Training : %.3f' % linreg_lassoCV.score(X_train_poly, y_train))\n",
    "print('R2 Testing : %.3f' % linreg_lassoCV.score(X_val_poly, y_val))"
   ]
  },
  {
   "cell_type": "markdown",
   "id": "mediterranean-wrong",
   "metadata": {},
   "source": [
    "# Three based methods"
   ]
  },
  {
   "cell_type": "markdown",
   "id": "hungarian-garlic",
   "metadata": {},
   "source": [
    "## Random forest\n"
   ]
  },
  {
   "cell_type": "code",
   "execution_count": null,
   "id": "bizarre-pressure",
   "metadata": {},
   "outputs": [
    {
     "name": "stdout",
     "output_type": "stream",
     "text": [
      "Fitting 10 folds for each of 500 candidates, totalling 5000 fits\n"
     ]
    }
   ],
   "source": [
    "from sklearn.model_selection import RandomizedSearchCV\n",
    "from sklearn.ensemble import RandomForestRegressor\n",
    "\n",
    "criterion =['mse','mae']\n",
    "n_estimators = [int(x) for x in np.linspace(start = 100, stop = 500, num = 200)]\n",
    "max_features = ['auto', 'sqrt', 'log2']\n",
    "max_depth = [int(x) for x in np.linspace(1, 15, num = 15)]\n",
    "min_samples_split = [int(x) for x in np.linspace(2, 15, num = 14)]\n",
    "min_samples_leaf = [int(x) for x in np.linspace(1, 15, num = 15)]\n",
    "max_leaf_nodes = [int(x) for x in np.linspace(10, 500, num = 490)]\n",
    "\n",
    "# create the random grid to search for best hyperparameters\n",
    "random_grid = {'criterion': criterion,\n",
    "               'n_estimators': n_estimators,\n",
    "               'max_features': max_features,\n",
    "               'max_depth': max_depth,\n",
    "               'min_samples_split': min_samples_split,\n",
    "               'min_samples_leaf': min_samples_leaf,\n",
    "               'max_leaf_nodes': max_leaf_nodes}\n",
    "\n",
    "# then do cross-validatoin\n",
    "rf = RandomForestRegressor()\n",
    "rf_random = RandomizedSearchCV(estimator = rf, param_distributions = random_grid, n_iter = 500, \n",
    "                               cv = 10, verbose=5, random_state=6541, n_jobs=-1)\n",
    "\n",
    "# n_jobs=-1 to run as many models  parallel as possible\n",
    "rf_random.fit(X_train, y_train)"
   ]
  },
  {
   "cell_type": "code",
   "execution_count": null,
   "id": "ahead-european",
   "metadata": {},
   "outputs": [],
   "source": [
    "print(rf_random.score(X_train, y_train))\n",
    "print(rf_random.score(X_val, y_val))"
   ]
  },
  {
   "cell_type": "code",
   "execution_count": null,
   "id": "derived-syria",
   "metadata": {},
   "outputs": [],
   "source": [
    "out = pd.DataFrame(rf_random.cv_results_)\n",
    "\n",
    "xlabel_names = ['param_max_depth','param_min_samples_split','param_min_samples_leaf','param_n_estimators',\n",
    "                'param_max_features', 'param_max_leaf_nodes', 'param_criterion']\n",
    "\n",
    "fig, axs = plt.subplots(3,3, figsize=(20,10))\n",
    "\n",
    "axs[0,0].scatter(out['param_max_depth'], out['mean_test_score'], c='blue');\n",
    "axs[0,0].set_title('max_depth')\n",
    "\n",
    "axs[0,1].scatter(out['param_min_samples_split'], out['mean_test_score'], c='blue');\n",
    "axs[0,1].set_title('min_samples_split')\n",
    "\n",
    "axs[0,2].scatter(out['param_min_samples_leaf'], out['mean_test_score'], c='blue');\n",
    "axs[0,2].set_title('min_samples_leaf')\n",
    "\n",
    "axs[1,0].scatter(out['param_n_estimators'], out['mean_test_score'], c='blue');\n",
    "axs[1,0].set_title('n_estimators')\n",
    "\n",
    "axs[1,1].scatter(out['param_max_features'], out['mean_test_score'], c='blue');\n",
    "axs[1,1].set_title('max_features')\n",
    "\n",
    "axs[1,2].scatter(out['param_max_leaf_nodes'], out['mean_test_score'], c='blue');\n",
    "axs[1,2].set_title('max_leaf_nodes')\n",
    "\n",
    "axs[2,0].scatter(out['param_criterion'], out['mean_test_score'], c='blue');\n",
    "axs[2,0].set_title('criterion')\n",
    "\n",
    "for ax in axs.flat:\n",
    "    ax.set(ylabel='r_squared')"
   ]
  },
  {
   "cell_type": "code",
   "execution_count": null,
   "id": "limiting-plenty",
   "metadata": {},
   "outputs": [],
   "source": [
    "out = out[out.mean_test_score > 0.59]"
   ]
  },
  {
   "cell_type": "code",
   "execution_count": null,
   "id": "nervous-documentation",
   "metadata": {},
   "outputs": [],
   "source": [
    "xlabel_names = ['param_max_depth','param_min_samples_split','param_min_samples_leaf','param_n_estimators', 'param_max_leaf_nodes']\n",
    "for xlabel in xlabel_names:\n",
    "    fig, ax = plt.subplots(figsize=(8,6))\n",
    "    xs = out[xlabel]\n",
    "    ys = out['mean_test_score']\n",
    "    ax.scatter(xs, ys, c='blue');\n",
    "    ax.set_xlabel(xlabel);\n",
    "    ax.set_ylabel(\"r_squared\");\n",
    "    ax.set_title(xlabel)\n",
    "\n",
    "    for x, y in zip(xs, ys):\n",
    "        label = f\"({x}, {round(y, 3)})\"\n",
    "        ax.annotate(label, (x, y), textcoords=\"offset points\", xytext=(0, 10), ha=\"center\")"
   ]
  },
  {
   "cell_type": "code",
   "execution_count": null,
   "id": "coated-noise",
   "metadata": {},
   "outputs": [],
   "source": [
    "rf_random.best_params_"
   ]
  },
  {
   "cell_type": "code",
   "execution_count": null,
   "id": "baking-martin",
   "metadata": {},
   "outputs": [],
   "source": [
    "from sklearn.model_selection import GridSearchCV\n",
    "from sklearn.ensemble import RandomForestRegressor\n",
    "\n",
    "\n",
    "max_depth = [9, 10, 13]\n",
    "min_samples_split = [5, 9, 10, 12, 13]\n",
    "min_samples_leaf = [1, 2, 3, 4]\n",
    "n_estimators = [230, 317, 369, 405, 467]\n",
    "max_features = ['auto']\n",
    "max_leaf_nodes = [90, 119, 166, 247, 328]\n",
    "criterion =['mse']\n",
    "\n",
    "\n",
    "# create the random grid to search for best hyperparameters\n",
    "grid = {'criterion': criterion,\n",
    "               'n_estimators': n_estimators,\n",
    "               'max_features': max_features,\n",
    "                'max_leaf_nodes': max_leaf_nodes,\n",
    "               'max_depth': max_depth,\n",
    "               'min_samples_split': min_samples_split,\n",
    "               'min_samples_leaf': min_samples_leaf}\n",
    "\n",
    "# then do cross-validatoin\n",
    "rf = RandomForestRegressor()\n",
    "rf_grid = GridSearchCV(estimator = rf, param_grid = grid,\n",
    "                               cv = 10,verbose=1,  n_jobs=-1)\n",
    "# n_jobs=-1 to run as many models  parallel as possible\n",
    "rf_grid.fit(X_train, y_train)"
   ]
  },
  {
   "cell_type": "code",
   "execution_count": null,
   "id": "opening-absorption",
   "metadata": {},
   "outputs": [],
   "source": [
    "rf_grid.best_params_"
   ]
  },
  {
   "cell_type": "code",
   "execution_count": null,
   "id": "standard-population",
   "metadata": {},
   "outputs": [],
   "source": [
    "params = rf_grid.best_params_\n",
    "rf_gridBest = RandomForestRegressor(**params)\n",
    "rf_gridBest.fit(X_train, y_train)\n",
    "print('R2: %.3f' % rf_gridBest.score(X_train, y_train))\n",
    "print('R2: %.3f' % rf_gridBest.score(X_val, y_val))"
   ]
  },
  {
   "cell_type": "code",
   "execution_count": null,
   "id": "familiar-bloom",
   "metadata": {},
   "outputs": [],
   "source": [
    "from matplotlib import pyplot as plt\n",
    "\n",
    "plt.figure(figsize=(20,10))\n",
    "\n",
    "feat_importances = pd.Series(rf_gridBest.feature_importances_, index=X_train.columns)\n",
    "feat_importances.nlargest(38).plot(kind='barh')\n",
    "plt.show()"
   ]
  },
  {
   "cell_type": "code",
   "execution_count": null,
   "id": "sublime-story",
   "metadata": {},
   "outputs": [],
   "source": [
    "plt.figure()\n",
    "\n",
    "feat_importances.nlargest(20).plot(kind='barh')\n",
    "plt.show()"
   ]
  },
  {
   "cell_type": "markdown",
   "id": "twenty-referral",
   "metadata": {},
   "source": [
    "## Gradient boosting regressor"
   ]
  },
  {
   "cell_type": "code",
   "execution_count": null,
   "id": "saved-hampshire",
   "metadata": {},
   "outputs": [],
   "source": [
    "from sklearn.model_selection import RandomizedSearchCV\n",
    "from sklearn.ensemble import GradientBoostingRegressor\n",
    "\n",
    "max_features = ['auto']\n",
    "criterion =['mse']\n",
    "n_estimators = [int(x) for x in np.linspace(start = 100, stop = 500, num = 300)]\n",
    "max_depth = [int(x) for x in np.linspace(1, 15, num = 15)]\n",
    "min_samples_split = [int(x) for x in np.linspace(2, 15, num = 14)]\n",
    "min_samples_leaf = [int(x) for x in np.linspace(1, 15, num = 15)]\n",
    "max_leaf_nodes = [int(x) for x in np.linspace(10, 500, num = 50)]\n",
    "loss = ['ls','lad','huber','quantile']\n",
    "learning_rate = [round(x,5) for x in np.linspace(0.1, 1, num = 10)]\n",
    "\n",
    "# create the random grid to search for best hyperparameters\n",
    "random_grid = {'criterion': criterion,\n",
    "               'n_estimators': n_estimators,\n",
    "               'max_features': max_features,\n",
    "               'max_depth': max_depth,\n",
    "               'min_samples_split': min_samples_split,\n",
    "               'min_samples_leaf': min_samples_leaf,\n",
    "               'max_leaf_nodes': max_leaf_nodes,\n",
    "               'loss': loss,\n",
    "               'learning_rate': learning_rate}\n",
    "\n",
    "# then do cross-validatoin\n",
    "gbm = GradientBoostingRegressor()\n",
    "gbm_random = RandomizedSearchCV(estimator = gbm, param_distributions = random_grid, n_iter = 1000, \n",
    "                               cv = 10, verbose=2, random_state=1234, n_jobs=-1)\n",
    "gbm_random.fit(X_train, y_train)"
   ]
  },
  {
   "cell_type": "code",
   "execution_count": null,
   "id": "recovered-growth",
   "metadata": {},
   "outputs": [],
   "source": [
    "print(gbm_random.score(X_train, y_train))\n",
    "gbm_random.score(X_val, y_val)"
   ]
  },
  {
   "cell_type": "code",
   "execution_count": null,
   "id": "postal-vitamin",
   "metadata": {},
   "outputs": [],
   "source": [
    "out2 = pd.DataFrame(gbm_random.cv_results_)\n",
    "\n",
    "xlabel_names = ['param_max_depth','param_min_samples_split','param_min_samples_leaf','param_n_estimators', 'param_max_leaf_nodes']\n",
    "for xlabel in xlabel_names:\n",
    "    fig, ax = plt.subplots(figsize=(8,6))\n",
    "    xs = out2[xlabel]\n",
    "    ys = out2['mean_test_score']\n",
    "    ax.scatter(xs, ys, c='blue');\n",
    "    ax.set_xlabel(xlabel);\n",
    "    ax.set_ylabel(\"r_squared\");\n"
   ]
  },
  {
   "cell_type": "code",
   "execution_count": null,
   "id": "promotional-impression",
   "metadata": {},
   "outputs": [],
   "source": [
    "out2 = out2[out2.mean_test_score > 0.651]"
   ]
  },
  {
   "cell_type": "code",
   "execution_count": null,
   "id": "executive-movie",
   "metadata": {},
   "outputs": [],
   "source": [
    "xlabel_names = ['param_n_estimators', 'param_min_samples_split','param_min_samples_leaf','param_max_leaf_nodes','param_max_depth', 'param_learning_rate']\n",
    "for xlabel in xlabel_names:\n",
    "    fig, ax = plt.subplots(figsize=(10, 8))\n",
    "    xs = out2[xlabel]\n",
    "    ys = out2['mean_test_score']\n",
    "    ax.scatter(xs, ys, c='blue');\n",
    "    ax.set_xlabel(xlabel);\n",
    "    ax.set_ylabel(\"r_squared\");\n",
    "    ax.set_title(xlabel)\n",
    "    print(xlabel)\n",
    "    for x, y in zip(xs, ys):\n",
    "        label = f\"({x}, {round(y, 3)})\"\n",
    "        print(label)\n",
    "        ax.annotate(label, (x, y), textcoords=\"offset points\", xytext=(0, 10), ha=\"center\")"
   ]
  },
  {
   "cell_type": "code",
   "execution_count": null,
   "id": "expressed-balloon",
   "metadata": {},
   "outputs": [],
   "source": [
    "gbm_random.best_params_"
   ]
  },
  {
   "cell_type": "code",
   "execution_count": null,
   "id": "eight-alaska",
   "metadata": {},
   "outputs": [],
   "source": [
    "from sklearn.model_selection import GridSearchCV\n",
    "from sklearn.ensemble import RandomForestRegressor\n",
    "n_estimators = [142, 137, 153, 302, 203, 410]\n",
    "min_samples_split = [4, 8, 10, 14, 15]\n",
    "min_samples_leaf = [3, 4, 8, 13]\n",
    "max_leaf_nodes = [10, 180, 250, 270, 500]\n",
    "max_features = ['auto']\n",
    "max_depth = [2, 3, 4, 5, 8]\n",
    "loss = ['ls']\n",
    "learning_rate = [0.06, 0.08,0.1,0.12,0.14]\n",
    "criterion =['mse']\n",
    "\n",
    "# create the random grid to search for best hyperparameters\n",
    "grid = {'criterion': criterion,\n",
    "               'n_estimators': n_estimators,\n",
    "               'max_features': max_features,\n",
    "               'max_depth': max_depth,\n",
    "               'min_samples_split': min_samples_split,\n",
    "               'min_samples_leaf': min_samples_leaf,\n",
    "                'max_leaf_nodes': max_leaf_nodes,\n",
    "               'learning_rate': learning_rate,\n",
    "               'loss':loss}\n",
    "\n",
    "# then do cross-validatoin\n",
    "gbm = GradientBoostingRegressor()\n",
    "gbm_grid = GridSearchCV(estimator = gbm, param_grid = grid,\n",
    "                               cv = 10, verbose=2,  n_jobs=-1)\n",
    "# n_jobs=-1 to run as many models  parallel as possible\n",
    "gbm_grid.fit(X_train, y_train)"
   ]
  },
  {
   "cell_type": "code",
   "execution_count": null,
   "id": "endless-graphics",
   "metadata": {},
   "outputs": [],
   "source": [
    "gbm_grid.best_params_"
   ]
  },
  {
   "cell_type": "code",
   "execution_count": null,
   "id": "lyric-junction",
   "metadata": {},
   "outputs": [],
   "source": [
    "params = gbm_grid.best_params_\n",
    "gbm_gridBest = GradientBoostingRegressor(**params)\n",
    "gbm_gridBest.fit(X_train, y_train)\n",
    "print('R2: %.3f' % gbm_gridBest.score(X_train, y_train))\n",
    "print('R2: %.3f' % gbm_gridBest.score(X_val, y_val))"
   ]
  },
  {
   "cell_type": "code",
   "execution_count": null,
   "id": "considerable-buffer",
   "metadata": {},
   "outputs": [],
   "source": [
    "import joblib"
   ]
  },
  {
   "cell_type": "code",
   "execution_count": null,
   "id": "front-enhancement",
   "metadata": {},
   "outputs": [],
   "source": [
    "joblib.dump(gbm_gridBest, \"Profit_best_model.pkl\")"
   ]
  }
 ],
 "metadata": {
  "kernelspec": {
   "display_name": "Python 3",
   "language": "python",
   "name": "python3"
  },
  "language_info": {
   "codemirror_mode": {
    "name": "ipython",
    "version": 3
   },
   "file_extension": ".py",
   "mimetype": "text/x-python",
   "name": "python",
   "nbconvert_exporter": "python",
   "pygments_lexer": "ipython3",
   "version": "3.10.1"
  }
 },
 "nbformat": 4,
 "nbformat_minor": 5
}
