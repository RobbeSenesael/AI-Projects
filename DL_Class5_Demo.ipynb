{
  "cells": [
    {
      "cell_type": "markdown",
      "metadata": {
        "id": "AyGKBgaOhfoM"
      },
      "source": [
        "# Class 5 - Autoencoder demo\n",
        "\n",
        "This notebook is based on  https://blog.keras.io/building-autoencoders-in-keras.html\n",
        "\n",
        "We demonstrate auto-encoders using the MNIST-dataset."
      ]
    },
    {
      "cell_type": "markdown",
      "metadata": {
        "id": "wF08jw5NnN_7"
      },
      "source": [
        "## Loading packages and reading the data"
      ]
    },
    {
      "cell_type": "markdown",
      "metadata": {
        "id": "BYW_AQBW0YTn"
      },
      "source": [
        "# 1. Reading in the images and annotations\n",
        "\n",
        "I start with defining the paths where the images and annotations can be found."
      ]
    },
    {
      "cell_type": "code",
      "execution_count": 3,
      "metadata": {
        "colab": {
          "base_uri": "https://localhost:8080/"
        },
        "id": "pHvyL2Ma0oWI",
        "outputId": "0392e45e-15d1-41c6-d784-d73b0bc0b0fb"
      },
      "outputs": [],
      "source": [
        "#from google.colab import drive\n",
        "#drive.mount('/content/drive')"
      ]
    },
    {
      "cell_type": "code",
      "execution_count": null,
      "metadata": {
        "id": "zQ_Ux1sAnWWz"
      },
      "outputs": [],
      "source": [
        "%matplotlib inline\n",
        "import numpy as np\n",
        "import pandas as pd\n",
        "import matplotlib.pyplot as plt\n",
        "\n",
        "from sklearn.model_selection import train_test_split\n",
        "from sklearn.metrics import classification_report\n",
        "from sklearn.metrics import confusion_matrix, accuracy_score\n",
        "from sklearn.preprocessing import OneHotEncoder\n",
        "from sklearn import preprocessing\n",
        "\n",
        "import matplotlib.image as mpimg\n",
        "from skimage.io import imread, imshow\n",
        "from skimage import data, color, io, filters, morphology,transform, exposure, feature, util\n",
        "from scipy import ndimage\n",
        "\n",
        "import keras\n",
        "import tensorflow as tf\n",
        "from tensorflow.python.keras.models import Model\n",
        "from tensorflow.python.keras.models import Sequential\n",
        "from tensorflow.python.keras.layers import Activation\n",
        "from tensorflow.keras.optimizers import SGD\n",
        "from tensorflow.keras.layers import Input, Dense, Dropout, Flatten, BatchNormalization\n",
        "from tensorflow.python.keras.layers import Conv2D, MaxPooling2D, UpSampling2D\n",
        "from keras.utils import np_utils\n",
        "from tensorflow.keras.preprocessing import image\n",
        "from tensorflow.python.keras import regularizers\n",
        "from keras.callbacks import EarlyStopping\n",
        "\n",
        "import cv2\n",
        "import warnings\n",
        "warnings.filterwarnings('ignore')\n",
        "\n",
        "###### Voor Tensorflow-GPU ########\n",
        "\n",
        "#config = tf.ConfigProto()\n",
        "#config.gpu_options.per_process_gpu_memory_fraction = 0.9\n",
        "#keras.backend.tensorflow_backend.set_session(tf.Session(config=config))"
      ]
    },
    {
      "cell_type": "code",
      "execution_count": null,
      "metadata": {
        "id": "okYGq67X0wOm"
      },
      "outputs": [],
      "source": [
        "train_path=  \"/train.csv\"\n",
        "test_path = \"/test.csv\""
      ]
    },
    {
      "cell_type": "code",
      "execution_count": null,
      "metadata": {
        "id": "L9MiHxrxn4ob"
      },
      "outputs": [],
      "source": [
        "#Reading in dataset\n",
        "df_train = pd.read_csv(train_path)\n",
        "df_test = pd.read_csv(test_path)\n",
        "\n",
        "X_train = df_train.drop('label',axis=1).values\n",
        "X_test  = df_test.drop('label',axis=1).values\n",
        "\n",
        "X_train = X_train.astype('float32') / 255.\n",
        "X_test = X_test.astype('float32') / 255."
      ]
    },
    {
      "cell_type": "code",
      "execution_count": null,
      "metadata": {
        "colab": {
          "base_uri": "https://localhost:8080/"
        },
        "id": "41ejkzYSoKCS",
        "outputId": "6dcf3436-c5d2-43ee-cc0d-24bbb85a65f0"
      },
      "outputs": [
        {
          "data": {
            "text/plain": [
              "(30000, 784)"
            ]
          },
          "execution_count": 5,
          "metadata": {},
          "output_type": "execute_result"
        }
      ],
      "source": [
        "X_train.shape"
      ]
    },
    {
      "cell_type": "markdown",
      "metadata": {
        "id": "wl713AdtoMru"
      },
      "source": [
        "# 1. Building autoencoder\n",
        "\n",
        "To build an autoencoder, we no longer use the sequential model, but a functional model. In a functional model, you have the flexibility to state for each layer to which layers they connect.This means a model can have multiple inputs or outputs or different models that share layers. In the end, the model it self is build by specifying the input and the output layer. "
      ]
    },
    {
      "cell_type": "code",
      "execution_count": null,
      "metadata": {
        "colab": {
          "base_uri": "https://localhost:8080/"
        },
        "id": "bUiNMM94oK5T",
        "outputId": "c7d2e437-bb9e-4a1f-97e0-0979a270616f"
      },
      "outputs": [
        {
          "name": "stdout",
          "output_type": "stream",
          "text": [
            "Model: \"model\"\n",
            "_________________________________________________________________\n",
            " Layer (type)                Output Shape              Param #   \n",
            "=================================================================\n",
            " input_1 (InputLayer)        [(None, 784)]             0         \n",
            "                                                                 \n",
            " dense (Dense)               (None, 64)                50240     \n",
            "                                                                 \n",
            " dense_1 (Dense)             (None, 784)               50960     \n",
            "                                                                 \n",
            "=================================================================\n",
            "Total params: 101,200\n",
            "Trainable params: 101,200\n",
            "Non-trainable params: 0\n",
            "_________________________________________________________________\n"
          ]
        }
      ],
      "source": [
        "from keras import layers\n",
        "# Encoder \n",
        "    ## Placeholder for input\n",
        "input_img = keras.Input(shape=(784,))\n",
        "\n",
        "    ## Dense encoder layer \n",
        "encoded = layers.Dense(64, activation='relu')(input_img)\n",
        "\n",
        "# Decoder\n",
        "    ## Dense decoder layer\n",
        "decoded = layers.Dense(784, activation='sigmoid')(encoded)\n",
        "\n",
        "# Create autoencoder: start with input layer and end with decoded layer\n",
        "autoencoder = keras.Model(input_img, decoded)\n",
        "\n",
        "\n",
        "autoencoder.summary()"
      ]
    },
    {
      "cell_type": "markdown",
      "metadata": {
        "id": "GG2YoyzboU4C"
      },
      "source": [
        "# 2. Compile and fit the model\n",
        "Notice that both the input and output data is the same when fitting the model!."
      ]
    },
    {
      "cell_type": "code",
      "execution_count": null,
      "metadata": {
        "colab": {
          "base_uri": "https://localhost:8080/"
        },
        "id": "kydN75yBoT-4",
        "outputId": "eb81910e-ffca-4deb-d7d8-c84e8ba4abf1"
      },
      "outputs": [
        {
          "name": "stdout",
          "output_type": "stream",
          "text": [
            "Epoch 1/50\n",
            "94/94 [==============================] - 4s 8ms/step - loss: 0.0883 - val_loss: 0.0522\n",
            "Epoch 2/50\n",
            "94/94 [==============================] - 0s 5ms/step - loss: 0.0427 - val_loss: 0.0358\n",
            "Epoch 3/50\n",
            "94/94 [==============================] - 0s 5ms/step - loss: 0.0318 - val_loss: 0.0287\n",
            "Epoch 4/50\n",
            "94/94 [==============================] - 0s 5ms/step - loss: 0.0261 - val_loss: 0.0241\n",
            "Epoch 5/50\n",
            "94/94 [==============================] - 0s 5ms/step - loss: 0.0222 - val_loss: 0.0208\n",
            "Epoch 6/50\n",
            "94/94 [==============================] - 1s 6ms/step - loss: 0.0193 - val_loss: 0.0183\n",
            "Epoch 7/50\n",
            "94/94 [==============================] - 0s 5ms/step - loss: 0.0169 - val_loss: 0.0161\n",
            "Epoch 8/50\n",
            "94/94 [==============================] - 0s 5ms/step - loss: 0.0150 - val_loss: 0.0144\n",
            "Epoch 9/50\n",
            "94/94 [==============================] - 1s 6ms/step - loss: 0.0134 - val_loss: 0.0129\n",
            "Epoch 10/50\n",
            "94/94 [==============================] - 0s 5ms/step - loss: 0.0121 - val_loss: 0.0117\n",
            "Epoch 11/50\n",
            "94/94 [==============================] - 0s 5ms/step - loss: 0.0110 - val_loss: 0.0107\n",
            "Epoch 12/50\n",
            "94/94 [==============================] - 0s 5ms/step - loss: 0.0101 - val_loss: 0.0099\n",
            "Epoch 13/50\n",
            "94/94 [==============================] - 1s 6ms/step - loss: 0.0093 - val_loss: 0.0092\n",
            "Epoch 14/50\n",
            "94/94 [==============================] - 1s 6ms/step - loss: 0.0086 - val_loss: 0.0085\n",
            "Epoch 15/50\n",
            "94/94 [==============================] - 0s 5ms/step - loss: 0.0081 - val_loss: 0.0080\n",
            "Epoch 16/50\n",
            "94/94 [==============================] - 0s 5ms/step - loss: 0.0076 - val_loss: 0.0075\n",
            "Epoch 17/50\n",
            "94/94 [==============================] - 0s 5ms/step - loss: 0.0072 - val_loss: 0.0071\n",
            "Epoch 18/50\n",
            "94/94 [==============================] - 0s 5ms/step - loss: 0.0068 - val_loss: 0.0068\n",
            "Epoch 19/50\n",
            "94/94 [==============================] - 0s 5ms/step - loss: 0.0065 - val_loss: 0.0065\n",
            "Epoch 20/50\n",
            "94/94 [==============================] - 0s 5ms/step - loss: 0.0062 - val_loss: 0.0063\n",
            "Epoch 21/50\n",
            "94/94 [==============================] - 1s 6ms/step - loss: 0.0060 - val_loss: 0.0060\n",
            "Epoch 22/50\n",
            "94/94 [==============================] - 1s 6ms/step - loss: 0.0058 - val_loss: 0.0058\n",
            "Epoch 23/50\n",
            "94/94 [==============================] - 0s 5ms/step - loss: 0.0056 - val_loss: 0.0056\n",
            "Epoch 24/50\n",
            "94/94 [==============================] - 0s 5ms/step - loss: 0.0054 - val_loss: 0.0055\n",
            "Epoch 25/50\n",
            "94/94 [==============================] - 0s 5ms/step - loss: 0.0053 - val_loss: 0.0054\n",
            "Epoch 26/50\n",
            "94/94 [==============================] - 1s 6ms/step - loss: 0.0052 - val_loss: 0.0053\n",
            "Epoch 27/50\n",
            "94/94 [==============================] - 1s 6ms/step - loss: 0.0051 - val_loss: 0.0052\n",
            "Epoch 28/50\n",
            "94/94 [==============================] - 1s 5ms/step - loss: 0.0050 - val_loss: 0.0051\n",
            "Epoch 29/50\n",
            "94/94 [==============================] - 0s 5ms/step - loss: 0.0049 - val_loss: 0.0050\n",
            "Epoch 30/50\n",
            "94/94 [==============================] - 0s 5ms/step - loss: 0.0048 - val_loss: 0.0049\n",
            "Epoch 31/50\n",
            "94/94 [==============================] - 0s 5ms/step - loss: 0.0047 - val_loss: 0.0049\n",
            "Epoch 32/50\n",
            "94/94 [==============================] - 0s 5ms/step - loss: 0.0047 - val_loss: 0.0048\n",
            "Epoch 33/50\n",
            "94/94 [==============================] - 0s 5ms/step - loss: 0.0046 - val_loss: 0.0048\n",
            "Epoch 34/50\n",
            "94/94 [==============================] - 0s 5ms/step - loss: 0.0046 - val_loss: 0.0047\n",
            "Epoch 35/50\n",
            "94/94 [==============================] - 0s 5ms/step - loss: 0.0045 - val_loss: 0.0047\n",
            "Epoch 36/50\n",
            "94/94 [==============================] - 0s 5ms/step - loss: 0.0045 - val_loss: 0.0046\n",
            "Epoch 37/50\n",
            "94/94 [==============================] - 0s 5ms/step - loss: 0.0045 - val_loss: 0.0046\n",
            "Epoch 38/50\n",
            "94/94 [==============================] - 1s 6ms/step - loss: 0.0044 - val_loss: 0.0046\n",
            "Epoch 39/50\n",
            "94/94 [==============================] - 1s 6ms/step - loss: 0.0044 - val_loss: 0.0045\n",
            "Epoch 40/50\n",
            "94/94 [==============================] - 0s 5ms/step - loss: 0.0044 - val_loss: 0.0045\n",
            "Epoch 41/50\n",
            "94/94 [==============================] - 0s 5ms/step - loss: 0.0043 - val_loss: 0.0045\n",
            "Epoch 42/50\n",
            "94/94 [==============================] - 0s 5ms/step - loss: 0.0043 - val_loss: 0.0045\n",
            "Epoch 43/50\n",
            "94/94 [==============================] - 0s 5ms/step - loss: 0.0043 - val_loss: 0.0045\n",
            "Epoch 44/50\n",
            "94/94 [==============================] - 0s 5ms/step - loss: 0.0043 - val_loss: 0.0044\n",
            "Epoch 45/50\n",
            "94/94 [==============================] - 1s 6ms/step - loss: 0.0042 - val_loss: 0.0044\n",
            "Epoch 46/50\n",
            "94/94 [==============================] - 0s 5ms/step - loss: 0.0042 - val_loss: 0.0044\n",
            "Epoch 47/50\n",
            "94/94 [==============================] - 1s 6ms/step - loss: 0.0042 - val_loss: 0.0044\n",
            "Epoch 48/50\n",
            "94/94 [==============================] - 0s 5ms/step - loss: 0.0042 - val_loss: 0.0044\n",
            "Epoch 49/50\n",
            "94/94 [==============================] - 0s 5ms/step - loss: 0.0042 - val_loss: 0.0043\n",
            "Epoch 50/50\n",
            "94/94 [==============================] - 1s 7ms/step - loss: 0.0042 - val_loss: 0.0043\n"
          ]
        },
        {
          "data": {
            "text/plain": [
              "<keras.callbacks.History at 0x7fa277f563d0>"
            ]
          },
          "execution_count": 7,
          "metadata": {},
          "output_type": "execute_result"
        }
      ],
      "source": [
        "# Compile auto-encoder model\n",
        "autoencoder.compile(optimizer='adam', loss='mean_squared_error')\n",
        "\n",
        "# Fit model\n",
        "epochs = 50\n",
        "batchsize = 256\n",
        "early_stopping =  EarlyStopping(patience=2)\n",
        "\n",
        "autoencoder.fit(X_train, X_train,\n",
        "                epochs=epochs,\n",
        "                batch_size=batchsize,\n",
        "                validation_split=0.2,\n",
        "               callbacks= [early_stopping])"
      ]
    },
    {
      "cell_type": "markdown",
      "metadata": {
        "id": "HwHznnfOoZkH"
      },
      "source": [
        "# 3. Reconstruct the images\n",
        "\n",
        "We predict the images:"
      ]
    },
    {
      "cell_type": "code",
      "execution_count": null,
      "metadata": {
        "id": "mboisFx4oXrn"
      },
      "outputs": [],
      "source": [
        "autoencoder_imgs = autoencoder.predict(X_test)"
      ]
    },
    {
      "cell_type": "code",
      "execution_count": null,
      "metadata": {
        "colab": {
          "base_uri": "https://localhost:8080/",
          "height": 216
        },
        "id": "01rgU8nQodiK",
        "outputId": "a838a394-7136-4abd-e08f-d4801a60fbec"
      },
      "outputs": [
        {
          "data": {
            "image/png": "[encoded data removed]",
            "text/plain": [
              "<Figure size 1440x288 with 20 Axes>"
            ]
          },
          "metadata": {
            "needs_background": "light"
          },
          "output_type": "display_data"
        }
      ],
      "source": [
        "n = 10 # aantal te tonen afbeeldingen\n",
        "plt.figure(figsize=(20, 4))\n",
        "for i in range(n):\n",
        "    # Originelen\n",
        "    ax = plt.subplot(2, n, i + 1)\n",
        "    plt.imshow(X_test[i].reshape(28, 28))\n",
        "    plt.gray()\n",
        "    ax.get_xaxis().set_visible(False)\n",
        "    ax.get_yaxis().set_visible(False)\n",
        "\n",
        "    # Reconstructies\n",
        "    ax = plt.subplot(2, n, i + 1 + n)\n",
        "    plt.imshow(autoencoder_imgs[i].reshape(28, 28))\n",
        "    plt.gray()\n",
        "    ax.get_xaxis().set_visible(False)\n",
        "    ax.get_yaxis().set_visible(False)\n",
        "plt.show()"
      ]
    },
    {
      "cell_type": "markdown",
      "metadata": {
        "id": "4iONbWBlofwW"
      },
      "source": [
        "Ok, we can see that the images are reconstructed pretty well. But what has happened? Let's take a look at the encoder and decoder results seperately.\n",
        "+ We create a seperate encoder model (starts with the input and ends at the encoder layer)"
      ]
    },
    {
      "cell_type": "code",
      "execution_count": null,
      "metadata": {
        "id": "vBlnIBpxoe2E"
      },
      "outputs": [],
      "source": [
        "encoder = Model(input_img, encoded)"
      ]
    },
    {
      "cell_type": "markdown",
      "metadata": {
        "id": "IY93nLE2omEC"
      },
      "source": [
        "+ We also create a seperate decoder model. (it starts with an input with the dimensions of the last encoder layer and ends with the decoder layer)."
      ]
    },
    {
      "cell_type": "code",
      "execution_count": null,
      "metadata": {
        "id": "8rvouF6Hojnh"
      },
      "outputs": [],
      "source": [
        "encoded_input = Input(shape=(64,))\n",
        "# Haal de laatste layer van het autoencoder model op\n",
        "decoder_layer = autoencoder.layers[-1]\n",
        "# creëer het model\n",
        "decoder = Model(encoded_input, decoder_layer(encoded_input))"
      ]
    },
    {
      "cell_type": "markdown",
      "metadata": {
        "id": "t-KdJdc2ug3S"
      },
      "source": [
        "Now, we first use the encoder to predict the output of the encoder and then use this as input in the decoder."
      ]
    },
    {
      "cell_type": "code",
      "execution_count": null,
      "metadata": {
        "id": "9lQJ4hyXooAc"
      },
      "outputs": [],
      "source": [
        "# predictie op de test images\n",
        "encoded_imgs = encoder.predict(X_test)\n",
        "decoded_imgs = decoder.predict(encoded_imgs)"
      ]
    },
    {
      "cell_type": "code",
      "execution_count": null,
      "metadata": {
        "colab": {
          "base_uri": "https://localhost:8080/"
        },
        "id": "oEDDDveUuxhl",
        "outputId": "913a1744-df1c-4a86-b008-a7d177384e1f"
      },
      "outputs": [
        {
          "data": {
            "text/plain": [
              "(12000, 784)"
            ]
          },
          "execution_count": 13,
          "metadata": {},
          "output_type": "execute_result"
        }
      ],
      "source": [
        "decoded_imgs.shape\n",
        "decoded_imgs.shape"
      ]
    },
    {
      "cell_type": "code",
      "execution_count": null,
      "metadata": {
        "colab": {
          "base_uri": "https://localhost:8080/",
          "height": 225
        },
        "id": "dtd14qEquy1H",
        "outputId": "3abbd116-d857-4bc8-dd9f-8b04d862810e"
      },
      "outputs": [
        {
          "data": {
            "image/png": "[encoded data removed]",
            "text/plain": [
              "<Figure size 1440x288 with 30 Axes>"
            ]
          },
          "metadata": {
            "needs_background": "light"
          },
          "output_type": "display_data"
        }
      ],
      "source": [
        "n = 10 # aantal te tonen afbeeldingen\n",
        "plt.figure(figsize=(20, 4))\n",
        "for i in range(n):\n",
        "    # Originals\n",
        "    ax = plt.subplot(3, n, i + 1)\n",
        "    plt.imshow(X_test[i].reshape(28, 28))\n",
        "    plt.gray()\n",
        "    ax.get_xaxis().set_visible(False)\n",
        "    ax.get_yaxis().set_visible(False)\n",
        "    \n",
        "    # Encoded\n",
        "    ax = plt.subplot(3, n, i + 1+n)\n",
        "    plt.imshow(encoded_imgs[i].reshape(8, 8))\n",
        "    plt.gray()\n",
        "    ax.get_xaxis().set_visible(False)\n",
        "    ax.get_yaxis().set_visible(False)\n",
        "\n",
        "    # Decoded reconstructions\n",
        "    ax = plt.subplot(3, n, i + 1 + 2*n)\n",
        "    plt.imshow(decoded_imgs[i].reshape(28, 28))\n",
        "    plt.gray()\n",
        "    ax.get_xaxis().set_visible(False)\n",
        "    ax.get_yaxis().set_visible(False)\n",
        "plt.show()"
      ]
    },
    {
      "cell_type": "markdown",
      "metadata": {
        "id": "VHIc0WEDu2ID"
      },
      "source": [
        "So, we can see that the images are first deconstructed to something very vague, but the model is able to reconstruct the images again from that. But, why would we want to do this? A first application is anomaly detection."
      ]
    },
    {
      "cell_type": "markdown",
      "metadata": {
        "id": "B1Zr-DtBu3x6"
      },
      "source": [
        "# 4. Anomaly detection\n",
        "## 4.1 the mnist dataset\n",
        "Say, we get an image from the fashion mmnist-dataset. And we try to use our previous model to reconstruct this image. Will this work? Let's see..."
      ]
    },
    {
      "cell_type": "code",
      "execution_count": null,
      "metadata": {
        "colab": {
          "base_uri": "https://localhost:8080/",
          "height": 314
        },
        "id": "qaw2IND2u0fj",
        "outputId": "7f201a3c-3be0-4736-b208-d926f4752511"
      },
      "outputs": [
        {
          "data": {
            "text/plain": [
              "<matplotlib.image.AxesImage at 0x7fa1fbe1bd50>"
            ]
          },
          "execution_count": 15,
          "metadata": {},
          "output_type": "execute_result"
        },
        {
          "data": {
            "image/png": "[encoded data removed]",
            "text/plain": [
              "<Figure size 432x288 with 1 Axes>"
            ]
          },
          "metadata": {
            "needs_background": "light"
          },
          "output_type": "display_data"
        }
      ],
      "source": [
        "# Using this auto-encoder to reconstruct the fashion-mnist\n",
        "mnist = pd.read_csv('/content/drive/MyDrive/Colab Notebooks/fashion-mnist_test.csv')\n",
        "mnist = mnist.drop('label',axis=1).values/255\n",
        "imshow(mnist[0].reshape(28, 28))"
      ]
    },
    {
      "cell_type": "code",
      "execution_count": null,
      "metadata": {
        "id": "JFoMX-wUvLSW"
      },
      "outputs": [],
      "source": [
        "encoded_imgs_mnist = encoder.predict(mnist)\n",
        "decoded_imgs_mnist = decoder.predict(encoded_imgs_mnist)\n",
        "autoencoder_imgs_mnist = autoencoder.predict(mnist)"
      ]
    },
    {
      "cell_type": "code",
      "execution_count": null,
      "metadata": {
        "colab": {
          "base_uri": "https://localhost:8080/",
          "height": 252
        },
        "id": "Aob--sw-vN4K",
        "outputId": "a25f7792-0028-48dc-c9c8-a7fdfbc2e957"
      },
      "outputs": [
        {
          "data": {
            "image/png": "[encoded data removed]",
            "text/plain": [
              "<Figure size 1440x288 with 2 Axes>"
            ]
          },
          "metadata": {
            "needs_background": "light"
          },
          "output_type": "display_data"
        }
      ],
      "source": [
        "n = 1 # aantal te tonen afbeeldingen\n",
        "plt.figure(figsize=(20, 4))\n",
        "for i in range(n):\n",
        "    # Originelen\n",
        "    ax = plt.subplot(2, n, i + 1)\n",
        "    plt.imshow(mnist[0].reshape(28, 28))\n",
        "    plt.gray()\n",
        "    ax.get_xaxis().set_visible(False)\n",
        "    ax.get_yaxis().set_visible(False)\n",
        "\n",
        "    # Reconstructies\n",
        "    ax = plt.subplot(2, n, i + 1 + n)\n",
        "    plt.imshow(autoencoder_imgs_mnist[0].reshape(28, 28))\n",
        "    plt.gray()\n",
        "    ax.get_xaxis().set_visible(False)\n",
        "    ax.get_yaxis().set_visible(False)\n",
        "plt.show()"
      ]
    },
    {
      "cell_type": "markdown",
      "metadata": {
        "id": "oeQ7rvvau32o"
      },
      "source": [
        "We can see this doesn't work very well. This is because the model is trained on numbers, not on clothes. You could say that the picture of the t-shirt is an anomaly: it deviates from our training dataset. So, we can use auto-encoders to do anomaly detection: if our model is not able to reconstruct the input in a satisfying way, the input can be considered as an anomaly. But how do you decide if the reconstruction is good or bad? We use the mse"
      ]
    },
    {
      "cell_type": "code",
      "execution_count": null,
      "metadata": {
        "colab": {
          "base_uri": "https://localhost:8080/"
        },
        "id": "19pwAHMKvQPn",
        "outputId": "6d0da7ab-5682-4776-8951-d14124fbc0d4"
      },
      "outputs": [
        {
          "data": {
            "text/plain": [
              "0.0043109404"
            ]
          },
          "execution_count": 18,
          "metadata": {},
          "output_type": "execute_result"
        }
      ],
      "source": [
        "from sklearn.metrics import mean_squared_error \n",
        "mean_squared_error(X_test,autoencoder_imgs)"
      ]
    },
    {
      "cell_type": "markdown",
      "metadata": {
        "id": "o0mfLQUNvTXh"
      },
      "source": [
        "The overal mse of the test set of the mnist dataset is 0.004. Now, let's see what the error is of our image from the fashion mnist is."
      ]
    },
    {
      "cell_type": "code",
      "execution_count": null,
      "metadata": {
        "colab": {
          "base_uri": "https://localhost:8080/"
        },
        "id": "JJS-PmpevRai",
        "outputId": "2c8af175-2e30-40bc-a103-bd62c62e5ecf"
      },
      "outputs": [
        {
          "data": {
            "text/plain": [
              "0.16961426813583386"
            ]
          },
          "execution_count": 19,
          "metadata": {},
          "output_type": "execute_result"
        }
      ],
      "source": [
        "mean_squared_error(mnist[0],autoencoder_imgs_mnist[0])"
      ]
    },
    {
      "cell_type": "markdown",
      "metadata": {
        "id": "TyvMKWkHvWwx"
      },
      "source": [
        "We see this is a lot higher. So to do anomaly detection, we will set a limit for the error. If the error is higher than this limit, a sample will be considered as an anomaly. We will try this on a credit card dataset."
      ]
    },
    {
      "cell_type": "markdown",
      "metadata": {
        "id": "jsd276KjvYE1"
      },
      "source": [
        "## 4.2 credit card fraud  detection\n",
        "We will use a dataset with credit card transactions over a 2-day period.  The data has been transformed using PCA transformation(s) due to privacy reasons. The two features that haven’t been changed are Time and Amount. Time contains the seconds elapsed between each transaction and the first transaction in the dataset."
      ]
    },
    {
      "cell_type": "code",
      "execution_count": null,
      "metadata": {
        "id": "ikyYDII1vbql"
      },
      "outputs": [],
      "source": [
        "df = pd.read_csv(\"/content/drive/MyDrive/Colab Notebooks/creditcard.csv\")"
      ]
    },
    {
      "cell_type": "markdown",
      "metadata": {
        "id": "Z1dwmXovAQrl"
      },
      "source": [
        "###4.2.1 Data exploration"
      ]
    },
    {
      "cell_type": "code",
      "execution_count": null,
      "metadata": {
        "colab": {
          "base_uri": "https://localhost:8080/"
        },
        "id": "yH7mjqRgAPuq",
        "outputId": "008c6891-f711-48f9-ea9e-2bea241933ec"
      },
      "outputs": [
        {
          "data": {
            "text/plain": [
              "(284807, 31)"
            ]
          },
          "execution_count": 21,
          "metadata": {},
          "output_type": "execute_result"
        }
      ],
      "source": [
        "df.shape"
      ]
    },
    {
      "cell_type": "code",
      "execution_count": null,
      "metadata": {
        "colab": {
          "base_uri": "https://localhost:8080/"
        },
        "id": "W1gY8dx5AUFe",
        "outputId": "c638de2b-e70e-4491-ae10-2e7c6564a1d1"
      },
      "outputs": [
        {
          "name": "stdout",
          "output_type": "stream",
          "text": [
            "<class 'pandas.core.frame.DataFrame'>\n",
            "RangeIndex: 284807 entries, 0 to 284806\n",
            "Data columns (total 31 columns):\n",
            " #   Column  Non-Null Count   Dtype  \n",
            "---  ------  --------------   -----  \n",
            " 0   Time    284807 non-null  float64\n",
            " 1   V1      284807 non-null  float64\n",
            " 2   V2      284807 non-null  float64\n",
            " 3   V3      284807 non-null  float64\n",
            " 4   V4      284807 non-null  float64\n",
            " 5   V5      284807 non-null  float64\n",
            " 6   V6      284807 non-null  float64\n",
            " 7   V7      284807 non-null  float64\n",
            " 8   V8      284807 non-null  float64\n",
            " 9   V9      284807 non-null  float64\n",
            " 10  V10     284807 non-null  float64\n",
            " 11  V11     284807 non-null  float64\n",
            " 12  V12     284807 non-null  float64\n",
            " 13  V13     284807 non-null  float64\n",
            " 14  V14     284807 non-null  float64\n",
            " 15  V15     284807 non-null  float64\n",
            " 16  V16     284807 non-null  float64\n",
            " 17  V17     284807 non-null  float64\n",
            " 18  V18     284807 non-null  float64\n",
            " 19  V19     284807 non-null  float64\n",
            " 20  V20     284807 non-null  float64\n",
            " 21  V21     284807 non-null  float64\n",
            " 22  V22     284807 non-null  float64\n",
            " 23  V23     284807 non-null  float64\n",
            " 24  V24     284807 non-null  float64\n",
            " 25  V25     284807 non-null  float64\n",
            " 26  V26     284807 non-null  float64\n",
            " 27  V27     284807 non-null  float64\n",
            " 28  V28     284807 non-null  float64\n",
            " 29  Amount  284807 non-null  float64\n",
            " 30  Class   284807 non-null  int64  \n",
            "dtypes: float64(30), int64(1)\n",
            "memory usage: 67.4 MB\n"
          ]
        }
      ],
      "source": [
        "df.info()"
      ]
    },
    {
      "cell_type": "markdown",
      "metadata": {
        "id": "IqWEx7NNAaHM"
      },
      "source": [
        "There is no missing data. We see there is a feature 'class'. This indicates if the transaction is fraudulent (1) or not (0)."
      ]
    },
    {
      "cell_type": "code",
      "execution_count": null,
      "metadata": {
        "colab": {
          "base_uri": "https://localhost:8080/"
        },
        "id": "V03ClJBsAUm7",
        "outputId": "f01bee7c-e996-4b17-c3ea-0453440dd34d"
      },
      "outputs": [
        {
          "data": {
            "text/plain": [
              "0    284315\n",
              "1       492\n",
              "Name: Class, dtype: int64"
            ]
          },
          "execution_count": 23,
          "metadata": {},
          "output_type": "execute_result"
        }
      ],
      "source": [
        "df['Class'].value_counts()"
      ]
    },
    {
      "cell_type": "code",
      "execution_count": null,
      "metadata": {
        "id": "K8-uA_UQAZig"
      },
      "outputs": [],
      "source": [
        "df['Class'] = df['Class'].astype('category')"
      ]
    },
    {
      "cell_type": "markdown",
      "metadata": {
        "id": "_4CXnJMgAlal"
      },
      "source": [
        "###4.2.2 Standardizing"
      ]
    },
    {
      "cell_type": "code",
      "execution_count": null,
      "metadata": {
        "id": "O9YSgNQ8Aj8h"
      },
      "outputs": [],
      "source": [
        "from sklearn.preprocessing import StandardScaler\n",
        "num_feat = df.select_dtypes(include=['int64', 'float64']).columns\n",
        "df[num_feat] = StandardScaler().fit_transform(df[num_feat])"
      ]
    },
    {
      "cell_type": "markdown",
      "metadata": {
        "id": "ybFNw3QHA45t"
      },
      "source": [
        "#4.2.3 Train/test split\n",
        "There are 284 315 non-fraudulent transactions and 492 fraudulent transactions. Any of the algorithms we have seen before would have a hard time dealing with this kind of unbalance. We can train an auto-encoder on the non-fraudulent data (and no fraudulent cases!). Then, we can detect the fraudulent cases in the test-set."
      ]
    },
    {
      "cell_type": "code",
      "execution_count": null,
      "metadata": {
        "colab": {
          "base_uri": "https://localhost:8080/"
        },
        "id": "9oblwjdjA2sD",
        "outputId": "4a522905-072a-4366-eee8-258b6d1bff08"
      },
      "outputs": [
        {
          "data": {
            "text/plain": [
              "(227468, 30)"
            ]
          },
          "execution_count": 26,
          "metadata": {},
          "output_type": "execute_result"
        }
      ],
      "source": [
        "# Split train and test data\n",
        "X_train, X_test = train_test_split(df, test_size=0.2, random_state=123)\n",
        "\n",
        "# Remove fraudulent cases from the training set and then drop the label. We do not need the label\n",
        "# because we are doing unsupervised learning\n",
        "\n",
        "X_train = X_train[X_train.Class == 0]\n",
        "X_train = X_train.drop(['Class'], axis=1)\n",
        "\n",
        "# Split the test set in features and labels. We will only use the label to evaluate our model at the end\n",
        "y_test = X_test['Class']\n",
        "X_test = X_test.drop(['Class'], axis=1)\n",
        "\n",
        "# Split the test set in a validation set and a test-set (We will need a validation set to determine the cut-off)\n",
        "X_val, X_test, y_val, y_test = train_test_split(X_test, y_test, test_size=0.4, random_state=123)\n",
        "\n",
        "\n",
        "# Put data in rigth format\n",
        "X_train = X_train.values\n",
        "X_val = X_val.values\n",
        "X_test = X_test.values\n",
        "\n",
        "X_train.shape"
      ]
    },
    {
      "cell_type": "code",
      "execution_count": null,
      "metadata": {
        "colab": {
          "base_uri": "https://localhost:8080/"
        },
        "id": "R4ZSGo89A8pD",
        "outputId": "b83130e5-0300-4f83-958f-1f285021df74"
      },
      "outputs": [
        {
          "data": {
            "text/plain": [
              "0    34111\n",
              "1       66\n",
              "Name: Class, dtype: int64"
            ]
          },
          "execution_count": 27,
          "metadata": {},
          "output_type": "execute_result"
        }
      ],
      "source": [
        "y_val.value_counts()"
      ]
    },
    {
      "cell_type": "code",
      "execution_count": null,
      "metadata": {
        "colab": {
          "base_uri": "https://localhost:8080/"
        },
        "id": "Uq-IvqVcA_JU",
        "outputId": "7d9703fd-d707-44b7-c7fb-b946ed2695da"
      },
      "outputs": [
        {
          "data": {
            "text/plain": [
              "0    22736\n",
              "1       49\n",
              "Name: Class, dtype: int64"
            ]
          },
          "execution_count": 28,
          "metadata": {},
          "output_type": "execute_result"
        }
      ],
      "source": [
        "y_test.value_counts()"
      ]
    },
    {
      "cell_type": "markdown",
      "metadata": {
        "id": "7j1g-5CDBBrN"
      },
      "source": [
        "###4.2.4 Building the autoencoder model"
      ]
    },
    {
      "cell_type": "code",
      "execution_count": null,
      "metadata": {
        "id": "NMk9zq8LBAiO"
      },
      "outputs": [],
      "source": [
        "#The number of features is the input shape\n",
        "input_dim = X_train.shape[1]     ##30\n",
        "\n",
        "#encoder model\n",
        " ##input layer\n",
        "input_layer = Input(shape=(input_dim, ))\n",
        "\n",
        " ##encoder layers\n",
        "encoder = Dense(14, activation=\"tanh\", activity_regularizer=regularizers.l1(10e-5))(input_layer)\n",
        "encoder = Dense(7, activation=\"relu\")(encoder)\n",
        "\n",
        "#decoder model\n",
        "decoder = Dense(14, activation=\"tanh\")(encoder)\n",
        "decoder = Dense(input_dim, activation=\"relu\")(decoder)\n",
        "\n",
        "#build autoencoder model\n",
        "autoencoder = Model(inputs=input_layer, outputs=decoder)"
      ]
    },
    {
      "cell_type": "markdown",
      "metadata": {
        "id": "JAEPRsk3B9eE"
      },
      "source": [
        "###4.2.5 Compiling and fitting the model"
      ]
    },
    {
      "cell_type": "code",
      "execution_count": null,
      "metadata": {
        "colab": {
          "base_uri": "https://localhost:8080/"
        },
        "id": "Iz2_4CKzBrx1",
        "outputId": "7dfd87c2-eb48-4c39-837e-aada18a3fd2b"
      },
      "outputs": [
        {
          "name": "stdout",
          "output_type": "stream",
          "text": [
            "Epoch 1/100\n",
            "5687/5687 [==============================] - 42s 7ms/step - loss: 0.7857 - accuracy: 0.4080 - val_loss: 0.6990 - val_accuracy: 0.4920\n",
            "Epoch 2/100\n",
            "5687/5687 [==============================] - 36s 6ms/step - loss: 0.7199 - accuracy: 0.5032 - val_loss: 0.6819 - val_accuracy: 0.5147\n",
            "Epoch 3/100\n",
            "5687/5687 [==============================] - 35s 6ms/step - loss: 0.7071 - accuracy: 0.5229 - val_loss: 0.6719 - val_accuracy: 0.5322\n",
            "Epoch 4/100\n",
            "5687/5687 [==============================] - 35s 6ms/step - loss: 0.6991 - accuracy: 0.5402 - val_loss: 0.6669 - val_accuracy: 0.5464\n",
            "Epoch 5/100\n",
            "5687/5687 [==============================] - 38s 7ms/step - loss: 0.6933 - accuracy: 0.5436 - val_loss: 0.6606 - val_accuracy: 0.5464\n",
            "Epoch 6/100\n",
            "5687/5687 [==============================] - 38s 7ms/step - loss: 0.6884 - accuracy: 0.5465 - val_loss: 0.6564 - val_accuracy: 0.5493\n",
            "Epoch 7/100\n",
            "5687/5687 [==============================] - 32s 6ms/step - loss: 0.6848 - accuracy: 0.5477 - val_loss: 0.6561 - val_accuracy: 0.5437\n",
            "Epoch 8/100\n",
            "5687/5687 [==============================] - 26s 5ms/step - loss: 0.6821 - accuracy: 0.5520 - val_loss: 0.6508 - val_accuracy: 0.5516\n",
            "Epoch 9/100\n",
            "5687/5687 [==============================] - 33s 6ms/step - loss: 0.6799 - accuracy: 0.5557 - val_loss: 0.6496 - val_accuracy: 0.5539\n",
            "Epoch 10/100\n",
            "5687/5687 [==============================] - 39s 7ms/step - loss: 0.6785 - accuracy: 0.5587 - val_loss: 0.6466 - val_accuracy: 0.5594\n",
            "Epoch 11/100\n",
            "5687/5687 [==============================] - 38s 7ms/step - loss: 0.6772 - accuracy: 0.5608 - val_loss: 0.6471 - val_accuracy: 0.5620\n",
            "Epoch 12/100\n",
            "5687/5687 [==============================] - 37s 6ms/step - loss: 0.6762 - accuracy: 0.5619 - val_loss: 0.6444 - val_accuracy: 0.5632\n",
            "Epoch 13/100\n",
            "5687/5687 [==============================] - 41s 7ms/step - loss: 0.6753 - accuracy: 0.5640 - val_loss: 0.6458 - val_accuracy: 0.5587\n",
            "Epoch 14/100\n",
            "5687/5687 [==============================] - 23s 4ms/step - loss: 0.6734 - accuracy: 0.5643 - val_loss: 0.6415 - val_accuracy: 0.5701\n",
            "Epoch 15/100\n",
            "5687/5687 [==============================] - 22s 4ms/step - loss: 0.6705 - accuracy: 0.5650 - val_loss: 0.6394 - val_accuracy: 0.5657\n",
            "Epoch 16/100\n",
            "5687/5687 [==============================] - 21s 4ms/step - loss: 0.6689 - accuracy: 0.5662 - val_loss: 0.6384 - val_accuracy: 0.5654\n",
            "Epoch 17/100\n",
            "5687/5687 [==============================] - 21s 4ms/step - loss: 0.6683 - accuracy: 0.5653 - val_loss: 0.6396 - val_accuracy: 0.5616\n",
            "Epoch 18/100\n",
            "5687/5687 [==============================] - 22s 4ms/step - loss: 0.6671 - accuracy: 0.5680 - val_loss: 0.6372 - val_accuracy: 0.5680\n",
            "Epoch 19/100\n",
            "5687/5687 [==============================] - 21s 4ms/step - loss: 0.6667 - accuracy: 0.5670 - val_loss: 0.6362 - val_accuracy: 0.5697\n",
            "Epoch 20/100\n",
            "5687/5687 [==============================] - 21s 4ms/step - loss: 0.6657 - accuracy: 0.5677 - val_loss: 0.6355 - val_accuracy: 0.5679\n",
            "Epoch 21/100\n",
            "5687/5687 [==============================] - 21s 4ms/step - loss: 0.6648 - accuracy: 0.5681 - val_loss: 0.6365 - val_accuracy: 0.5747\n",
            "Epoch 22/100\n",
            "5687/5687 [==============================] - 21s 4ms/step - loss: 0.6644 - accuracy: 0.5679 - val_loss: 0.6354 - val_accuracy: 0.5618\n",
            "Epoch 23/100\n",
            "5687/5687 [==============================] - 21s 4ms/step - loss: 0.6638 - accuracy: 0.5679 - val_loss: 0.6363 - val_accuracy: 0.5585\n",
            "Epoch 24/100\n",
            "5687/5687 [==============================] - 21s 4ms/step - loss: 0.6623 - accuracy: 0.5660 - val_loss: 0.6336 - val_accuracy: 0.5635\n",
            "Epoch 25/100\n",
            "5687/5687 [==============================] - 21s 4ms/step - loss: 0.6604 - accuracy: 0.5660 - val_loss: 0.6308 - val_accuracy: 0.5688\n",
            "Epoch 26/100\n",
            "5687/5687 [==============================] - 21s 4ms/step - loss: 0.6603 - accuracy: 0.5647 - val_loss: 0.6346 - val_accuracy: 0.5631\n",
            "Epoch 27/100\n",
            "5687/5687 [==============================] - 21s 4ms/step - loss: 0.6596 - accuracy: 0.5648 - val_loss: 0.6341 - val_accuracy: 0.5685\n",
            "Epoch 28/100\n",
            "5687/5687 [==============================] - 21s 4ms/step - loss: 0.6588 - accuracy: 0.5656 - val_loss: 0.6301 - val_accuracy: 0.5612\n",
            "Epoch 29/100\n",
            "5687/5687 [==============================] - 21s 4ms/step - loss: 0.6585 - accuracy: 0.5676 - val_loss: 0.6314 - val_accuracy: 0.5634\n",
            "Epoch 30/100\n",
            "5687/5687 [==============================] - 21s 4ms/step - loss: 0.6584 - accuracy: 0.5660 - val_loss: 0.6334 - val_accuracy: 0.5626\n",
            "Epoch 31/100\n",
            "5687/5687 [==============================] - 21s 4ms/step - loss: 0.6579 - accuracy: 0.5669 - val_loss: 0.6327 - val_accuracy: 0.5648\n",
            "Epoch 32/100\n",
            "5687/5687 [==============================] - 21s 4ms/step - loss: 0.6571 - accuracy: 0.5688 - val_loss: 0.6303 - val_accuracy: 0.5680\n",
            "Epoch 33/100\n",
            "5687/5687 [==============================] - 21s 4ms/step - loss: 0.6567 - accuracy: 0.5685 - val_loss: 0.6308 - val_accuracy: 0.5670\n",
            "Epoch 34/100\n",
            "5687/5687 [==============================] - 21s 4ms/step - loss: 0.6571 - accuracy: 0.5692 - val_loss: 0.6317 - val_accuracy: 0.5639\n",
            "Epoch 35/100\n",
            "5687/5687 [==============================] - 21s 4ms/step - loss: 0.6563 - accuracy: 0.5691 - val_loss: 0.6329 - val_accuracy: 0.5691\n",
            "Epoch 36/100\n",
            "5687/5687 [==============================] - 21s 4ms/step - loss: 0.6562 - accuracy: 0.5689 - val_loss: 0.6315 - val_accuracy: 0.5548\n",
            "Epoch 37/100\n",
            "5687/5687 [==============================] - 21s 4ms/step - loss: 0.6558 - accuracy: 0.5683 - val_loss: 0.6312 - val_accuracy: 0.5616\n",
            "Epoch 38/100\n",
            "5687/5687 [==============================] - 21s 4ms/step - loss: 0.6555 - accuracy: 0.5695 - val_loss: 0.6310 - val_accuracy: 0.5618\n"
          ]
        }
      ],
      "source": [
        "nb_epoch = 100\n",
        "batch_size = 32\n",
        "\n",
        "autoencoder.compile(optimizer='adam', \n",
        "                    loss='mean_squared_error', \n",
        "                    metrics=['accuracy'])\n",
        "\n",
        "early_stopping =  EarlyStopping(patience=10,  restore_best_weights=True)\n",
        "\n",
        "\n",
        "history = autoencoder.fit(X_train, X_train,\n",
        "                    epochs=nb_epoch,\n",
        "                    batch_size=batch_size,\n",
        "                    shuffle=True,\n",
        "                    validation_split=0.2,\n",
        "                    verbose=1,\n",
        "                    callbacks=[early_stopping])"
      ]
    },
    {
      "cell_type": "markdown",
      "metadata": {
        "id": "lHzxhp2wCHxv"
      },
      "source": [
        "###4.2.6 Predicting/reconstructing credit card transactions"
      ]
    },
    {
      "cell_type": "code",
      "execution_count": null,
      "metadata": {
        "id": "bZUs_G56CCIj"
      },
      "outputs": [],
      "source": [
        "predictions_train = autoencoder.predict(X_train)\n",
        "predictions_val = autoencoder.predict(X_val)\n",
        "predictions_test = autoencoder.predict(X_test)"
      ]
    },
    {
      "cell_type": "markdown",
      "metadata": {
        "id": "mcOF804pCPBv"
      },
      "source": [
        "###4.2.7 Taking a look at the MSE"
      ]
    },
    {
      "cell_type": "code",
      "execution_count": null,
      "metadata": {
        "colab": {
          "base_uri": "https://localhost:8080/"
        },
        "id": "sGMVgFBUCOSN",
        "outputId": "af9ca918-38d0-47a5-acc7-4c12d0eeb213"
      },
      "outputs": [
        {
          "name": "stdout",
          "output_type": "stream",
          "text": [
            "0.6514403689852685\n",
            "0.6684423923411903\n",
            "0.6881585595288959\n"
          ]
        }
      ],
      "source": [
        "mse_test = mean_squared_error(X_test,predictions_test)\n",
        "mse_val = mean_squared_error(X_val,predictions_val)\n",
        "mse_train = mean_squared_error(X_train,predictions_train)\n",
        "print(mse_train)\n",
        "print(mse_val)\n",
        "print(mse_test)"
      ]
    },
    {
      "cell_type": "markdown",
      "metadata": {
        "id": "2f9B25dgCVdo"
      },
      "source": [
        "Not a lot of difference, but that is not surprising, since in all three datasets most samples are non-frauduelent. Now, how do we detect the fraudulent cases? We calculate the error of each sample individually and select those that have an error higher than our limit. But, how do you set this limit? \n",
        "+ You could choose e.g the 5% highest errors. But we already know we have less than 5% fraudulent cases. So, the limit is a bit dependent on the context information or the number of anomalies you are expecting. \n",
        "+ We now only around 0.1 % of transactions are fraudulent, so I start with this limit."
      ]
    },
    {
      "cell_type": "code",
      "execution_count": null,
      "metadata": {
        "colab": {
          "base_uri": "https://localhost:8080/"
        },
        "id": "4jAVOvxdCTX7",
        "outputId": "c98e8ade-e05f-46a9-f046-b2b2bd6cebd7"
      },
      "outputs": [
        {
          "name": "stdout",
          "output_type": "stream",
          "text": [
            "27.48145180197953\n"
          ]
        }
      ],
      "source": [
        "# Calculate errors in training set\n",
        "error_train = np.mean(np.power(X_train - predictions_train, 2), axis=1) \n",
        "limit = np.percentile(error_train, 99.9)\n",
        "print(limit)"
      ]
    },
    {
      "cell_type": "code",
      "execution_count": null,
      "metadata": {
        "colab": {
          "base_uri": "https://localhost:8080/"
        },
        "id": "E3PxfYXbCZTd",
        "outputId": "c5d3d703-fe85-420f-c526-a1a11e3b7374"
      },
      "outputs": [
        {
          "data": {
            "text/plain": [
              "41"
            ]
          },
          "execution_count": 34,
          "metadata": {},
          "output_type": "execute_result"
        }
      ],
      "source": [
        "# Calculate error in validation set and compare to limit\n",
        "error_val = np.mean(np.power(X_val - predictions_val, 2), axis=1)\n",
        "fraud = error_val > limit\n",
        "fraud.sum()"
      ]
    },
    {
      "cell_type": "markdown",
      "metadata": {
        "id": "1sdPw7HpChVy"
      },
      "source": [
        "Our limit seems to be a bit to hars, but let's first dive deeper into the results."
      ]
    },
    {
      "cell_type": "code",
      "execution_count": null,
      "metadata": {
        "colab": {
          "base_uri": "https://localhost:8080/"
        },
        "id": "ar63HdvmCes3",
        "outputId": "59ea22df-3c91-43d5-d977-697c3d5d1e48"
      },
      "outputs": [
        {
          "name": "stdout",
          "output_type": "stream",
          "text": [
            "<class 'pandas.core.frame.DataFrame'>\n",
            "RangeIndex: 34177 entries, 0 to 34176\n",
            "Data columns (total 2 columns):\n",
            " #   Column  Non-Null Count  Dtype  \n",
            "---  ------  --------------  -----  \n",
            " 0   error   34177 non-null  float64\n",
            " 1   id      34177 non-null  int64  \n",
            "dtypes: float64(1), int64(1)\n",
            "memory usage: 534.1 KB\n"
          ]
        }
      ],
      "source": [
        "error_val_pd = pd.DataFrame(error_val)\n",
        "error_val_pd.columns = ['error']\n",
        "error_val_pd['id'] = range(len(error_val_pd))\n",
        "error_val_pd.info()"
      ]
    },
    {
      "cell_type": "code",
      "execution_count": null,
      "metadata": {
        "colab": {
          "base_uri": "https://localhost:8080/"
        },
        "id": "2S69zAH-Cjib",
        "outputId": "a15bf8d1-8073-488a-feea-1a04bb2f3edf"
      },
      "outputs": [
        {
          "name": "stdout",
          "output_type": "stream",
          "text": [
            "[[34084    27]\n",
            " [   52    14]]\n"
          ]
        }
      ],
      "source": [
        "from sklearn.metrics import confusion_matrix, precision_recall_curve\n",
        "\n",
        "confusion_mat = confusion_matrix(y_val, fraud)\n",
        "print(confusion_mat)"
      ]
    },
    {
      "cell_type": "code",
      "execution_count": null,
      "metadata": {
        "colab": {
          "base_uri": "https://localhost:8080/"
        },
        "id": "6_2CaxjxCmSG",
        "outputId": "eeb818f6-1392-43b4-c02a-0eaf4e8bb14f"
      },
      "outputs": [
        {
          "name": "stdout",
          "output_type": "stream",
          "text": [
            "              precision    recall  f1-score   support\n",
            "\n",
            "           0       1.00      1.00      1.00     34111\n",
            "           1       0.34      0.21      0.26        66\n",
            "\n",
            "    accuracy                           1.00     34177\n",
            "   macro avg       0.67      0.61      0.63     34177\n",
            "weighted avg       1.00      1.00      1.00     34177\n",
            "\n"
          ]
        }
      ],
      "source": [
        "from sklearn.metrics import classification_report\n",
        "print(classification_report(y_val, fraud))"
      ]
    },
    {
      "cell_type": "markdown",
      "metadata": {
        "id": "WqTvEDbICqAs"
      },
      "source": [
        "Of the true fraud cases, we only found 21%. We take a look at the (labeled) errors."
      ]
    },
    {
      "cell_type": "code",
      "execution_count": null,
      "metadata": {
        "colab": {
          "base_uri": "https://localhost:8080/",
          "height": 296
        },
        "id": "mZt1H_KECoCz",
        "outputId": "286a72b2-9336-45c2-b06f-b1429f30e495"
      },
      "outputs": [
        {
          "data": {
            "text/plain": [
              "<matplotlib.collections.LineCollection at 0x7fa1f360e190>"
            ]
          },
          "execution_count": 38,
          "metadata": {},
          "output_type": "execute_result"
        },
        {
          "data": {
            "image/png": "[encoded data removed]",
            "text/plain": [
              "<Figure size 432x288 with 1 Axes>"
            ]
          },
          "metadata": {
            "needs_background": "light"
          },
          "output_type": "display_data"
        }
      ],
      "source": [
        "import seaborn as sns\n",
        "sns.scatterplot(x=error_val_pd.id, y=error_val_pd.error, hue = np.array(y_val))\n",
        "plt.hlines(limit, 0, len(error_val), colors='r')"
      ]
    },
    {
      "cell_type": "markdown",
      "metadata": {
        "id": "OC1j_Rx8Cv43"
      },
      "source": [
        "Increasing the limit will lower the false positives (transactions that are mistakenly seen as frauduleus), but will also lower the true positives. Lowering the limit will do just the opposite. We need to find a balance between this."
      ]
    },
    {
      "cell_type": "code",
      "execution_count": null,
      "metadata": {
        "colab": {
          "base_uri": "https://localhost:8080/"
        },
        "id": "2dKx04LnCs6o",
        "outputId": "f6c7680f-5ade-47ea-9dd3-48cbff693a17"
      },
      "outputs": [
        {
          "name": "stdout",
          "output_type": "stream",
          "text": [
            "[[33289   822]\n",
            " [   11    55]]\n",
            "              precision    recall  f1-score   support\n",
            "\n",
            "           0       1.00      0.98      0.99     34111\n",
            "           1       0.06      0.83      0.12        66\n",
            "\n",
            "    accuracy                           0.98     34177\n",
            "   macro avg       0.53      0.90      0.55     34177\n",
            "weighted avg       1.00      0.98      0.99     34177\n",
            "\n"
          ]
        }
      ],
      "source": [
        "limit = np.percentile(error_train, 97.5)\n",
        "fraud2 = error_val > limit\n",
        "fraud2.sum()\n",
        "\n",
        "confusion_mat = confusion_matrix(y_val, fraud2)\n",
        "print(confusion_mat)\n",
        "\n",
        "print(classification_report(y_val, fraud2))"
      ]
    },
    {
      "cell_type": "markdown",
      "metadata": {
        "id": "sE1s4K8MC2Ms"
      },
      "source": [
        "This is a lot better. 55 of the 66 fraudulent cases are caught. However, there are also a lot of non-fraudulent cases that are classified as fraudulent (836). If you would work at a bank, you would have to consider which is worse: calling a lot of clients checking if there is something wrong while it was unnecesary or missing fraudulent cases? It really is a decision that is context-based (and subjective).\n",
        "\n",
        "We test our final model on the test set to get a reliable evaluation."
      ]
    },
    {
      "cell_type": "code",
      "execution_count": null,
      "metadata": {
        "colab": {
          "base_uri": "https://localhost:8080/"
        },
        "id": "iecSvWw4CzOp",
        "outputId": "08a15a06-1abc-498a-d2d1-cff8d3cd3256"
      },
      "outputs": [
        {
          "name": "stdout",
          "output_type": "stream",
          "text": [
            "[[22181   555]\n",
            " [    7    42]]\n",
            "              precision    recall  f1-score   support\n",
            "\n",
            "           0       1.00      0.98      0.99     22736\n",
            "           1       0.07      0.86      0.13        49\n",
            "\n",
            "    accuracy                           0.98     22785\n",
            "   macro avg       0.54      0.92      0.56     22785\n",
            "weighted avg       1.00      0.98      0.99     22785\n",
            "\n"
          ]
        }
      ],
      "source": [
        "error_test = np.mean(np.power(X_test - predictions_test, 2), axis=1)\n",
        "fraud_test = error_test > limit\n",
        "\n",
        "confusion_mat = confusion_matrix(y_test, fraud_test)\n",
        "print(confusion_mat)\n",
        "\n",
        "print(classification_report(y_test, fraud_test))"
      ]
    },
    {
      "cell_type": "markdown",
      "metadata": {
        "id": "GLQhKDLjDASz"
      },
      "source": [
        "#5 Denoising autoencoder\n",
        "Have you ever taken a picture that you loved, but the quality is just too low to be usable? Well, auto-encoders could solve your problem. You take a bunch of pictures that are of high quality, but you will purposely decrease the quality. Use the decreased quality images as input for the auto-encoder and the high-quality images as the output. Fit you model and you now have a model that can enhance images. We will try this in the mnist dataset."
      ]
    },
    {
      "cell_type": "code",
      "execution_count": null,
      "metadata": {
        "id": "mFaNeWajC5oG"
      },
      "outputs": [],
      "source": [
        "# We will not use the full dataset, to avoid very long training times\n",
        "trainingsize = 1000 \n",
        "testsize = 10    \n",
        "\n",
        "df_train = pd.read_csv('/content/drive/MyDrive/Colab Notebooks/mnist_data/train.csv')\n",
        "df_test = pd.read_csv('/content/drive/MyDrive/Colab Notebooks/mnist_data/test.csv')\n",
        "\n",
        "X_train = df_train.drop('label',axis=1).values\n",
        "X_test  = df_test.drop('label',axis=1).values\n",
        "\n",
        "X_train = X_train.astype('float32') / 255.\n",
        "X_test = X_test.astype('float32') / 255.\n",
        "\n",
        "\n",
        "X_train = X_train[:trainingsize]\n",
        "X_test = X_test[:testsize]\n",
        "\n",
        "X_train = X_train.reshape((len(X_train),28, 28,1))\n",
        "X_test = X_test.reshape((len(X_test),28, 28,1))"
      ]
    },
    {
      "cell_type": "code",
      "execution_count": null,
      "metadata": {
        "id": "ZcRPrw_GDIE_"
      },
      "outputs": [],
      "source": [
        "def pixalate_image(image, scale_percent = 30):\n",
        "    width = int(image.shape[1] * scale_percent / 100)\n",
        "    height = int(image.shape[0] * scale_percent / 100)\n",
        "    dim = (width, height)\n",
        "\n",
        "    small_image = cv2.resize(image, dim, interpolation = cv2.INTER_AREA)\n",
        "  \n",
        "    # scale back to original size\n",
        "    dim = (image.shape[1], image.shape[0])\n",
        "\n",
        "    low_res_image = cv2.resize(small_image, dim, interpolation = cv2.INTER_AREA)\n",
        "\n",
        "    return low_res_image"
      ]
    },
    {
      "cell_type": "code",
      "execution_count": null,
      "metadata": {
        "id": "xHUxTqi1DKhk"
      },
      "outputs": [],
      "source": [
        "# get low resolution images for the training set\n",
        "train_x_px = []\n",
        "\n",
        "for i in range(X_train.shape[0]):\n",
        "    temp = pixalate_image(X_train[i][:,:,:])\n",
        "    train_x_px.append(temp)\n",
        "\n",
        "train_x_px = np.array(train_x_px)\n",
        "train_x_px = train_x_px.reshape((len(train_x_px),28, 28,1))\n",
        "\n",
        "# get low resolution images for the test set\n",
        "test_x_px = []\n",
        "\n",
        "for i in range(X_test.shape[0]):\n",
        "    temp = pixalate_image(X_test[i][:,:,:])\n",
        "    test_x_px.append(temp)\n",
        "\n",
        "test_x_px = np.array(test_x_px)\n",
        "test_x_px = test_x_px.reshape((len(test_x_px),28, 28,1))"
      ]
    },
    {
      "cell_type": "code",
      "execution_count": null,
      "metadata": {
        "colab": {
          "base_uri": "https://localhost:8080/",
          "height": 216
        },
        "id": "gfyyJPzxDNc9",
        "outputId": "66a68267-5180-43b5-ca7e-832c4ac54f83"
      },
      "outputs": [
        {
          "data": {
            "image/png": "[encoded data removed]",
            "text/plain": [
              "<Figure size 1440x288 with 20 Axes>"
            ]
          },
          "metadata": {
            "needs_background": "light"
          },
          "output_type": "display_data"
        }
      ],
      "source": [
        "n = 10 # aantal te tonen afbeeldingen\n",
        "plt.figure(figsize=(20, 4))\n",
        "for i in range(n):\n",
        "    # Originals\n",
        "    ax = plt.subplot(2, n, i + 1)\n",
        "    plt.imshow(X_train[i].reshape(28, 28))\n",
        "    plt.gray()\n",
        "    ax.get_xaxis().set_visible(False)\n",
        "    ax.get_yaxis().set_visible(False)\n",
        "\n",
        "    # Decoded reconstructions\n",
        "    ax = plt.subplot(2, n, i + 1 + n)\n",
        "    plt.imshow(train_x_px[i].reshape(28,28))\n",
        "    plt.gray()\n",
        "    ax.get_xaxis().set_visible(False)\n",
        "    ax.get_yaxis().set_visible(False)\n",
        "plt.show()"
      ]
    },
    {
      "cell_type": "code",
      "execution_count": null,
      "metadata": {
        "colab": {
          "base_uri": "https://localhost:8080/"
        },
        "id": "SUal0U21DPnO",
        "outputId": "b3a725dd-0407-45db-91af-be3763ddefcb"
      },
      "outputs": [
        {
          "name": "stdout",
          "output_type": "stream",
          "text": [
            "WARNING:tensorflow:The following Variables were used in a Lambda layer's call (tf.nn.convolution), but are not present in its tracked objects:   <tf.Variable 'conv2d/kernel:0' shape=(3, 3, 1, 256) dtype=float32>. This is a strong indication that the Lambda layer should be rewritten as a subclassed Layer.\n",
            "WARNING:tensorflow:The following Variables were used in a Lambda layer's call (tf.nn.bias_add), but are not present in its tracked objects:   <tf.Variable 'conv2d/bias:0' shape=(256,) dtype=float32>. This is a strong indication that the Lambda layer should be rewritten as a subclassed Layer.\n",
            "WARNING:tensorflow:The following Variables were used in a Lambda layer's call (tf.nn.convolution_1), but are not present in its tracked objects:   <tf.Variable 'conv2d_1/kernel:0' shape=(3, 3, 256, 128) dtype=float32>. This is a strong indication that the Lambda layer should be rewritten as a subclassed Layer.\n",
            "WARNING:tensorflow:The following Variables were used in a Lambda layer's call (tf.nn.bias_add_1), but are not present in its tracked objects:   <tf.Variable 'conv2d_1/bias:0' shape=(128,) dtype=float32>. This is a strong indication that the Lambda layer should be rewritten as a subclassed Layer.\n",
            "WARNING:tensorflow:The following Variables were used in a Lambda layer's call (tf.nn.convolution_2), but are not present in its tracked objects:   <tf.Variable 'conv2d_2/kernel:0' shape=(3, 3, 128, 64) dtype=float32>. This is a strong indication that the Lambda layer should be rewritten as a subclassed Layer.\n",
            "WARNING:tensorflow:The following Variables were used in a Lambda layer's call (tf.nn.bias_add_2), but are not present in its tracked objects:   <tf.Variable 'conv2d_2/bias:0' shape=(64,) dtype=float32>. This is a strong indication that the Lambda layer should be rewritten as a subclassed Layer.\n",
            "WARNING:tensorflow:The following Variables were used in a Lambda layer's call (tf.nn.convolution_3), but are not present in its tracked objects:   <tf.Variable 'conv2d_3/kernel:0' shape=(3, 3, 64, 64) dtype=float32>. This is a strong indication that the Lambda layer should be rewritten as a subclassed Layer.\n",
            "WARNING:tensorflow:The following Variables were used in a Lambda layer's call (tf.nn.bias_add_3), but are not present in its tracked objects:   <tf.Variable 'conv2d_3/bias:0' shape=(64,) dtype=float32>. This is a strong indication that the Lambda layer should be rewritten as a subclassed Layer.\n",
            "WARNING:tensorflow:The following Variables were used in a Lambda layer's call (tf.nn.convolution_4), but are not present in its tracked objects:   <tf.Variable 'conv2d_4/kernel:0' shape=(3, 3, 64, 128) dtype=float32>. This is a strong indication that the Lambda layer should be rewritten as a subclassed Layer.\n",
            "WARNING:tensorflow:The following Variables were used in a Lambda layer's call (tf.nn.bias_add_4), but are not present in its tracked objects:   <tf.Variable 'conv2d_4/bias:0' shape=(128,) dtype=float32>. This is a strong indication that the Lambda layer should be rewritten as a subclassed Layer.\n",
            "WARNING:tensorflow:The following Variables were used in a Lambda layer's call (tf.nn.convolution_5), but are not present in its tracked objects:   <tf.Variable 'conv2d_5/kernel:0' shape=(3, 3, 128, 256) dtype=float32>. This is a strong indication that the Lambda layer should be rewritten as a subclassed Layer.\n",
            "WARNING:tensorflow:The following Variables were used in a Lambda layer's call (tf.nn.bias_add_5), but are not present in its tracked objects:   <tf.Variable 'conv2d_5/bias:0' shape=(256,) dtype=float32>. This is a strong indication that the Lambda layer should be rewritten as a subclassed Layer.\n",
            "WARNING:tensorflow:The following Variables were used in a Lambda layer's call (tf.nn.convolution_6), but are not present in its tracked objects:   <tf.Variable 'conv2d_6/kernel:0' shape=(3, 3, 256, 1) dtype=float32>. This is a strong indication that the Lambda layer should be rewritten as a subclassed Layer.\n",
            "WARNING:tensorflow:The following Variables were used in a Lambda layer's call (tf.nn.bias_add_6), but are not present in its tracked objects:   <tf.Variable 'conv2d_6/bias:0' shape=(1,) dtype=float32>. This is a strong indication that the Lambda layer should be rewritten as a subclassed Layer.\n"
          ]
        }
      ],
      "source": [
        "# Building model\n",
        "Input_img = Input(shape=(28, 28,1))  \n",
        "    \n",
        "#encoding architecture\n",
        "x1 = Conv2D(256, (3, 3), activation='relu', padding='same')(Input_img)\n",
        "x2 = Conv2D(128, (3, 3), activation='relu', padding='same')(x1)\n",
        "x2 = MaxPooling2D( (2, 2))(x2)\n",
        "encoded = Conv2D(64, (3, 3), activation='relu', padding='same')(x2)\n",
        "\n",
        "# decoding architecture\n",
        "x3 = Conv2D(64, (3, 3), activation='relu', padding='same')(encoded)\n",
        "x3 = UpSampling2D((2, 2))(x3)\n",
        "x2 = Conv2D(128, (3, 3), activation='relu', padding='same')(x3)\n",
        "x1 = Conv2D(256, (3, 3), activation='relu', padding='same')(x2)\n",
        "decoded = Conv2D(1, (3, 3), padding='same')(x1)\n",
        "\n",
        "autoencoder = Model(Input_img, decoded)"
      ]
    },
    {
      "cell_type": "code",
      "execution_count": null,
      "metadata": {
        "colab": {
          "base_uri": "https://localhost:8080/"
        },
        "id": "p2iD3uAgDSrF",
        "outputId": "e55c3d92-5528-4784-9254-34ba7380dc6e"
      },
      "outputs": [
        {
          "name": "stdout",
          "output_type": "stream",
          "text": [
            "Model: \"model_3\"\n",
            "_________________________________________________________________\n",
            "Layer (type)                 Output Shape              Param #   \n",
            "=================================================================\n",
            "Total params: 0\n",
            "Trainable params: 0\n",
            "Non-trainable params: 0\n",
            "_________________________________________________________________\n"
          ]
        }
      ],
      "source": [
        "autoencoder.summary()"
      ]
    },
    {
      "cell_type": "code",
      "execution_count": null,
      "metadata": {
        "colab": {
          "base_uri": "https://localhost:8080/"
        },
        "id": "IDgdfhLCDUEw",
        "outputId": "121dcd52-6e8a-47cf-a369-516bb76969c2"
      },
      "outputs": [
        {
          "name": "stdout",
          "output_type": "stream",
          "text": [
            "Epoch 1/50\n",
            "4/4 [==============================] - 10s 538ms/step - loss: 0.1148 - val_loss: 0.1208\n",
            "Epoch 2/50\n",
            "4/4 [==============================] - 0s 102ms/step - loss: 0.1148 - val_loss: 0.1208\n",
            "Epoch 3/50\n",
            "4/4 [==============================] - 0s 102ms/step - loss: 0.1148 - val_loss: 0.1208\n",
            "Epoch 4/50\n",
            "4/4 [==============================] - 0s 104ms/step - loss: 0.1148 - val_loss: 0.1208\n",
            "Epoch 5/50\n",
            "4/4 [==============================] - 0s 103ms/step - loss: 0.1148 - val_loss: 0.1208\n",
            "Epoch 6/50\n",
            "4/4 [==============================] - 0s 122ms/step - loss: 0.1148 - val_loss: 0.1208\n",
            "Epoch 7/50\n",
            "4/4 [==============================] - 0s 99ms/step - loss: 0.1148 - val_loss: 0.1208\n",
            "Epoch 8/50\n",
            "4/4 [==============================] - 0s 100ms/step - loss: 0.1148 - val_loss: 0.1208\n",
            "Epoch 9/50\n",
            "4/4 [==============================] - 0s 121ms/step - loss: 0.1148 - val_loss: 0.1208\n",
            "Epoch 10/50\n",
            "4/4 [==============================] - 0s 100ms/step - loss: 0.1148 - val_loss: 0.1208\n",
            "Epoch 11/50\n",
            "4/4 [==============================] - 0s 103ms/step - loss: 0.1148 - val_loss: 0.1208\n"
          ]
        }
      ],
      "source": [
        "autoencoder.compile(optimizer='adam', loss='mse')\n",
        "\n",
        "early_stopping =  EarlyStopping(patience=10,  restore_best_weights=True)\n",
        "\n",
        "\n",
        "a_e = autoencoder.fit(train_x_px, X_train,\n",
        "            epochs=50,\n",
        "            batch_size=256,\n",
        "            validation_split=0.2,\n",
        "            callbacks=[early_stopping])"
      ]
    },
    {
      "cell_type": "code",
      "execution_count": null,
      "metadata": {
        "id": "ps-ipKP8DWap"
      },
      "outputs": [],
      "source": [
        "y_restored = autoencoder.predict(test_x_px)"
      ]
    },
    {
      "cell_type": "code",
      "execution_count": null,
      "metadata": {
        "colab": {
          "base_uri": "https://localhost:8080/",
          "height": 216
        },
        "id": "y7Q2kK6_Dac1",
        "outputId": "c97f3705-47f9-4fe6-910b-6afd033ffeae"
      },
      "outputs": [
        {
          "data": {
            "image/png": "[encoded data removed]",
            "text/plain": [
              "<Figure size 1440x288 with 20 Axes>"
            ]
          },
          "metadata": {
            "needs_background": "light"
          },
          "output_type": "display_data"
        }
      ],
      "source": [
        "n = 10 # aantal te tonen afbeeldingen\n",
        "plt.figure(figsize=(20, 4))\n",
        "for i in range(n):\n",
        "    # Originals\n",
        "    ax = plt.subplot(2, n, i + 1)\n",
        "    plt.imshow(test_x_px[i].reshape(28, 28))\n",
        "    plt.gray()\n",
        "    ax.get_xaxis().set_visible(False)\n",
        "    ax.get_yaxis().set_visible(False)\n",
        "\n",
        "    # Decoded reconstructions\n",
        "    ax = plt.subplot(2, n, i + 1 + n)\n",
        "    plt.imshow(y_restored[i].reshape(28,28))\n",
        "    plt.gray()\n",
        "    ax.get_xaxis().set_visible(False)\n",
        "    ax.get_yaxis().set_visible(False)\n",
        "plt.show()"
      ]
    },
    {
      "cell_type": "code",
      "execution_count": null,
      "metadata": {
        "id": "8faKzKlMDb41"
      },
      "outputs": [],
      "source": []
    }
  ],
  "metadata": {
    "accelerator": "GPU",
    "colab": {
      "collapsed_sections": [],
      "name": "DL_Class5_Demo.ipynb",
      "provenance": []
    },
    "kernelspec": {
      "display_name": "Python 3",
      "name": "python3"
    },
    "language_info": {
      "codemirror_mode": {
        "name": "ipython",
        "version": 3
      },
      "file_extension": ".py",
      "mimetype": "text/x-python",
      "name": "python",
      "nbconvert_exporter": "python",
      "pygments_lexer": "ipython3",
      "version": "3.10.1"
    }
  },
  "nbformat": 4,
  "nbformat_minor": 0
}
