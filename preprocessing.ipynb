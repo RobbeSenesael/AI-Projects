{
 "cells": [
  {
   "cell_type": "code",
   "execution_count": 181,
   "metadata": {},
   "outputs": [],
   "source": [
    "%matplotlib inline\n",
    "import numpy as np\n",
    "import pandas as pd\n",
    "import matplotlib as mpl\n",
    "import matplotlib.pyplot as plt\n",
    "import seaborn as sns\n",
    "from sklearn.impute import SimpleImputer\n",
    "from scipy.stats import skew\n",
    "from sklearn.preprocessing import RobustScaler\n",
    "plt.style.use('seaborn-darkgrid')"
   ]
  },
  {
   "cell_type": "code",
   "execution_count": 182,
   "metadata": {},
   "outputs": [
    {
     "data": {
      "text/plain": [
       "(5000, 53)"
      ]
     },
     "execution_count": 182,
     "metadata": {},
     "output_type": "execute_result"
    }
   ],
   "source": [
    "df = pd.read_csv('datasets/train_V2.csv')\n",
    "df.shape"
   ]
  },
  {
   "cell_type": "code",
   "execution_count": 183,
   "metadata": {},
   "outputs": [
    {
     "name": "stdout",
     "output_type": "stream",
     "text": [
      "<class 'pandas.core.frame.DataFrame'>\n",
      "RangeIndex: 5000 entries, 0 to 4999\n",
      "Data columns (total 53 columns):\n",
      " #   Column                 Non-Null Count  Dtype  \n",
      "---  ------                 --------------  -----  \n",
      " 0   income_am              4947 non-null   float64\n",
      " 1   profit_last_am         4947 non-null   float64\n",
      " 2   profit_am              4947 non-null   float64\n",
      " 3   damage_am              4954 non-null   float64\n",
      " 4   damage_inc             4947 non-null   float64\n",
      " 5   crd_lim_rec            4947 non-null   float64\n",
      " 6   credit_use_ic          4947 non-null   float64\n",
      " 7   gluten_ic              4947 non-null   float64\n",
      " 8   lactose_ic             4947 non-null   float64\n",
      " 9   insurance_ic           4947 non-null   float64\n",
      " 10  spa_ic                 4970 non-null   float64\n",
      " 11  empl_ic                4999 non-null   float64\n",
      " 12  cab_requests           4912 non-null   float64\n",
      " 13  married_cd             5000 non-null   bool   \n",
      " 14  bar_no                 4947 non-null   float64\n",
      " 15  sport_ic               4947 non-null   float64\n",
      " 16  neighbor_income        4761 non-null   float64\n",
      " 17  age                    4947 non-null   float64\n",
      " 18  marketing_permit       4947 non-null   float64\n",
      " 19  urban_ic               4947 non-null   float64\n",
      " 20  dining_ic              4912 non-null   float64\n",
      " 21  presidential           4912 non-null   float64\n",
      " 22  client_segment         4947 non-null   float64\n",
      " 23  sect_empl              4947 non-null   float64\n",
      " 24  prev_stay              4947 non-null   float64\n",
      " 25  prev_all_in_stay       4947 non-null   float64\n",
      " 26  divorce                4947 non-null   float64\n",
      " 27  fam_adult_size         4947 non-null   float64\n",
      " 28  children_no            4947 non-null   float64\n",
      " 29  tenure_mts             4608 non-null   float64\n",
      " 30  tenure_yrs             4608 non-null   float64\n",
      " 31  company_ic             4947 non-null   float64\n",
      " 32  claims_no              4947 non-null   float64\n",
      " 33  claims_am              4973 non-null   float64\n",
      " 34  nights_booked          4947 non-null   float64\n",
      " 35  gender                 4947 non-null   object \n",
      " 36  shop_am                4947 non-null   float64\n",
      " 37  shop_use               4912 non-null   float64\n",
      " 38  retired                4947 non-null   float64\n",
      " 39  gold_status            4947 non-null   float64\n",
      " 40  score1_pos             1225 non-null   float64\n",
      " 41  score1_neg             1314 non-null   float64\n",
      " 42  score2_pos             1209 non-null   float64\n",
      " 43  score2_neg             1304 non-null   float64\n",
      " 44  score3_pos             1261 non-null   float64\n",
      " 45  score3_neg             1367 non-null   float64\n",
      " 46  score4_pos             1223 non-null   float64\n",
      " 47  score4_neg             1324 non-null   float64\n",
      " 48  score5_pos             1232 non-null   float64\n",
      " 49  score5_neg             1493 non-null   float64\n",
      " 50  outcome_profit         5000 non-null   float64\n",
      " 51  outcome_damage_inc     5000 non-null   int64  \n",
      " 52  outcome_damage_amount  5000 non-null   float64\n",
      "dtypes: bool(1), float64(50), int64(1), object(1)\n",
      "memory usage: 2.0+ MB\n"
     ]
    }
   ],
   "source": [
    "df.info()"
   ]
  },
  {
   "cell_type": "code",
   "execution_count": 184,
   "metadata": {},
   "outputs": [
    {
     "data": {
      "text/plain": [
       "income_am           98.94\n",
       "profit_last_am      98.94\n",
       "profit_am           98.94\n",
       "damage_am           99.08\n",
       "damage_inc          98.94\n",
       "crd_lim_rec         98.94\n",
       "credit_use_ic       98.94\n",
       "gluten_ic           98.94\n",
       "lactose_ic          98.94\n",
       "insurance_ic        98.94\n",
       "spa_ic              99.40\n",
       "empl_ic             99.98\n",
       "cab_requests        98.24\n",
       "bar_no              98.94\n",
       "sport_ic            98.94\n",
       "neighbor_income     95.22\n",
       "age                 98.94\n",
       "marketing_permit    98.94\n",
       "urban_ic            98.94\n",
       "dining_ic           98.24\n",
       "presidential        98.24\n",
       "client_segment      98.94\n",
       "sect_empl           98.94\n",
       "prev_stay           98.94\n",
       "prev_all_in_stay    98.94\n",
       "divorce             98.94\n",
       "fam_adult_size      98.94\n",
       "children_no         98.94\n",
       "tenure_mts          92.16\n",
       "tenure_yrs          92.16\n",
       "company_ic          98.94\n",
       "claims_no           98.94\n",
       "claims_am           99.46\n",
       "nights_booked       98.94\n",
       "gender              98.94\n",
       "shop_am             98.94\n",
       "shop_use            98.24\n",
       "retired             98.94\n",
       "gold_status         98.94\n",
       "score1_pos          24.50\n",
       "score1_neg          26.28\n",
       "score2_pos          24.18\n",
       "score2_neg          26.08\n",
       "score3_pos          25.22\n",
       "score3_neg          27.34\n",
       "score4_pos          24.46\n",
       "score4_neg          26.48\n",
       "score5_pos          24.64\n",
       "score5_neg          29.86\n",
       "dtype: float64"
      ]
     },
     "execution_count": 184,
     "metadata": {},
     "output_type": "execute_result"
    }
   ],
   "source": [
    "(5000-df.isnull().sum()[df.isnull().sum() != 0])/5000*100"
   ]
  },
  {
   "cell_type": "code",
   "execution_count": 185,
   "metadata": {},
   "outputs": [
    {
     "data": {
      "text/html": [
       "<div>\n",
       "<style scoped>\n",
       "    .dataframe tbody tr th:only-of-type {\n",
       "        vertical-align: middle;\n",
       "    }\n",
       "\n",
       "    .dataframe tbody tr th {\n",
       "        vertical-align: top;\n",
       "    }\n",
       "\n",
       "    .dataframe thead th {\n",
       "        text-align: right;\n",
       "    }\n",
       "</style>\n",
       "<table border=\"1\" class=\"dataframe\">\n",
       "  <thead>\n",
       "    <tr style=\"text-align: right;\">\n",
       "      <th></th>\n",
       "      <th>income_am</th>\n",
       "      <th>profit_last_am</th>\n",
       "      <th>profit_am</th>\n",
       "      <th>damage_am</th>\n",
       "      <th>damage_inc</th>\n",
       "      <th>crd_lim_rec</th>\n",
       "      <th>credit_use_ic</th>\n",
       "      <th>gluten_ic</th>\n",
       "      <th>lactose_ic</th>\n",
       "      <th>insurance_ic</th>\n",
       "      <th>spa_ic</th>\n",
       "      <th>empl_ic</th>\n",
       "      <th>cab_requests</th>\n",
       "      <th>married_cd</th>\n",
       "      <th>bar_no</th>\n",
       "    </tr>\n",
       "  </thead>\n",
       "  <tbody>\n",
       "    <tr>\n",
       "      <th>0</th>\n",
       "      <td>227.0</td>\n",
       "      <td>0.0</td>\n",
       "      <td>3201.0</td>\n",
       "      <td>888.0</td>\n",
       "      <td>6.0</td>\n",
       "      <td>15000.0</td>\n",
       "      <td>0.0</td>\n",
       "      <td>0.0</td>\n",
       "      <td>0.0</td>\n",
       "      <td>0.0</td>\n",
       "      <td>1.0</td>\n",
       "      <td>0.0</td>\n",
       "      <td>3.0</td>\n",
       "      <td>True</td>\n",
       "      <td>2.0</td>\n",
       "    </tr>\n",
       "    <tr>\n",
       "      <th>1</th>\n",
       "      <td>268.0</td>\n",
       "      <td>16.0</td>\n",
       "      <td>1682.0</td>\n",
       "      <td>0.0</td>\n",
       "      <td>0.0</td>\n",
       "      <td>750.0</td>\n",
       "      <td>0.0</td>\n",
       "      <td>0.0</td>\n",
       "      <td>0.0</td>\n",
       "      <td>1.0</td>\n",
       "      <td>1.0</td>\n",
       "      <td>0.0</td>\n",
       "      <td>7.0</td>\n",
       "      <td>True</td>\n",
       "      <td>3.0</td>\n",
       "    </tr>\n",
       "    <tr>\n",
       "      <th>2</th>\n",
       "      <td>283.0</td>\n",
       "      <td>23.0</td>\n",
       "      <td>1673.0</td>\n",
       "      <td>0.0</td>\n",
       "      <td>0.0</td>\n",
       "      <td>750.0</td>\n",
       "      <td>0.0</td>\n",
       "      <td>0.0</td>\n",
       "      <td>0.0</td>\n",
       "      <td>1.0</td>\n",
       "      <td>0.0</td>\n",
       "      <td>0.0</td>\n",
       "      <td>1.0</td>\n",
       "      <td>True</td>\n",
       "      <td>4.0</td>\n",
       "    </tr>\n",
       "    <tr>\n",
       "      <th>3</th>\n",
       "      <td>227.0</td>\n",
       "      <td>0.0</td>\n",
       "      <td>1685.0</td>\n",
       "      <td>0.0</td>\n",
       "      <td>0.0</td>\n",
       "      <td>0.0</td>\n",
       "      <td>0.0</td>\n",
       "      <td>0.0</td>\n",
       "      <td>0.0</td>\n",
       "      <td>0.0</td>\n",
       "      <td>0.0</td>\n",
       "      <td>0.0</td>\n",
       "      <td>6.0</td>\n",
       "      <td>True</td>\n",
       "      <td>8.0</td>\n",
       "    </tr>\n",
       "    <tr>\n",
       "      <th>4</th>\n",
       "      <td>4091.0</td>\n",
       "      <td>1028.0</td>\n",
       "      <td>3425.0</td>\n",
       "      <td>785.0</td>\n",
       "      <td>2.0</td>\n",
       "      <td>14000.0</td>\n",
       "      <td>0.0</td>\n",
       "      <td>0.0</td>\n",
       "      <td>1.0</td>\n",
       "      <td>0.0</td>\n",
       "      <td>1.0</td>\n",
       "      <td>0.0</td>\n",
       "      <td>4.0</td>\n",
       "      <td>False</td>\n",
       "      <td>2.0</td>\n",
       "    </tr>\n",
       "  </tbody>\n",
       "</table>\n",
       "</div>"
      ],
      "text/plain": [
       "   income_am  profit_last_am  profit_am  damage_am  damage_inc  crd_lim_rec  \\\n",
       "0      227.0             0.0     3201.0      888.0         6.0      15000.0   \n",
       "1      268.0            16.0     1682.0        0.0         0.0        750.0   \n",
       "2      283.0            23.0     1673.0        0.0         0.0        750.0   \n",
       "3      227.0             0.0     1685.0        0.0         0.0          0.0   \n",
       "4     4091.0          1028.0     3425.0      785.0         2.0      14000.0   \n",
       "\n",
       "   credit_use_ic  gluten_ic  lactose_ic  insurance_ic  spa_ic  empl_ic  \\\n",
       "0            0.0        0.0         0.0           0.0     1.0      0.0   \n",
       "1            0.0        0.0         0.0           1.0     1.0      0.0   \n",
       "2            0.0        0.0         0.0           1.0     0.0      0.0   \n",
       "3            0.0        0.0         0.0           0.0     0.0      0.0   \n",
       "4            0.0        0.0         1.0           0.0     1.0      0.0   \n",
       "\n",
       "   cab_requests  married_cd  bar_no  \n",
       "0           3.0        True     2.0  \n",
       "1           7.0        True     3.0  \n",
       "2           1.0        True     4.0  \n",
       "3           6.0        True     8.0  \n",
       "4           4.0       False     2.0  "
      ]
     },
     "execution_count": 185,
     "metadata": {},
     "output_type": "execute_result"
    }
   ],
   "source": [
    "df.iloc[:,0:15].head()"
   ]
  },
  {
   "cell_type": "code",
   "execution_count": 186,
   "metadata": {},
   "outputs": [
    {
     "data": {
      "text/html": [
       "<div>\n",
       "<style scoped>\n",
       "    .dataframe tbody tr th:only-of-type {\n",
       "        vertical-align: middle;\n",
       "    }\n",
       "\n",
       "    .dataframe tbody tr th {\n",
       "        vertical-align: top;\n",
       "    }\n",
       "\n",
       "    .dataframe thead th {\n",
       "        text-align: right;\n",
       "    }\n",
       "</style>\n",
       "<table border=\"1\" class=\"dataframe\">\n",
       "  <thead>\n",
       "    <tr style=\"text-align: right;\">\n",
       "      <th></th>\n",
       "      <th>tenure_yrs</th>\n",
       "      <th>company_ic</th>\n",
       "      <th>claims_no</th>\n",
       "      <th>claims_am</th>\n",
       "      <th>nights_booked</th>\n",
       "      <th>gender</th>\n",
       "      <th>shop_am</th>\n",
       "      <th>shop_use</th>\n",
       "      <th>retired</th>\n",
       "      <th>gold_status</th>\n",
       "      <th>score1_pos</th>\n",
       "      <th>score1_neg</th>\n",
       "      <th>score2_pos</th>\n",
       "      <th>score2_neg</th>\n",
       "      <th>score3_pos</th>\n",
       "    </tr>\n",
       "  </thead>\n",
       "  <tbody>\n",
       "    <tr>\n",
       "      <th>0</th>\n",
       "      <td>40.0</td>\n",
       "      <td>0.0</td>\n",
       "      <td>0.0</td>\n",
       "      <td>0.0</td>\n",
       "      <td>209.0</td>\n",
       "      <td>M</td>\n",
       "      <td>0.000000</td>\n",
       "      <td>0.0</td>\n",
       "      <td>0.0</td>\n",
       "      <td>0.0</td>\n",
       "      <td>0.467768</td>\n",
       "      <td>0.98334</td>\n",
       "      <td>NaN</td>\n",
       "      <td>NaN</td>\n",
       "      <td>NaN</td>\n",
       "    </tr>\n",
       "    <tr>\n",
       "      <th>1</th>\n",
       "      <td>2.0</td>\n",
       "      <td>0.0</td>\n",
       "      <td>0.0</td>\n",
       "      <td>0.0</td>\n",
       "      <td>4.0</td>\n",
       "      <td>M</td>\n",
       "      <td>0.000000</td>\n",
       "      <td>0.0</td>\n",
       "      <td>0.0</td>\n",
       "      <td>0.0</td>\n",
       "      <td>NaN</td>\n",
       "      <td>NaN</td>\n",
       "      <td>NaN</td>\n",
       "      <td>NaN</td>\n",
       "      <td>NaN</td>\n",
       "    </tr>\n",
       "    <tr>\n",
       "      <th>2</th>\n",
       "      <td>8.0</td>\n",
       "      <td>0.0</td>\n",
       "      <td>0.0</td>\n",
       "      <td>0.0</td>\n",
       "      <td>6.0</td>\n",
       "      <td>M</td>\n",
       "      <td>0.000000</td>\n",
       "      <td>0.0</td>\n",
       "      <td>0.0</td>\n",
       "      <td>0.0</td>\n",
       "      <td>NaN</td>\n",
       "      <td>NaN</td>\n",
       "      <td>0.232375</td>\n",
       "      <td>0.099529</td>\n",
       "      <td>NaN</td>\n",
       "    </tr>\n",
       "    <tr>\n",
       "      <th>3</th>\n",
       "      <td>NaN</td>\n",
       "      <td>0.0</td>\n",
       "      <td>0.0</td>\n",
       "      <td>0.0</td>\n",
       "      <td>4.0</td>\n",
       "      <td>V</td>\n",
       "      <td>0.000000</td>\n",
       "      <td>0.0</td>\n",
       "      <td>0.0</td>\n",
       "      <td>0.0</td>\n",
       "      <td>NaN</td>\n",
       "      <td>NaN</td>\n",
       "      <td>NaN</td>\n",
       "      <td>NaN</td>\n",
       "      <td>NaN</td>\n",
       "    </tr>\n",
       "    <tr>\n",
       "      <th>4</th>\n",
       "      <td>30.0</td>\n",
       "      <td>0.0</td>\n",
       "      <td>0.0</td>\n",
       "      <td>0.0</td>\n",
       "      <td>3.0</td>\n",
       "      <td>V</td>\n",
       "      <td>1454.210627</td>\n",
       "      <td>1.0</td>\n",
       "      <td>0.0</td>\n",
       "      <td>0.0</td>\n",
       "      <td>NaN</td>\n",
       "      <td>NaN</td>\n",
       "      <td>NaN</td>\n",
       "      <td>NaN</td>\n",
       "      <td>0.330503</td>\n",
       "    </tr>\n",
       "  </tbody>\n",
       "</table>\n",
       "</div>"
      ],
      "text/plain": [
       "   tenure_yrs  company_ic  claims_no  claims_am  nights_booked gender  \\\n",
       "0        40.0         0.0        0.0        0.0          209.0      M   \n",
       "1         2.0         0.0        0.0        0.0            4.0      M   \n",
       "2         8.0         0.0        0.0        0.0            6.0      M   \n",
       "3         NaN         0.0        0.0        0.0            4.0      V   \n",
       "4        30.0         0.0        0.0        0.0            3.0      V   \n",
       "\n",
       "       shop_am  shop_use  retired  gold_status  score1_pos  score1_neg  \\\n",
       "0     0.000000       0.0      0.0          0.0    0.467768     0.98334   \n",
       "1     0.000000       0.0      0.0          0.0         NaN         NaN   \n",
       "2     0.000000       0.0      0.0          0.0         NaN         NaN   \n",
       "3     0.000000       0.0      0.0          0.0         NaN         NaN   \n",
       "4  1454.210627       1.0      0.0          0.0         NaN         NaN   \n",
       "\n",
       "   score2_pos  score2_neg  score3_pos  \n",
       "0         NaN         NaN         NaN  \n",
       "1         NaN         NaN         NaN  \n",
       "2    0.232375    0.099529         NaN  \n",
       "3         NaN         NaN         NaN  \n",
       "4         NaN         NaN    0.330503  "
      ]
     },
     "execution_count": 186,
     "metadata": {},
     "output_type": "execute_result"
    }
   ],
   "source": [
    "df.iloc[:,30:45].head()"
   ]
  },
  {
   "cell_type": "code",
   "execution_count": 187,
   "metadata": {},
   "outputs": [
    {
     "data": {
      "text/html": [
       "<div>\n",
       "<style scoped>\n",
       "    .dataframe tbody tr th:only-of-type {\n",
       "        vertical-align: middle;\n",
       "    }\n",
       "\n",
       "    .dataframe tbody tr th {\n",
       "        vertical-align: top;\n",
       "    }\n",
       "\n",
       "    .dataframe thead th {\n",
       "        text-align: right;\n",
       "    }\n",
       "</style>\n",
       "<table border=\"1\" class=\"dataframe\">\n",
       "  <thead>\n",
       "    <tr style=\"text-align: right;\">\n",
       "      <th></th>\n",
       "      <th>score3_neg</th>\n",
       "      <th>score4_pos</th>\n",
       "      <th>score4_neg</th>\n",
       "      <th>score5_pos</th>\n",
       "      <th>score5_neg</th>\n",
       "      <th>outcome_profit</th>\n",
       "      <th>outcome_damage_inc</th>\n",
       "      <th>outcome_damage_amount</th>\n",
       "    </tr>\n",
       "  </thead>\n",
       "  <tbody>\n",
       "    <tr>\n",
       "      <th>0</th>\n",
       "      <td>NaN</td>\n",
       "      <td>0.838147</td>\n",
       "      <td>0.082288</td>\n",
       "      <td>NaN</td>\n",
       "      <td>NaN</td>\n",
       "      <td>1791.66</td>\n",
       "      <td>0</td>\n",
       "      <td>0.00</td>\n",
       "    </tr>\n",
       "    <tr>\n",
       "      <th>1</th>\n",
       "      <td>NaN</td>\n",
       "      <td>NaN</td>\n",
       "      <td>NaN</td>\n",
       "      <td>NaN</td>\n",
       "      <td>7.955259</td>\n",
       "      <td>1672.78</td>\n",
       "      <td>1</td>\n",
       "      <td>829.66</td>\n",
       "    </tr>\n",
       "    <tr>\n",
       "      <th>2</th>\n",
       "      <td>NaN</td>\n",
       "      <td>NaN</td>\n",
       "      <td>NaN</td>\n",
       "      <td>0.101955</td>\n",
       "      <td>1.743020</td>\n",
       "      <td>1001.40</td>\n",
       "      <td>0</td>\n",
       "      <td>0.00</td>\n",
       "    </tr>\n",
       "    <tr>\n",
       "      <th>3</th>\n",
       "      <td>0.889793</td>\n",
       "      <td>NaN</td>\n",
       "      <td>NaN</td>\n",
       "      <td>NaN</td>\n",
       "      <td>NaN</td>\n",
       "      <td>1785.59</td>\n",
       "      <td>0</td>\n",
       "      <td>0.00</td>\n",
       "    </tr>\n",
       "    <tr>\n",
       "      <th>4</th>\n",
       "      <td>0.766294</td>\n",
       "      <td>0.490486</td>\n",
       "      <td>0.542445</td>\n",
       "      <td>NaN</td>\n",
       "      <td>NaN</td>\n",
       "      <td>3140.74</td>\n",
       "      <td>0</td>\n",
       "      <td>0.00</td>\n",
       "    </tr>\n",
       "  </tbody>\n",
       "</table>\n",
       "</div>"
      ],
      "text/plain": [
       "   score3_neg  score4_pos  score4_neg  score5_pos  score5_neg  outcome_profit  \\\n",
       "0         NaN    0.838147    0.082288         NaN         NaN         1791.66   \n",
       "1         NaN         NaN         NaN         NaN    7.955259         1672.78   \n",
       "2         NaN         NaN         NaN    0.101955    1.743020         1001.40   \n",
       "3    0.889793         NaN         NaN         NaN         NaN         1785.59   \n",
       "4    0.766294    0.490486    0.542445         NaN         NaN         3140.74   \n",
       "\n",
       "   outcome_damage_inc  outcome_damage_amount  \n",
       "0                   0                   0.00  \n",
       "1                   1                 829.66  \n",
       "2                   0                   0.00  \n",
       "3                   0                   0.00  \n",
       "4                   0                   0.00  "
      ]
     },
     "execution_count": 187,
     "metadata": {},
     "output_type": "execute_result"
    }
   ],
   "source": [
    "df.iloc[:,45:55].head()"
   ]
  },
  {
   "cell_type": "code",
   "execution_count": 188,
   "metadata": {},
   "outputs": [],
   "source": [
    "df_converted = df.copy().drop_duplicates()"
   ]
  },
  {
   "cell_type": "code",
   "execution_count": 189,
   "metadata": {},
   "outputs": [],
   "source": [
    "# , marketing_permit, urban_ic, dining_ic, presidential, prev_stay, prev_all_in_stay, divorce, company_ic, shop_use, retired, gold_status*\n",
    "cols_to_category = [\"married_cd\", \"credit_use_ic\", \"gluten_ic\", \n",
    "\"lactose_ic\", \"insurance_ic\", \"spa_ic\", \"empl_ic\", \"sport_ic\",\n",
    "\"marketing_permit\", \"urban_ic\", \"dining_ic\", \"presidential\", \"prev_stay\",\n",
    " \"prev_all_in_stay\", \"divorce\", \"company_ic\", \"shop_use\", \"retired\", \"gold_status\"]\n",
    "\n",
    "df_converted[\"married_cd\"] = df_converted[\"married_cd\"]*1\n",
    "\n",
    "new_names = {}\n",
    "\n",
    "for col in cols_to_category:\n",
    "  df_converted[col] = df_converted[col].astype(\"category\")\n",
    "\n",
    "  if \"_ic\" not in col:\n",
    "    new_name = f\"{col}_ic\"\n",
    "    new_names[col] = new_name\n",
    "\n",
    "df_converted = df_converted.rename(columns=new_names)"
   ]
  },
  {
   "cell_type": "code",
   "execution_count": 190,
   "metadata": {},
   "outputs": [],
   "source": [
    "df_converted[\"shop_am\"] = df_converted[\"shop_am\"].fillna(0)\n",
    "df_converted.loc[(df_converted[\"shop_use_ic\"] == 1 ) & (df_converted[\"shop_am\"] == 0), \"shop_use_ic\"] = 0"
   ]
  },
  {
   "cell_type": "code",
   "execution_count": 191,
   "metadata": {},
   "outputs": [],
   "source": [
    "to_normal_ints = ['damage_inc', 'cab_requests', 'bar_no' ,'age' , 'sect_empl', 'fam_adult_size',\n",
    "                  'children_no', 'tenure_mts' , 'tenure_yrs', 'claims_no', 'nights_booked'] \n",
    "\n",
    "for col in to_normal_ints:\n",
    "  df_converted[col] = df_converted[col].fillna(df_converted[col].median())\n",
    "  df_converted[col] = df_converted[col].astype('int')"
   ]
  },
  {
   "cell_type": "code",
   "execution_count": 192,
   "metadata": {},
   "outputs": [
    {
     "name": "stdout",
     "output_type": "stream",
     "text": [
      "<class 'pandas.core.frame.DataFrame'>\n",
      "Int64Index: 5000 entries, 0 to 4999\n",
      "Data columns (total 53 columns):\n",
      " #   Column                 Non-Null Count  Dtype   \n",
      "---  ------                 --------------  -----   \n",
      " 0   income_am              4947 non-null   float64 \n",
      " 1   profit_last_am         4947 non-null   float64 \n",
      " 2   profit_am              4947 non-null   float64 \n",
      " 3   damage_am              4954 non-null   float64 \n",
      " 4   damage_inc             5000 non-null   int32   \n",
      " 5   crd_lim_rec            4947 non-null   float64 \n",
      " 6   credit_use_ic          4947 non-null   category\n",
      " 7   gluten_ic              4947 non-null   category\n",
      " 8   lactose_ic             4947 non-null   category\n",
      " 9   insurance_ic           4947 non-null   category\n",
      " 10  spa_ic                 4970 non-null   category\n",
      " 11  empl_ic                4999 non-null   category\n",
      " 12  cab_requests           5000 non-null   int32   \n",
      " 13  married_cd_ic          5000 non-null   category\n",
      " 14  bar_no                 5000 non-null   int32   \n",
      " 15  sport_ic               4947 non-null   category\n",
      " 16  neighbor_income        4761 non-null   float64 \n",
      " 17  age                    5000 non-null   int32   \n",
      " 18  marketing_permit_ic    4947 non-null   category\n",
      " 19  urban_ic               4947 non-null   category\n",
      " 20  dining_ic              4912 non-null   category\n",
      " 21  presidential_ic        4912 non-null   category\n",
      " 22  client_segment         4947 non-null   float64 \n",
      " 23  sect_empl              5000 non-null   int32   \n",
      " 24  prev_stay_ic           4947 non-null   category\n",
      " 25  prev_all_in_stay_ic    4947 non-null   category\n",
      " 26  divorce_ic             4947 non-null   category\n",
      " 27  fam_adult_size         5000 non-null   int32   \n",
      " 28  children_no            5000 non-null   int32   \n",
      " 29  tenure_mts             5000 non-null   int32   \n",
      " 30  tenure_yrs             5000 non-null   int32   \n",
      " 31  company_ic             4947 non-null   category\n",
      " 32  claims_no              5000 non-null   int32   \n",
      " 33  claims_am              4973 non-null   float64 \n",
      " 34  nights_booked          5000 non-null   int32   \n",
      " 35  gender                 4947 non-null   object  \n",
      " 36  shop_am                5000 non-null   float64 \n",
      " 37  shop_use_ic            4912 non-null   category\n",
      " 38  retired_ic             4947 non-null   category\n",
      " 39  gold_status_ic         4947 non-null   category\n",
      " 40  score1_pos             1225 non-null   float64 \n",
      " 41  score1_neg             1314 non-null   float64 \n",
      " 42  score2_pos             1209 non-null   float64 \n",
      " 43  score2_neg             1304 non-null   float64 \n",
      " 44  score3_pos             1261 non-null   float64 \n",
      " 45  score3_neg             1367 non-null   float64 \n",
      " 46  score4_pos             1223 non-null   float64 \n",
      " 47  score4_neg             1324 non-null   float64 \n",
      " 48  score5_pos             1232 non-null   float64 \n",
      " 49  score5_neg             1493 non-null   float64 \n",
      " 50  outcome_profit         5000 non-null   float64 \n",
      " 51  outcome_damage_inc     5000 non-null   int64   \n",
      " 52  outcome_damage_amount  5000 non-null   float64 \n",
      "dtypes: category(19), float64(21), int32(11), int64(1), object(1)\n",
      "memory usage: 1.2+ MB\n"
     ]
    }
   ],
   "source": [
    "df_converted.info()"
   ]
  },
  {
   "cell_type": "code",
   "execution_count": 193,
   "metadata": {},
   "outputs": [],
   "source": [
    "categoricals = ['gender', 'credit_use_ic',  'insurance_ic', \n",
    "           'spa_ic',  'married_cd_ic', 'sport_ic', 'marketing_permit_ic',\n",
    "           'urban_ic', 'dining_ic','presidential_ic', 'prev_stay_ic', 'prev_all_in_stay_ic',\n",
    "          'company_ic','shop_use_ic','retired_ic','gold_status_ic']\n",
    "\n",
    "for col in categoricals:\n",
    "  df_converted[col] = df_converted[col].replace(0.0, \"False\")\n",
    "  df_converted[col] = df_converted[col].replace(1.0, \"True\")"
   ]
  },
  {
   "cell_type": "code",
   "execution_count": 194,
   "metadata": {},
   "outputs": [
    {
     "data": {
      "image/png": "[encoded data removed]",
      "text/plain": [
       "<Figure size 432x288 with 1 Axes>"
      ]
     },
     "metadata": {},
     "output_type": "display_data"
    },
    {
     "data": {
      "image/png": "[encoded data removed]",
      "text/plain": [
       "<Figure size 432x288 with 1 Axes>"
      ]
     },
     "metadata": {},
     "output_type": "display_data"
    },
    {
     "data": {
      "image/png": "[encoded data removed]",
      "text/plain": [
       "<Figure size 432x288 with 1 Axes>"
      ]
     },
     "metadata": {},
     "output_type": "display_data"
    },
    {
     "data": {
      "image/png": "[encoded data removed]",
      "text/plain": [
       "<Figure size 432x288 with 1 Axes>"
      ]
     },
     "metadata": {},
     "output_type": "display_data"
    },
    {
     "data": {
      "image/png": "[encoded data removed]",
      "text/plain": [
       "<Figure size 432x288 with 1 Axes>"
      ]
     },
     "metadata": {},
     "output_type": "display_data"
    },
    {
     "data": {
      "image/png": "[encoded data removed]",
      "text/plain": [
       "<Figure size 432x288 with 1 Axes>"
      ]
     },
     "metadata": {},
     "output_type": "display_data"
    },
    {
     "data": {
      "image/png": "[encoded data removed]",
      "text/plain": [
       "<Figure size 432x288 with 1 Axes>"
      ]
     },
     "metadata": {},
     "output_type": "display_data"
    },
    {
     "data": {
      "image/png": "[encoded data removed]",
      "text/plain": [
       "<Figure size 432x288 with 1 Axes>"
      ]
     },
     "metadata": {},
     "output_type": "display_data"
    },
    {
     "data": {
      "image/png": "[encoded data removed]",
      "text/plain": [
       "<Figure size 432x288 with 1 Axes>"
      ]
     },
     "metadata": {},
     "output_type": "display_data"
    },
    {
     "data": {
      "image/png": "[encoded data removed]",
      "text/plain": [
       "<Figure size 432x288 with 1 Axes>"
      ]
     },
     "metadata": {},
     "output_type": "display_data"
    },
    {
     "data": {
      "image/png": "[encoded data removed]",
      "text/plain": [
       "<Figure size 432x288 with 1 Axes>"
      ]
     },
     "metadata": {},
     "output_type": "display_data"
    },
    {
     "data": {
      "image/png": "[encoded data removed]",
      "text/plain": [
       "<Figure size 432x288 with 1 Axes>"
      ]
     },
     "metadata": {},
     "output_type": "display_data"
    },
    {
     "data": {
      "image/png": "[encoded data removed]",
      "text/plain": [
       "<Figure size 432x288 with 1 Axes>"
      ]
     },
     "metadata": {},
     "output_type": "display_data"
    },
    {
     "data": {
      "image/png": "[encoded data removed]",
      "text/plain": [
       "<Figure size 432x288 with 1 Axes>"
      ]
     },
     "metadata": {},
     "output_type": "display_data"
    },
    {
     "data": {
      "image/png": "[encoded data removed]",
      "text/plain": [
       "<Figure size 432x288 with 1 Axes>"
      ]
     },
     "metadata": {},
     "output_type": "display_data"
    },
    {
     "data": {
      "image/png": "[encoded data removed]",
      "text/plain": [
       "<Figure size 432x288 with 1 Axes>"
      ]
     },
     "metadata": {},
     "output_type": "display_data"
    }
   ],
   "source": [
    "for i in categoricals: \n",
    "    sns.countplot(y=df_converted[i])\n",
    "    plt.show()"
   ]
  },
  {
   "cell_type": "markdown",
   "metadata": {},
   "source": [
    "###scores gedropt waarom:\n",
    "-Tenure_mth bestaat in de dataset & tenure_yrs is niet nauwkeurig, dus tenure_yrs wordt gedropped\n",
    "\n",
    "-gluten_ic & lactose_ic hebben weinig invloed op het koopgedrag van de klant\n",
    "\n",
    "-divorce_ic heeft enkel een negatieve correlatie met het feit ofdat een klant aldaniet getrouwd dus weinig nut om te houden omdat het geen andere features beinvloed\n",
    "\n",
    "-de positieve & negatieve scores van de staff hebben geen invloed op de outcome_damage, outcome_profit & outcome_damage_inc dus worden ook gedropt"
   ]
  },
  {
   "cell_type": "code",
   "execution_count": 195,
   "metadata": {},
   "outputs": [
    {
     "name": "stderr",
     "output_type": "stream",
     "text": [
      "C:\\Users\\robbe\\AppData\\Local\\Temp/ipykernel_17344/2250700739.py:1: FutureWarning: In a future version of pandas all arguments of DataFrame.drop except for the argument 'labels' will be keyword-only\n",
      "  df_converted = df_converted.drop(['tenure_yrs', 'gluten_ic', 'lactose_ic','empl_ic', \"divorce_ic\",'score1_pos','score1_neg','score2_pos','score2_neg','score3_pos','score3_neg','score4_pos','score4_neg','score5_pos','score5_neg'],1)\n"
     ]
    }
   ],
   "source": [
    "df_converted = df_converted.drop(['tenure_yrs', 'gluten_ic', 'lactose_ic','empl_ic', \"divorce_ic\",'score1_pos','score1_neg','score2_pos','score2_neg','score3_pos','score3_neg','score4_pos','score4_neg','score5_pos','score5_neg'],1)"
   ]
  },
  {
   "cell_type": "code",
   "execution_count": 196,
   "metadata": {},
   "outputs": [
    {
     "data": {
      "text/plain": [
       "income_am               53\n",
       "profit_last_am          53\n",
       "profit_am               53\n",
       "damage_am               46\n",
       "crd_lim_rec             53\n",
       "credit_use_ic           53\n",
       "insurance_ic            53\n",
       "spa_ic                  30\n",
       "sport_ic                53\n",
       "neighbor_income        239\n",
       "marketing_permit_ic     53\n",
       "urban_ic                53\n",
       "dining_ic               88\n",
       "presidential_ic         88\n",
       "client_segment          53\n",
       "prev_stay_ic            53\n",
       "prev_all_in_stay_ic     53\n",
       "company_ic              53\n",
       "claims_am               27\n",
       "gender                  53\n",
       "shop_use_ic             88\n",
       "retired_ic              53\n",
       "gold_status_ic          53\n",
       "dtype: int64"
      ]
     },
     "execution_count": 196,
     "metadata": {},
     "output_type": "execute_result"
    }
   ],
   "source": [
    "df_converted.isnull().sum()[df_converted.isnull().sum()!=0]"
   ]
  },
  {
   "cell_type": "code",
   "execution_count": 197,
   "metadata": {},
   "outputs": [],
   "source": [
    "df_imputed = df_converted.copy()"
   ]
  },
  {
   "cell_type": "code",
   "execution_count": 198,
   "metadata": {},
   "outputs": [],
   "source": [
    "for col in categoricals:\n",
    "    df_imputed[col] = df_imputed[col].astype('category')\n",
    "    df_imputed[col] = df_imputed[col].cat.add_categories('Undefined')\n",
    "    df_imputed[col] = df_imputed[col].fillna('Undefined')\n",
    "    df_imputed[col] = df_imputed[col].astype('object')"
   ]
  },
  {
   "cell_type": "code",
   "execution_count": 199,
   "metadata": {},
   "outputs": [
    {
     "name": "stderr",
     "output_type": "stream",
     "text": [
      "C:\\Users\\robbe\\AppData\\Local\\Programs\\Python\\Python310\\lib\\site-packages\\sklearn\\base.py:450: UserWarning: X does not have valid feature names, but SimpleImputer was fitted with feature names\n",
      "  warnings.warn(\n"
     ]
    }
   ],
   "source": [
    "num_feat = df_imputed.select_dtypes(include=['int64', 'float64']).columns\n",
    "mean_imputer = SimpleImputer(missing_values=np.nan, strategy='mean')\n",
    "mean_imputer = mean_imputer.fit(df_imputed[num_feat])\n",
    "df_imputed[num_feat] = mean_imputer.transform(df_imputed[num_feat].values)"
   ]
  },
  {
   "cell_type": "code",
   "execution_count": 200,
   "metadata": {},
   "outputs": [
    {
     "data": {
      "text/plain": [
       "Series([], dtype: int64)"
      ]
     },
     "execution_count": 200,
     "metadata": {},
     "output_type": "execute_result"
    }
   ],
   "source": [
    "df_imputed.isnull().sum()[df_imputed.isnull().sum()!=0]"
   ]
  },
  {
   "cell_type": "code",
   "execution_count": 201,
   "metadata": {},
   "outputs": [],
   "source": [
    "df_dummy_var = df_imputed.copy()\n",
    "for col in df_dummy_var:\n",
    "    if df_dummy_var[col].dtype ==  'object':\n",
    "        dummies = pd.get_dummies(df_dummy_var[col], dummy_na=False, prefix=col)  \n",
    "        df_dummy_var = pd.concat([df_dummy_var, dummies],axis=1)                   \n",
    "        df_dummy_var.drop(columns=[col], inplace=True)  "
   ]
  },
  {
   "cell_type": "code",
   "execution_count": 202,
   "metadata": {},
   "outputs": [
    {
     "name": "stdout",
     "output_type": "stream",
     "text": [
      "<class 'pandas.core.frame.DataFrame'>\n",
      "Int64Index: 5000 entries, 0 to 4999\n",
      "Data columns (total 69 columns):\n",
      " #   Column                         Non-Null Count  Dtype  \n",
      "---  ------                         --------------  -----  \n",
      " 0   income_am                      5000 non-null   float64\n",
      " 1   profit_last_am                 5000 non-null   float64\n",
      " 2   profit_am                      5000 non-null   float64\n",
      " 3   damage_am                      5000 non-null   float64\n",
      " 4   damage_inc                     5000 non-null   int32  \n",
      " 5   crd_lim_rec                    5000 non-null   float64\n",
      " 6   cab_requests                   5000 non-null   int32  \n",
      " 7   bar_no                         5000 non-null   int32  \n",
      " 8   neighbor_income                5000 non-null   float64\n",
      " 9   age                            5000 non-null   int32  \n",
      " 10  client_segment                 5000 non-null   float64\n",
      " 11  sect_empl                      5000 non-null   int32  \n",
      " 12  fam_adult_size                 5000 non-null   int32  \n",
      " 13  children_no                    5000 non-null   int32  \n",
      " 14  tenure_mts                     5000 non-null   int32  \n",
      " 15  claims_no                      5000 non-null   int32  \n",
      " 16  claims_am                      5000 non-null   float64\n",
      " 17  nights_booked                  5000 non-null   int32  \n",
      " 18  shop_am                        5000 non-null   float64\n",
      " 19  outcome_profit                 5000 non-null   float64\n",
      " 20  outcome_damage_inc             5000 non-null   float64\n",
      " 21  outcome_damage_amount          5000 non-null   float64\n",
      " 22  credit_use_ic_False            5000 non-null   uint8  \n",
      " 23  credit_use_ic_True             5000 non-null   uint8  \n",
      " 24  credit_use_ic_Undefined        5000 non-null   uint8  \n",
      " 25  insurance_ic_False             5000 non-null   uint8  \n",
      " 26  insurance_ic_True              5000 non-null   uint8  \n",
      " 27  insurance_ic_Undefined         5000 non-null   uint8  \n",
      " 28  spa_ic_False                   5000 non-null   uint8  \n",
      " 29  spa_ic_True                    5000 non-null   uint8  \n",
      " 30  spa_ic_Undefined               5000 non-null   uint8  \n",
      " 31  married_cd_ic_False            5000 non-null   uint8  \n",
      " 32  married_cd_ic_True             5000 non-null   uint8  \n",
      " 33  sport_ic_False                 5000 non-null   uint8  \n",
      " 34  sport_ic_True                  5000 non-null   uint8  \n",
      " 35  sport_ic_Undefined             5000 non-null   uint8  \n",
      " 36  marketing_permit_ic_False      5000 non-null   uint8  \n",
      " 37  marketing_permit_ic_True       5000 non-null   uint8  \n",
      " 38  marketing_permit_ic_Undefined  5000 non-null   uint8  \n",
      " 39  urban_ic_False                 5000 non-null   uint8  \n",
      " 40  urban_ic_True                  5000 non-null   uint8  \n",
      " 41  urban_ic_Undefined             5000 non-null   uint8  \n",
      " 42  dining_ic_False                5000 non-null   uint8  \n",
      " 43  dining_ic_True                 5000 non-null   uint8  \n",
      " 44  dining_ic_Undefined            5000 non-null   uint8  \n",
      " 45  presidential_ic_False          5000 non-null   uint8  \n",
      " 46  presidential_ic_True           5000 non-null   uint8  \n",
      " 47  presidential_ic_Undefined      5000 non-null   uint8  \n",
      " 48  prev_stay_ic_False             5000 non-null   uint8  \n",
      " 49  prev_stay_ic_True              5000 non-null   uint8  \n",
      " 50  prev_stay_ic_Undefined         5000 non-null   uint8  \n",
      " 51  prev_all_in_stay_ic_False      5000 non-null   uint8  \n",
      " 52  prev_all_in_stay_ic_True       5000 non-null   uint8  \n",
      " 53  prev_all_in_stay_ic_Undefined  5000 non-null   uint8  \n",
      " 54  company_ic_False               5000 non-null   uint8  \n",
      " 55  company_ic_True                5000 non-null   uint8  \n",
      " 56  company_ic_Undefined           5000 non-null   uint8  \n",
      " 57  gender_M                       5000 non-null   uint8  \n",
      " 58  gender_Undefined               5000 non-null   uint8  \n",
      " 59  gender_V                       5000 non-null   uint8  \n",
      " 60  shop_use_ic_False              5000 non-null   uint8  \n",
      " 61  shop_use_ic_True               5000 non-null   uint8  \n",
      " 62  shop_use_ic_Undefined          5000 non-null   uint8  \n",
      " 63  retired_ic_False               5000 non-null   uint8  \n",
      " 64  retired_ic_True                5000 non-null   uint8  \n",
      " 65  retired_ic_Undefined           5000 non-null   uint8  \n",
      " 66  gold_status_ic_False           5000 non-null   uint8  \n",
      " 67  gold_status_ic_True            5000 non-null   uint8  \n",
      " 68  gold_status_ic_Undefined       5000 non-null   uint8  \n",
      "dtypes: float64(12), int32(10), uint8(47)\n",
      "memory usage: 1.0 MB\n"
     ]
    }
   ],
   "source": [
    "df_dummy_var.info()"
   ]
  },
  {
   "cell_type": "code",
   "execution_count": 203,
   "metadata": {},
   "outputs": [
    {
     "data": {
      "text/plain": [
       "array([[<AxesSubplot:title={'center':'income_am'}>,\n",
       "        <AxesSubplot:title={'center':'profit_last_am'}>,\n",
       "        <AxesSubplot:title={'center':'profit_am'}>],\n",
       "       [<AxesSubplot:title={'center':'damage_am'}>,\n",
       "        <AxesSubplot:title={'center':'crd_lim_rec'}>,\n",
       "        <AxesSubplot:title={'center':'neighbor_income'}>],\n",
       "       [<AxesSubplot:title={'center':'client_segment'}>,\n",
       "        <AxesSubplot:title={'center':'claims_am'}>,\n",
       "        <AxesSubplot:title={'center':'shop_am'}>],\n",
       "       [<AxesSubplot:title={'center':'outcome_profit'}>,\n",
       "        <AxesSubplot:title={'center':'outcome_damage_amount'}>,\n",
       "        <AxesSubplot:>]], dtype=object)"
      ]
     },
     "execution_count": 203,
     "metadata": {},
     "output_type": "execute_result"
    },
    {
     "data": {
      "image/png": "[encoded data removed]",
      "text/plain": [
       "<Figure size 864x1008 with 12 Axes>"
      ]
     },
     "metadata": {},
     "output_type": "display_data"
    }
   ],
   "source": [
    "df_transformed = df_dummy_var.copy()\n",
    "\n",
    "num = df_transformed.select_dtypes(include=['int64', 'float64']).columns\n",
    "num = num.drop(['outcome_damage_inc'],1)\n",
    "df_transformed[num].hist( figsize = (12,14))"
   ]
  },
  {
   "cell_type": "code",
   "execution_count": 204,
   "metadata": {},
   "outputs": [
    {
     "data": {
      "text/plain": [
       "array([[<AxesSubplot:title={'center':'income_am'}>,\n",
       "        <AxesSubplot:title={'center':'profit_last_am'}>,\n",
       "        <AxesSubplot:title={'center':'profit_am'}>],\n",
       "       [<AxesSubplot:title={'center':'damage_am'}>,\n",
       "        <AxesSubplot:title={'center':'crd_lim_rec'}>,\n",
       "        <AxesSubplot:title={'center':'neighbor_income'}>],\n",
       "       [<AxesSubplot:title={'center':'client_segment'}>,\n",
       "        <AxesSubplot:title={'center':'claims_am'}>,\n",
       "        <AxesSubplot:title={'center':'shop_am'}>],\n",
       "       [<AxesSubplot:title={'center':'outcome_profit'}>,\n",
       "        <AxesSubplot:title={'center':'outcome_damage_amount'}>,\n",
       "        <AxesSubplot:>]], dtype=object)"
      ]
     },
     "execution_count": 204,
     "metadata": {},
     "output_type": "execute_result"
    },
    {
     "data": {
      "image/png": "[encoded data removed]",
      "text/plain": [
       "<Figure size 864x864 with 12 Axes>"
      ]
     },
     "metadata": {},
     "output_type": "display_data"
    }
   ],
   "source": [
    "skewed = df_transformed[num].apply(lambda x: skew(x.dropna().astype(float)))\n",
    "skewed = skewed[skewed > 0.75]\n",
    "skewed = skewed.index\n",
    "df_transformed[skewed] = np.log1p(df_transformed[skewed])\n",
    "df_transformed[num].hist( figsize = (12,12))"
   ]
  },
  {
   "cell_type": "code",
   "execution_count": 205,
   "metadata": {},
   "outputs": [],
   "source": [
    "num_feat = df_transformed.select_dtypes(include=['int64', 'float64']).columns\n",
    "\n",
    "scaler = RobustScaler()\n",
    "scaler.fit(df_transformed[num_feat])\n",
    "df_transformed[num_feat] = scaler.transform(df_transformed[num_feat])\n",
    "\n",
    "df_transformed.to_csv(f'datasets/trainV2_cleaned.csv', index=False)"
   ]
  }
 ],
 "metadata": {
  "interpreter": {
   "hash": "daf92d895fcde18d57f89d0218f3a9a9d295976f1a4debb053f154173a7edf7e"
  },
  "kernelspec": {
   "display_name": "Python 3.7.4 32-bit",
   "language": "python",
   "name": "python3"
  },
  "language_info": {
   "codemirror_mode": {
    "name": "ipython",
    "version": 3
   },
   "file_extension": ".py",
   "mimetype": "text/x-python",
   "name": "python",
   "nbconvert_exporter": "python",
   "pygments_lexer": "ipython3",
   "version": "3.10.1"
  },
  "orig_nbformat": 4
 },
 "nbformat": 4,
 "nbformat_minor": 2
}
